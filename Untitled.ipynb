{
 "cells": [
  {
   "cell_type": "code",
   "execution_count": 1,
   "metadata": {},
   "outputs": [],
   "source": [
    "import numpy as np\n",
    "import pandas as pd\n",
    "import re\n",
    "from sklearn.feature_extraction.text import TfidfVectorizer"
   ]
  },
  {
   "cell_type": "code",
   "execution_count": 4,
   "metadata": {},
   "outputs": [
    {
     "name": "stdout",
     "output_type": "stream",
     "text": [
      "        id           topic                                            authors  \\\n",
      "6528  6529  SPORT/EXERCISE                        ['Lepers R and Stapley PJ']   \n",
      "327    328            BONE  ['Jing D, Cai J, Shen G, Huang J, Li F, Li J, ...   \n",
      "3744  3745        MODELING  ['Ghezelbash, F', 'Shirazi-Adl, A', 'Arjmand, ...   \n",
      "\n",
      "                                                  title  \\\n",
      "6528  Age-related changes in conventional road versu...   \n",
      "327   The preventive effects of pulsed electromagnet...   \n",
      "3744  Effects of sex, age, body height and body weig...   \n",
      "\n",
      "                                     journal  year       vol_issue  \\\n",
      "6528  European Journal of Applied Physiology  2011  111(8):1687-94   \n",
      "327               Osteoporosis International  2011   22(6):1885-95   \n",
      "3744                 Journal Of Biomechanics  2016    49:3492-3501   \n",
      "\n",
      "                                                   doi  \n",
      "6528       http://dx.doi.org/10.1007/s00421-010-1805-z  \n",
      "327        http://dx.doi.org/10.1007/s00198-010-1447-3  \n",
      "3744  http://dx.doi.org/10.1016/j.jbiomech.2016.09.026  \n"
     ]
    }
   ],
   "source": [
    "data = pd.read_csv(r'C:\\Users\\ryans\\Pro Drive\\Subreddit\\code_repo\\literature_update\\RYANDATA_trim.csv')\n",
    "\n",
    "columns = data.columns"
   ]
  },
  {
   "cell_type": "code",
   "execution_count": 27,
   "metadata": {},
   "outputs": [],
   "source": [
    "papers = pd.DataFrame(data['title'])\n",
    "topic = pd.DataFrame(data['topic'])\n"
   ]
  },
  {
   "cell_type": "code",
   "execution_count": 18,
   "metadata": {},
   "outputs": [
    {
     "name": "stdout",
     "output_type": "stream",
     "text": [
      "7200\n",
      "7200\n"
     ]
    },
    {
     "data": {
      "text/html": [
       "<div>\n",
       "<style scoped>\n",
       "    .dataframe tbody tr th:only-of-type {\n",
       "        vertical-align: middle;\n",
       "    }\n",
       "\n",
       "    .dataframe tbody tr th {\n",
       "        vertical-align: top;\n",
       "    }\n",
       "\n",
       "    .dataframe thead th {\n",
       "        text-align: right;\n",
       "    }\n",
       "</style>\n",
       "<table border=\"1\" class=\"dataframe\">\n",
       "  <thead>\n",
       "    <tr style=\"text-align: right;\">\n",
       "      <th></th>\n",
       "      <th>title</th>\n",
       "    </tr>\n",
       "  </thead>\n",
       "  <tbody>\n",
       "    <tr>\n",
       "      <th>0</th>\n",
       "      <td>Mechanical force enhanced bony formation in de...</td>\n",
       "    </tr>\n",
       "    <tr>\n",
       "      <th>1</th>\n",
       "      <td>Influence of gender and fixation stability on ...</td>\n",
       "    </tr>\n",
       "    <tr>\n",
       "      <th>2</th>\n",
       "      <td>Bone remodelling analysis of the humerus after...</td>\n",
       "    </tr>\n",
       "    <tr>\n",
       "      <th>3</th>\n",
       "      <td>Competitive protein binding influences heparin...</td>\n",
       "    </tr>\n",
       "    <tr>\n",
       "      <th>4</th>\n",
       "      <td>An innovative approach for enhancing bone defe...</td>\n",
       "    </tr>\n",
       "    <tr>\n",
       "      <th>5</th>\n",
       "      <td>Effects of interfacial conditions on shape opt...</td>\n",
       "    </tr>\n",
       "    <tr>\n",
       "      <th>6</th>\n",
       "      <td>Effect of x-rays and gamma radiations on the b...</td>\n",
       "    </tr>\n",
       "    <tr>\n",
       "      <th>7</th>\n",
       "      <td>Exercise initiated after the onset of insulin ...</td>\n",
       "    </tr>\n",
       "    <tr>\n",
       "      <th>8</th>\n",
       "      <td>Effects of plantar vibration on bone and deep ...</td>\n",
       "    </tr>\n",
       "    <tr>\n",
       "      <th>9</th>\n",
       "      <td>Bone microarchitecture and biomechanics of the...</td>\n",
       "    </tr>\n",
       "    <tr>\n",
       "      <th>10</th>\n",
       "      <td>Can histological and histomorphometrical chang...</td>\n",
       "    </tr>\n",
       "    <tr>\n",
       "      <th>11</th>\n",
       "      <td>Surface zwitterionization of customized 3d ti6...</td>\n",
       "    </tr>\n",
       "    <tr>\n",
       "      <th>12</th>\n",
       "      <td>Active vitamin d3 administration improves loco...</td>\n",
       "    </tr>\n",
       "    <tr>\n",
       "      <th>13</th>\n",
       "      <td>Influence of bone microstructure on the mechan...</td>\n",
       "    </tr>\n",
       "    <tr>\n",
       "      <th>14</th>\n",
       "      <td>A biomechanical study of proximal tibia bone g...</td>\n",
       "    </tr>\n",
       "    <tr>\n",
       "      <th>15</th>\n",
       "      <td>Glucocorticoid-induced osteoporosis in growing...</td>\n",
       "    </tr>\n",
       "    <tr>\n",
       "      <th>16</th>\n",
       "      <td>Effect of modifications in mineralized collage...</td>\n",
       "    </tr>\n",
       "    <tr>\n",
       "      <th>17</th>\n",
       "      <td>Factors associated with proximal femur fractur...</td>\n",
       "    </tr>\n",
       "    <tr>\n",
       "      <th>18</th>\n",
       "      <td>Potential pathogenic mechanism for stress frac...</td>\n",
       "    </tr>\n",
       "    <tr>\n",
       "      <th>19</th>\n",
       "      <td>Effect of the lipoxygenase-inhibitors baicalei...</td>\n",
       "    </tr>\n",
       "    <tr>\n",
       "      <th>20</th>\n",
       "      <td>An intramedullary locking nail for standardize...</td>\n",
       "    </tr>\n",
       "    <tr>\n",
       "      <th>21</th>\n",
       "      <td>Obesity does not affect the healing of femur f...</td>\n",
       "    </tr>\n",
       "    <tr>\n",
       "      <th>22</th>\n",
       "      <td>Diverse aquatic adaptations in nothosaurus spp</td>\n",
       "    </tr>\n",
       "    <tr>\n",
       "      <th>23</th>\n",
       "      <td>Lysophosphatidic acid analogue rather than lys...</td>\n",
       "    </tr>\n",
       "    <tr>\n",
       "      <th>24</th>\n",
       "      <td>Biomechanical and histomorphometrical evaluati...</td>\n",
       "    </tr>\n",
       "    <tr>\n",
       "      <th>25</th>\n",
       "      <td>A model-based approach to investigate the effe...</td>\n",
       "    </tr>\n",
       "    <tr>\n",
       "      <th>26</th>\n",
       "      <td>Phosphorylation of extracellular bone matrix p...</td>\n",
       "    </tr>\n",
       "    <tr>\n",
       "      <th>27</th>\n",
       "      <td>Osteoporosis is associated with metabolic synd...</td>\n",
       "    </tr>\n",
       "    <tr>\n",
       "      <th>28</th>\n",
       "      <td>Subchondral trabecular rod loss and plate thic...</td>\n",
       "    </tr>\n",
       "    <tr>\n",
       "      <th>29</th>\n",
       "      <td>Do stress-whitening and optical clearing of co...</td>\n",
       "    </tr>\n",
       "    <tr>\n",
       "      <th>...</th>\n",
       "      <td>...</td>\n",
       "    </tr>\n",
       "    <tr>\n",
       "      <th>70</th>\n",
       "      <td>Extracts from plastrum testudinis reverse gluc...</td>\n",
       "    </tr>\n",
       "    <tr>\n",
       "      <th>71</th>\n",
       "      <td>Strain rate influence on human cortical bone t...</td>\n",
       "    </tr>\n",
       "    <tr>\n",
       "      <th>72</th>\n",
       "      <td>Protection from glucocorticoid-induced osteopo...</td>\n",
       "    </tr>\n",
       "    <tr>\n",
       "      <th>73</th>\n",
       "      <td>Magnetic forces and magnetized biomaterials pr...</td>\n",
       "    </tr>\n",
       "    <tr>\n",
       "      <th>74</th>\n",
       "      <td>Increased callus mass and enhanced strength du...</td>\n",
       "    </tr>\n",
       "    <tr>\n",
       "      <th>75</th>\n",
       "      <td>Does cefuroxime alter fracture healing in vivo...</td>\n",
       "    </tr>\n",
       "    <tr>\n",
       "      <th>76</th>\n",
       "      <td>Effects of doxorubicin administration on bone ...</td>\n",
       "    </tr>\n",
       "    <tr>\n",
       "      <th>77</th>\n",
       "      <td>Effectiveness of tissue engineered chitosan-ge...</td>\n",
       "    </tr>\n",
       "    <tr>\n",
       "      <th>78</th>\n",
       "      <td>Combining specimen-specific finite-element mod...</td>\n",
       "    </tr>\n",
       "    <tr>\n",
       "      <th>79</th>\n",
       "      <td>Substance p modulates bone remodeling properti...</td>\n",
       "    </tr>\n",
       "    <tr>\n",
       "      <th>80</th>\n",
       "      <td>The response of pediatric ribs to quasi-static...</td>\n",
       "    </tr>\n",
       "    <tr>\n",
       "      <th>81</th>\n",
       "      <td>Double porosity in fluid-saturated elastic med...</td>\n",
       "    </tr>\n",
       "    <tr>\n",
       "      <th>82</th>\n",
       "      <td>Evaluation of calcium phosphate and calcium su...</td>\n",
       "    </tr>\n",
       "    <tr>\n",
       "      <th>83</th>\n",
       "      <td>Ladder-climbing training prevents bone loss an...</td>\n",
       "    </tr>\n",
       "    <tr>\n",
       "      <th>84</th>\n",
       "      <td>Altered ultrastructure, density and cathepsin ...</td>\n",
       "    </tr>\n",
       "    <tr>\n",
       "      <th>85</th>\n",
       "      <td>A fatigue loading model for investigation of i...</td>\n",
       "    </tr>\n",
       "    <tr>\n",
       "      <th>86</th>\n",
       "      <td>Sclerostin antibody increases callus size and ...</td>\n",
       "    </tr>\n",
       "    <tr>\n",
       "      <th>87</th>\n",
       "      <td>Accelerating numerical simulations of strain-a...</td>\n",
       "    </tr>\n",
       "    <tr>\n",
       "      <th>88</th>\n",
       "      <td>The effect of once-yearly zoledronic acid on h...</td>\n",
       "    </tr>\n",
       "    <tr>\n",
       "      <th>89</th>\n",
       "      <td>Biomechanical properties of bone are impaired ...</td>\n",
       "    </tr>\n",
       "    <tr>\n",
       "      <th>90</th>\n",
       "      <td>Dietary advanced glycation end products have s...</td>\n",
       "    </tr>\n",
       "    <tr>\n",
       "      <th>91</th>\n",
       "      <td>Femoral strength changes faster with age than ...</td>\n",
       "    </tr>\n",
       "    <tr>\n",
       "      <th>92</th>\n",
       "      <td>Systemic leptin administration in supraphysiol...</td>\n",
       "    </tr>\n",
       "    <tr>\n",
       "      <th>93</th>\n",
       "      <td>Age-related changes in bone density, geometry ...</td>\n",
       "    </tr>\n",
       "    <tr>\n",
       "      <th>94</th>\n",
       "      <td>Time since onset of walking predicts tibial bo...</td>\n",
       "    </tr>\n",
       "    <tr>\n",
       "      <th>95</th>\n",
       "      <td>Physical activity alters limb bone structure b...</td>\n",
       "    </tr>\n",
       "    <tr>\n",
       "      <th>96</th>\n",
       "      <td>Influence of vertical trabeculae on the compre...</td>\n",
       "    </tr>\n",
       "    <tr>\n",
       "      <th>97</th>\n",
       "      <td>Bone morphogenetic proteins-7 and-2 in the tre...</td>\n",
       "    </tr>\n",
       "    <tr>\n",
       "      <th>98</th>\n",
       "      <td>Strain dependent differences in glucocorticoid...</td>\n",
       "    </tr>\n",
       "    <tr>\n",
       "      <th>99</th>\n",
       "      <td>Biomechanical assessment for healing progressi...</td>\n",
       "    </tr>\n",
       "  </tbody>\n",
       "</table>\n",
       "<p>100 rows × 1 columns</p>\n",
       "</div>"
      ],
      "text/plain": [
       "                                                title\n",
       "0   Mechanical force enhanced bony formation in de...\n",
       "1   Influence of gender and fixation stability on ...\n",
       "2   Bone remodelling analysis of the humerus after...\n",
       "3   Competitive protein binding influences heparin...\n",
       "4   An innovative approach for enhancing bone defe...\n",
       "5   Effects of interfacial conditions on shape opt...\n",
       "6   Effect of x-rays and gamma radiations on the b...\n",
       "7   Exercise initiated after the onset of insulin ...\n",
       "8   Effects of plantar vibration on bone and deep ...\n",
       "9   Bone microarchitecture and biomechanics of the...\n",
       "10  Can histological and histomorphometrical chang...\n",
       "11  Surface zwitterionization of customized 3d ti6...\n",
       "12  Active vitamin d3 administration improves loco...\n",
       "13  Influence of bone microstructure on the mechan...\n",
       "14  A biomechanical study of proximal tibia bone g...\n",
       "15  Glucocorticoid-induced osteoporosis in growing...\n",
       "16  Effect of modifications in mineralized collage...\n",
       "17  Factors associated with proximal femur fractur...\n",
       "18  Potential pathogenic mechanism for stress frac...\n",
       "19  Effect of the lipoxygenase-inhibitors baicalei...\n",
       "20  An intramedullary locking nail for standardize...\n",
       "21  Obesity does not affect the healing of femur f...\n",
       "22     Diverse aquatic adaptations in nothosaurus spp\n",
       "23  Lysophosphatidic acid analogue rather than lys...\n",
       "24  Biomechanical and histomorphometrical evaluati...\n",
       "25  A model-based approach to investigate the effe...\n",
       "26  Phosphorylation of extracellular bone matrix p...\n",
       "27  Osteoporosis is associated with metabolic synd...\n",
       "28  Subchondral trabecular rod loss and plate thic...\n",
       "29  Do stress-whitening and optical clearing of co...\n",
       "..                                                ...\n",
       "70  Extracts from plastrum testudinis reverse gluc...\n",
       "71  Strain rate influence on human cortical bone t...\n",
       "72  Protection from glucocorticoid-induced osteopo...\n",
       "73  Magnetic forces and magnetized biomaterials pr...\n",
       "74  Increased callus mass and enhanced strength du...\n",
       "75  Does cefuroxime alter fracture healing in vivo...\n",
       "76  Effects of doxorubicin administration on bone ...\n",
       "77  Effectiveness of tissue engineered chitosan-ge...\n",
       "78  Combining specimen-specific finite-element mod...\n",
       "79  Substance p modulates bone remodeling properti...\n",
       "80  The response of pediatric ribs to quasi-static...\n",
       "81  Double porosity in fluid-saturated elastic med...\n",
       "82  Evaluation of calcium phosphate and calcium su...\n",
       "83  Ladder-climbing training prevents bone loss an...\n",
       "84  Altered ultrastructure, density and cathepsin ...\n",
       "85  A fatigue loading model for investigation of i...\n",
       "86  Sclerostin antibody increases callus size and ...\n",
       "87  Accelerating numerical simulations of strain-a...\n",
       "88  The effect of once-yearly zoledronic acid on h...\n",
       "89  Biomechanical properties of bone are impaired ...\n",
       "90  Dietary advanced glycation end products have s...\n",
       "91  Femoral strength changes faster with age than ...\n",
       "92  Systemic leptin administration in supraphysiol...\n",
       "93  Age-related changes in bone density, geometry ...\n",
       "94  Time since onset of walking predicts tibial bo...\n",
       "95  Physical activity alters limb bone structure b...\n",
       "96  Influence of vertical trabeculae on the compre...\n",
       "97  Bone morphogenetic proteins-7 and-2 in the tre...\n",
       "98  Strain dependent differences in glucocorticoid...\n",
       "99  Biomechanical assessment for healing progressi...\n",
       "\n",
       "[100 rows x 1 columns]"
      ]
     },
     "execution_count": 18,
     "metadata": {},
     "output_type": "execute_result"
    }
   ],
   "source": [
    "print(len(papers))\n",
    "print(len(topic))\n",
    "topic.head(2)\n",
    "papers[0:100]"
   ]
  },
  {
   "cell_type": "code",
   "execution_count": 19,
   "metadata": {},
   "outputs": [
    {
     "data": {
      "text/plain": [
       "array(['BONE', 'CARDIO', 'CELLULAR', 'ERGONOMICS', 'EVO/COMP',\n",
       "       'HAND/FOOT', 'HEAD', 'IMPACT/TRAUMA', 'JOINT/CARTILAGE',\n",
       "       'MODELING', 'MUSCLE', 'NEURAL', 'ORTHOPAEDICS', 'POSTURE/BALANCE',\n",
       "       'REHABILITATION', 'ROBOTICS', 'SPORT/EXERCISE', 'TENDON/LIGAMENT'],\n",
       "      dtype=object)"
      ]
     },
     "execution_count": 19,
     "metadata": {},
     "output_type": "execute_result"
    }
   ],
   "source": [
    "topic['topic'].unique()"
   ]
  },
  {
   "cell_type": "code",
   "execution_count": 20,
   "metadata": {},
   "outputs": [],
   "source": [
    "from sklearn.preprocessing import LabelEncoder\n",
    "\n",
    "feat = ['topic']\n",
    "for x in feat:\n",
    "    le = LabelEncoder()\n",
    "    le.fit(list(topic[x].values))\n",
    "    topic[x] = le.transform(list(topic[x]))"
   ]
  },
  {
   "cell_type": "code",
   "execution_count": 21,
   "metadata": {
    "scrolled": true
   },
   "outputs": [
    {
     "data": {
      "text/plain": [
       "array([ 0,  1,  2,  3,  4,  5,  6,  7,  8,  9, 10, 11, 12, 13, 14, 15, 16,\n",
       "       17], dtype=int64)"
      ]
     },
     "execution_count": 21,
     "metadata": {},
     "output_type": "execute_result"
    }
   ],
   "source": [
    "topic['topic'].unique()"
   ]
  },
  {
   "cell_type": "code",
   "execution_count": 22,
   "metadata": {},
   "outputs": [
    {
     "name": "stderr",
     "output_type": "stream",
     "text": [
      "C:\\Users\\ryans\\Anaconda3\\lib\\site-packages\\sklearn\\preprocessing\\label.py:151: DeprecationWarning: The truth value of an empty array is ambiguous. Returning False, but in future this will result in an error. Use `array.size > 0` to check that an array is not empty.\n",
      "  if diff:\n"
     ]
    },
    {
     "data": {
      "text/plain": [
       "'BONE'"
      ]
     },
     "execution_count": 22,
     "metadata": {},
     "output_type": "execute_result"
    }
   ],
   "source": [
    "le.inverse_transform([0])[0]"
   ]
  },
  {
   "cell_type": "code",
   "execution_count": 30,
   "metadata": {},
   "outputs": [
    {
     "name": "stdout",
     "output_type": "stream",
     "text": [
      "0    Mechanical force enhanced bony formation in de...\n",
      "1    Influence of gender and fixation stability on ...\n",
      "2    Bone remodelling analysis of the humerus after...\n",
      "3    Competitive protein binding influences heparin...\n",
      "4    An innovative approach for enhancing bone defe...\n",
      "Name: everything, dtype: object\n"
     ]
    }
   ],
   "source": [
    "data['everything'] = pd.DataFrame(data['title'] + ' ' + data['authors'])\n",
    "author = pd.DataFrame(data['authors']) #from earlier\n",
    "print(data['everything'].head(5))"
   ]
  },
  {
   "cell_type": "code",
   "execution_count": 31,
   "metadata": {},
   "outputs": [],
   "source": [
    "def change(t):\n",
    "    t = t.split()\n",
    "    return ' '.join([(i) for (i) in t if i not in stop])"
   ]
  },
  {
   "cell_type": "code",
   "execution_count": 56,
   "metadata": {},
   "outputs": [],
   "source": [
    "# import nltk\n",
    "# nltk.download('stopwords')\n",
    "from nltk.corpus import stopwords\n",
    "stop = list(stopwords.words('english'))\n",
    "stop.append('The')\n",
    "stop.append('An')\n",
    "stop.append('A')\n",
    "stop.append('Do')\n",
    "stop.append('Is')"
   ]
  },
  {
   "cell_type": "code",
   "execution_count": 55,
   "metadata": {},
   "outputs": [
    {
     "data": {
      "text/plain": [
       "0       Mechanical force enhanced bony formation defec...\n",
       "1       Influence gender fixation stability bone defec...\n",
       "2       Bone remodelling analysis humerus shoulder art...\n",
       "3       Competitive protein binding influences heparin...\n",
       "4       innovative approach enhancing bone defect heal...\n",
       "5       Effects interfacial conditions shape optimizat...\n",
       "6       Effect x-rays gamma radiations bone mechanical...\n",
       "7       Exercise initiated onset insulin resistance im...\n",
       "8       Effects plantar vibration bone deep fascia rat...\n",
       "9       Bone microarchitecture biomechanics necrotic f...\n",
       "10      Can histological histomorphometrical changes i...\n",
       "11      Surface zwitterionization customized 3d ti6al4...\n",
       "12      Active vitamin d3 administration improves loco...\n",
       "13      Influence bone microstructure mechanical prope...\n",
       "14      biomechanical study proximal tibia bone grafti...\n",
       "15      Glucocorticoid-induced osteoporosis growing ra...\n",
       "16      Effect modifications mineralized collagen fibr...\n",
       "17      Factors associated proximal femur fracture det...\n",
       "18      Potential pathogenic mechanism stress fracture...\n",
       "19      Effect lipoxygenase-inhibitors baicalein zileu...\n",
       "20      intramedullary locking nail standardized fixat...\n",
       "21      Obesity affect healing femur fractures mice ['...\n",
       "22      Diverse aquatic adaptations nothosaurus spp ['...\n",
       "23      Lysophosphatidic acid analogue rather lysophos...\n",
       "24      Biomechanical histomorphometrical evaluation t...\n",
       "25      model-based approach investigate effect long b...\n",
       "26      Phosphorylation extracellular bone matrix prot...\n",
       "27      Osteoporosis associated metabolic syndrome ind...\n",
       "28      Subchondral trabecular rod loss plate thickeni...\n",
       "29      stress-whitening optical clearing collagenous ...\n",
       "                              ...                        \n",
       "7170    biomechanical morphological characteristics li...\n",
       "7171    Biomechanical testing three alternative quadru...\n",
       "7172    omnidirectional dic system dynamic strain meas...\n",
       "7173    Effects graft preconditioning gamma-irradiated...\n",
       "7174    Effect posterior cruciate ligament creep muscu...\n",
       "7175    Biomechanical comparison: single-bundle versus...\n",
       "7176    Is anterolateral ligament reconstruction requi...\n",
       "7177    impact different peripheral suture techniques ...\n",
       "7178    Does meniscal pathology alter gait knee biomec...\n",
       "7179    In situ forces length patterns fibular collate...\n",
       "7180    Results multiple ligament injured knees operat...\n",
       "7181    Anatomic histologic analysis mid-substance fan...\n",
       "7182    Dancers achilles tendinopathy demonstrate alte...\n",
       "7183    Histopathological changes human posterior cruc...\n",
       "7184    Biomechanical structural response healing achi...\n",
       "7185    Biomechanical characterization model noninvasi...\n",
       "7186    Stability knee ligament complex thiel-embalmed...\n",
       "7187    Study patellar kinematics reconstruction media...\n",
       "7188    Analysis anatomic positioning computer-assiste...\n",
       "7189    influence knee flexion angle graft fixation ro...\n",
       "7190    Biomechanical analysis chlorhexidine power irr...\n",
       "7191    Limited ankle dorsiflexion increases risk mid-...\n",
       "7192    Anterolateral ligament reconstruction techniqu...\n",
       "7193    Rocker shoes reduce achilles tendon load runni...\n",
       "7194    Real-time sonoelastography novel follow-up met...\n",
       "7195    High-load preconditioning human soft tissue ha...\n",
       "7196    Elbow ulnar collateral ligament reconstruction...\n",
       "7197    Single- versus double-bundle acl reconstructio...\n",
       "7198    Anterior cruciate ligament reconstruction pedi...\n",
       "7199    Biomechanical analysis simulated clinical test...\n",
       "Name: everything, Length: 7200, dtype: object"
      ]
     },
     "execution_count": 55,
     "metadata": {},
     "output_type": "execute_result"
    }
   ],
   "source": [
    "data['everything'].apply(change)"
   ]
  },
  {
   "cell_type": "code",
   "execution_count": 57,
   "metadata": {},
   "outputs": [
    {
     "data": {
      "text/plain": [
       "(7200, 11594)"
      ]
     },
     "execution_count": 57,
     "metadata": {},
     "output_type": "execute_result"
    }
   ],
   "source": [
    "from sklearn.feature_extraction.text import TfidfVectorizer\n",
    "vectorizer = TfidfVectorizer(min_df=2, max_features=70000, strip_accents='unicode',lowercase =True,\n",
    "                            analyzer='word', token_pattern=r'\\w+', use_idf=True, \n",
    "                            smooth_idf=True, sublinear_tf=True, stop_words = 'english')\n",
    "vectors = vectorizer.fit_transform(data['everything'])\n",
    "vectors.shape"
   ]
  },
  {
   "cell_type": "code",
   "execution_count": 60,
   "metadata": {},
   "outputs": [
    {
     "name": "stdout",
     "output_type": "stream",
     "text": [
      "(5760, 11594)\n",
      "(5760,)\n",
      "(1440, 11594)\n",
      "(1440,)\n"
     ]
    },
    {
     "data": {
      "text/plain": [
       "pandas.core.frame.DataFrame"
      ]
     },
     "execution_count": 60,
     "metadata": {},
     "output_type": "execute_result"
    }
   ],
   "source": [
    "from sklearn.naive_bayes import MultinomialNB\n",
    "from sklearn import metrics\n",
    "from sklearn.cross_validation import StratifiedKFold, cross_val_score, train_test_split\n",
    "\n",
    "X_train, X_test, y_train, y_test = train_test_split(vectors, topic['topic'], test_size=0.2)\n",
    "\n",
    "print (X_train.shape)\n",
    "print (y_train.shape)\n",
    "print (X_test.shape)\n",
    "print (y_test.shape)\n",
    "\n",
    "type(papers)"
   ]
  },
  {
   "cell_type": "code",
   "execution_count": 61,
   "metadata": {},
   "outputs": [
    {
     "name": "stdout",
     "output_type": "stream",
     "text": [
      "0.6709335455092139\n",
      "0.6743055555555556\n"
     ]
    }
   ],
   "source": [
    "clf = MultinomialNB(alpha=.45)\n",
    "clf.fit(X_train, y_train)\n",
    "pred = clf.predict(X_test)\n",
    "print (metrics.f1_score(y_test, pred, average='macro'))\n",
    "print (metrics.accuracy_score(y_test, pred))"
   ]
  },
  {
   "cell_type": "code",
   "execution_count": 62,
   "metadata": {},
   "outputs": [
    {
     "name": "stdout",
     "output_type": "stream",
     "text": [
      "0.6848859966127168\n",
      "0.6861111111111111\n"
     ]
    }
   ],
   "source": [
    "from sklearn import linear_model\n",
    "clf = linear_model.LogisticRegression(solver= 'sag',max_iter=200,random_state=450)\n",
    "clf.fit(X_train, y_train)\n",
    "pred = clf.predict(X_test)\n",
    "print (metrics.f1_score(y_test, pred, average='macro'))\n",
    "print (metrics.accuracy_score(y_test, pred))"
   ]
  },
  {
   "cell_type": "code",
   "execution_count": 77,
   "metadata": {},
   "outputs": [
    {
     "name": "stdout",
     "output_type": "stream",
     "text": [
      "(1, 11594)\n",
      "['MODELING']\n"
     ]
    }
   ],
   "source": [
    "text = ['neuromechanical effort proxies estimation computational']\n",
    "text[0] = text[0].lower()\n",
    "#text = list(text)\n",
    "s = (vectorizer.transform(text))\n",
    "#s = vectorizer.fit_transform(df)\n",
    "print (s.shape)\n",
    "d = (clf.predict(s))\n",
    "\n",
    "print(d)"
   ]
  },
  {
   "cell_type": "code",
   "execution_count": 79,
   "metadata": {},
   "outputs": [
    {
     "name": "stdout",
     "output_type": "stream",
     "text": [
      "Model Saved\n"
     ]
    }
   ],
   "source": [
    "from sklearn.externals import joblib\n",
    "joblib.dump(clf, 'best.pkl')\n",
    "print (\"Model Saved\")\n",
    "\n"
   ]
  },
  {
   "cell_type": "code",
   "execution_count": 80,
   "metadata": {},
   "outputs": [
    {
     "data": {
      "text/plain": [
       "LogisticRegression(C=1.0, class_weight=None, dual=False, fit_intercept=True,\n",
       "          intercept_scaling=1, max_iter=200, multi_class='ovr', n_jobs=1,\n",
       "          penalty='l2', random_state=450, solver='sag', tol=0.0001,\n",
       "          verbose=0, warm_start=False)"
      ]
     },
     "execution_count": 80,
     "metadata": {},
     "output_type": "execute_result"
    }
   ],
   "source": [
    "clf = joblib.load('best.pkl')\n",
    "clf"
   ]
  },
  {
   "cell_type": "code",
   "execution_count": 81,
   "metadata": {},
   "outputs": [
    {
     "name": "stdout",
     "output_type": "stream",
     "text": [
      "0.678227848011721\n",
      "0.6784722222222223\n"
     ]
    }
   ],
   "source": [
    "from sklearn.neural_network import MLPClassifier\n",
    "clf = MLPClassifier(activation='logistic', alpha=0.00003, batch_size='auto',\n",
    "                   beta_1=0.9, beta_2=0.999, early_stopping=False,\n",
    "                   epsilon=1e-08, hidden_layer_sizes=(20,), learning_rate='constant',\n",
    "                   learning_rate_init=0.003, max_iter=200, momentum=0.9,\n",
    "                   nesterovs_momentum=True, power_t=0.5, random_state=1, shuffle=True,\n",
    "                   solver='adam', tol=0.0001, validation_fraction=0.1, verbose=False,\n",
    "                   warm_start=False)\n",
    "clf.fit(X_train, y_train) \n",
    "pred = clf.predict(X_test)\n",
    "print (metrics.f1_score(y_test, pred, average='macro'))\n",
    "print (metrics.accuracy_score(y_test, pred))"
   ]
  },
  {
   "cell_type": "code",
   "execution_count": 90,
   "metadata": {},
   "outputs": [
    {
     "name": "stdout",
     "output_type": "stream",
     "text": [
      "(1, 11594)\n",
      "['ORTHOPAEDICS']\n"
     ]
    }
   ],
   "source": [
    "text = ['prosthesis']\n",
    "#text = list(text)\n",
    "s = (vectorizer.transform(text))\n",
    "#s = vectorizer.fit_transform(df)\n",
    "print (s.shape)\n",
    "d = (clf.predict(s))\n",
    "print(d)"
   ]
  },
  {
   "cell_type": "code",
   "execution_count": 96,
   "metadata": {},
   "outputs": [
    {
     "ename": "ModuleNotFoundError",
     "evalue": "No module named 'xgboost'",
     "output_type": "error",
     "traceback": [
      "\u001b[1;31m---------------------------------------------------------------------------\u001b[0m",
      "\u001b[1;31mModuleNotFoundError\u001b[0m                       Traceback (most recent call last)",
      "\u001b[1;32m<ipython-input-96-f85108a0ffed>\u001b[0m in \u001b[0;36m<module>\u001b[1;34m()\u001b[0m\n\u001b[1;32m----> 1\u001b[1;33m \u001b[1;32mfrom\u001b[0m \u001b[0mxgboost\u001b[0m \u001b[1;32mimport\u001b[0m \u001b[0mxgboost\u001b[0m \u001b[1;32mas\u001b[0m \u001b[0mxgb\u001b[0m\u001b[1;33m\u001b[0m\u001b[0m\n\u001b[0m\u001b[0;32m      2\u001b[0m \u001b[0mdtrain\u001b[0m \u001b[1;33m=\u001b[0m \u001b[0mxgb\u001b[0m\u001b[1;33m.\u001b[0m\u001b[0mDMatrix\u001b[0m\u001b[1;33m(\u001b[0m\u001b[0mdata\u001b[0m\u001b[1;33m=\u001b[0m\u001b[0mX_train\u001b[0m\u001b[1;33m,\u001b[0m \u001b[0mlabel\u001b[0m \u001b[1;33m=\u001b[0m \u001b[0my_train\u001b[0m\u001b[1;33m)\u001b[0m\u001b[1;33m\u001b[0m\u001b[0m\n\u001b[0;32m      3\u001b[0m \u001b[0mdtest\u001b[0m \u001b[1;33m=\u001b[0m \u001b[0mxgb\u001b[0m\u001b[1;33m.\u001b[0m\u001b[0mDMatrix\u001b[0m\u001b[1;33m(\u001b[0m\u001b[0mdata\u001b[0m\u001b[1;33m=\u001b[0m\u001b[0mX_test\u001b[0m\u001b[1;33m)\u001b[0m\u001b[1;33m\u001b[0m\u001b[0m\n",
      "\u001b[1;31mModuleNotFoundError\u001b[0m: No module named 'xgboost'"
     ]
    }
   ],
   "source": [
    "from xgboost import xgboost as xgb\n",
    "dtrain = xgb.DMatrix(data=X_train, label = y_train)\n",
    "dtest = xgb.DMatrix(data=X_test)"
   ]
  },
  {
   "cell_type": "code",
   "execution_count": null,
   "metadata": {},
   "outputs": [],
   "source": [
    "params = {\n",
    "    'objective':'multi:softmax',\n",
    "    'eval_metric':'mlogloss',\n",
    "    'eta':0.025,\n",
    "    'max_depth':10,\n",
    "    'subsample':0.7,\n",
    "    'colsample_bytree':0.7,\n",
    "    'min_child_weight':5,\n",
    "    'num_class': 32\n",
    "    \n",
    "}"
   ]
  },
  {
   "cell_type": "code",
   "execution_count": null,
   "metadata": {},
   "outputs": [],
   "source": [
    "bst = xgb.cv(params, dtrain, num_boost_round=100,\n",
    "early_stopping_rounds=40, nfold=5, verbose_eval=10)\n",
    "\n",
    "bst_train = xgb.train(params, dtrain, num_boost_round=10)\n",
    "\n",
    "p_test = bst_train.predict(dtest)\n"
   ]
  },
  {
   "cell_type": "code",
   "execution_count": null,
   "metadata": {},
   "outputs": [],
   "source": [
    "\n",
    "print (metrics.f1_score(y_test, p_test, average='macro'))\n",
    "print (metrics.accuracy_score(y_test, p_test))"
   ]
  }
 ],
 "metadata": {
  "kernelspec": {
   "display_name": "Python 3",
   "language": "python",
   "name": "python3"
  },
  "language_info": {
   "codemirror_mode": {
    "name": "ipython",
    "version": 3
   },
   "file_extension": ".py",
   "mimetype": "text/x-python",
   "name": "python",
   "nbconvert_exporter": "python",
   "pygments_lexer": "ipython3",
   "version": "3.6.4"
  },
  "varInspector": {
   "cols": {
    "lenName": 16,
    "lenType": 16,
    "lenVar": 40
   },
   "kernels_config": {
    "python": {
     "delete_cmd_postfix": "",
     "delete_cmd_prefix": "del ",
     "library": "var_list.py",
     "varRefreshCmd": "print(var_dic_list())"
    },
    "r": {
     "delete_cmd_postfix": ") ",
     "delete_cmd_prefix": "rm(",
     "library": "var_list.r",
     "varRefreshCmd": "cat(var_dic_list()) "
    }
   },
   "types_to_exclude": [
    "module",
    "function",
    "builtin_function_or_method",
    "instance",
    "_Feature"
   ],
   "window_display": false
  }
 },
 "nbformat": 4,
 "nbformat_minor": 2
}
