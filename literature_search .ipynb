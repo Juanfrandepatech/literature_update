{
 "cells": [
  {
   "cell_type": "markdown",
   "metadata": {},
   "source": [
    "# Search Pubmed"
   ]
  },
  {
   "cell_type": "markdown",
   "metadata": {},
   "source": [
    "## Define Search Criteria"
   ]
  },
  {
   "cell_type": "code",
   "execution_count": 6,
   "metadata": {},
   "outputs": [],
   "source": [
    "from Bio import Entrez\n",
    "import numpy as np\n",
    "\n",
    "def search(query):\n",
    "    Entrez.email = 'your.email@example.com'\n",
    "    handle = Entrez.esearch(db='pubmed', \n",
    "                            sort='most recent', \n",
    "                            retmax='5000',\n",
    "                            retmode='xml', \n",
    "                            reldate = 7, #only within n days from now\n",
    "                            term=query)\n",
    "    results = Entrez.read(handle)\n",
    "    return results\n",
    "\n",
    "#search terms (can test string with Pubmed Advanced Search)\n",
    "search_results = search('(Biomech*[Title/Abstract] OR locomot*[Title/Abstract])')"
   ]
  },
  {
   "cell_type": "markdown",
   "metadata": {},
   "source": [
    "## Perform Search and Save Paper Titles"
   ]
  },
  {
   "cell_type": "code",
   "execution_count": 7,
   "metadata": {},
   "outputs": [
    {
     "name": "stdout",
     "output_type": "stream",
     "text": [
      "\n"
     ]
    }
   ],
   "source": [
    "\n",
    "\n",
    "def fetch_details(id_list):\n",
    "    ids = ','.join(id_list)\n",
    "    Entrez.email = 'your.email@example.com'\n",
    "    handle = Entrez.efetch(db='pubmed',\n",
    "                           retmode='xml',\n",
    "                           id=ids)\n",
    "    results = Entrez.read(handle)\n",
    "    return results\n",
    "\n",
    "id_list = search_results['IdList']\n",
    "papers = fetch_details(id_list)\n",
    "print(\"\")\n",
    "titles = [0 for i in enumerate(papers['PubmedArticle'])]\n",
    "keywords = ['' for i in enumerate(papers['PubmedArticle'])]\n",
    "authors = ['' for i in enumerate(papers['PubmedArticle'])]\n",
    "links = ['' for i in enumerate(papers['PubmedArticle'])]\n",
    "journals = ['' for i in enumerate(papers['PubmedArticle'])]\n",
    "\n",
    "\n",
    "for i, paper in enumerate(papers['PubmedArticle']):\n",
    "    titles[i] = papers['PubmedArticle'][i]['MedlineCitation']['Article']['ArticleTitle']\n",
    "\n",
    "\n",
    "\n"
   ]
  },
  {
   "cell_type": "markdown",
   "metadata": {},
   "source": [
    "## (Optional) Print Paper Info in Github Markdown Format"
   ]
  },
  {
   "cell_type": "code",
   "execution_count": 8,
   "metadata": {
    "scrolled": true
   },
   "outputs": [
    {
     "name": "stdout",
     "output_type": "stream",
     "text": [
      "NAME ERROR\n"
     ]
    }
   ],
   "source": [
    "for i, paper in enumerate(papers['PubmedArticle']):\n",
    "#     print(\"* [%s](https://www.ncbi.nlm.nih.gov/pubmed/%s)\" % (paper['MedlineCitation']['Article']['ArticleTitle'],paper['MedlineCitation']['PMID']))\n",
    "    links[i] = \"* [%s](https://www.ncbi.nlm.nih.gov/pubmed/%s)\" % (paper['MedlineCitation']['Article']['ArticleTitle'],paper['MedlineCitation']['PMID'])\n",
    "    auths = []\n",
    "    for auth in paper['MedlineCitation']['Article']['AuthorList']:\n",
    "        try:\n",
    "            auth_name = [auth['LastName'],auth['Initials']+',']\n",
    "            auth_name = ' '.join(auth_name)\n",
    "#             print(auth_name)\n",
    "            auths.append(auth_name)\n",
    "        except:\n",
    "            print('NAME ERROR')\n",
    "    authors[i] = ' '.join(auths)\n",
    "#     print('*%s*' % (paper['MedlineCitation']['Article']['Journal']['Title']) )\n",
    "    journals[i] = '*%s*' % (paper['MedlineCitation']['Article']['Journal']['Title']) \n",
    "    #store keywords \n",
    "#     print(\" - \") #uncomment to print keywords (1 of 3)\n",
    "    if paper['MedlineCitation']['KeywordList'] != []:\n",
    "        kwds = []\n",
    "        for kw in paper['MedlineCitation']['KeywordList'][0]:\n",
    "#             print(kw,'/') #uncomment to print keywords (2 of 3)\n",
    "            kwds.append(kw[:])         \n",
    "        keywords[i] = ' '.join(kwds)\n",
    "#     else:\n",
    "#         print(\"NO_KEYWORDS\") #uncomment to print keywords (3 of 3)\n",
    "#     print(\"<br>  \") #linebreak for github md \n",
    "    #end keywords test\n",
    "#     print(\"\")"
   ]
  },
  {
   "cell_type": "markdown",
   "metadata": {},
   "source": [
    "### Example:"
   ]
  },
  {
   "cell_type": "markdown",
   "metadata": {},
   "source": [
    "* [Skeletal muscles of hibernating black bears show minimal atrophy and phenotype shifting despite prolonged physical inactivity and starvation.](https://www.ncbi.nlm.nih.gov/pubmed/30998788)\n",
    "Miyazaki M,\n",
    "Shimozuru M,\n",
    "Tsubota T,\n",
    "*PloS one*\n",
    "<br>  \n",
    "\n",
    "* [Phase space methods for non-linear analysis of pedalling forces in cycling.](https://www.ncbi.nlm.nih.gov/pubmed/30998746)\n",
    "Kunert A,\n",
    "Ott M,\n",
    "Reuter T,\n",
    "Koska D,\n",
    "Maiwald C,\n",
    "*PloS one*\n",
    "<br>  "
   ]
  },
  {
   "cell_type": "markdown",
   "metadata": {},
   "source": [
    "# Clean up title and keyword strings"
   ]
  },
  {
   "cell_type": "code",
   "execution_count": 9,
   "metadata": {},
   "outputs": [
    {
     "name": "stdout",
     "output_type": "stream",
     "text": [
      "Number of Papers:  146\n"
     ]
    }
   ],
   "source": [
    "print('Number of Papers: ',np.size(titles,0)) #number of papers. limited to 500. (retmax)\n",
    "#clean up titles\n",
    "import re\n",
    "titles = [t.lower() for t in titles] #same case\n",
    "titles = [t.replace('<sub>',' ').replace('</sub>','') for t in titles] #subscript\n",
    "titles = [t.replace('<i>',' ').replace('</i>','') for t in titles] #italics\n",
    "titles = [t.replace('[','').replace(']','') for t in titles] #remove brackets from html parser\n",
    "#clean up keywords\n",
    "keywords = [k.lower() for k in keywords] #same case\n"
   ]
  },
  {
   "cell_type": "markdown",
   "metadata": {},
   "source": [
    "# Load Top-performing Model"
   ]
  },
  {
   "cell_type": "code",
   "execution_count": 10,
   "metadata": {},
   "outputs": [
    {
     "name": "stdout",
     "output_type": "stream",
     "text": [
      "LogisticRegression(C=1.0, class_weight=None, dual=False, fit_intercept=True,\n",
      "          intercept_scaling=1, max_iter=500, multi_class='multinomial',\n",
      "          n_jobs=None, penalty='l2', random_state=0, solver='sag',\n",
      "          tol=0.0001, verbose=0, warm_start=False)\n",
      "\n",
      "Loaded model from disk\n"
     ]
    }
   ],
   "source": [
    "from sklearn.externals import joblib\n",
    "model = joblib.load('Models/LogReg.pkl')\n",
    "print(model)\n",
    "print(\"\\nLoaded model from disk\")\n",
    " "
   ]
  },
  {
   "cell_type": "markdown",
   "metadata": {},
   "source": [
    "# Load Associated Vectorizer"
   ]
  },
  {
   "cell_type": "code",
   "execution_count": 11,
   "metadata": {},
   "outputs": [
    {
     "name": "stdout",
     "output_type": "stream",
     "text": [
      "\n",
      "Loaded Vectorizer/Encoder\n"
     ]
    }
   ],
   "source": [
    "from sklearn.externals import joblib\n",
    "import numpy as np\n",
    "# import numpy as np\n",
    "from sklearn.preprocessing import LabelEncoder\n",
    "#load vectorizer and label encoder\n",
    "vect = joblib.load('Models/test_many_ML_vectorizer.pkl')\n",
    "le = LabelEncoder()\n",
    "le.classes_= np.load('Models/test_many_ML_Label_Encoder.npy')\n",
    "print('\\nLoaded Vectorizer/Encoder')\n"
   ]
  },
  {
   "cell_type": "markdown",
   "metadata": {},
   "source": [
    "# Vectorize Strings"
   ]
  },
  {
   "cell_type": "code",
   "execution_count": 12,
   "metadata": {},
   "outputs": [],
   "source": [
    "#get titles for this week's literature update\n",
    "import pandas as pd\n",
    "papers_df = pd.DataFrame({'title': titles, 'keywords': keywords})\n",
    "#join keywords with titles\n",
    "# papers_df['everything'] = papers_df['title'] + ' ' + papers_df['keywords']\n",
    "#TITLES ONLY\n",
    "papers_df['everything'] = papers_df['title']\n",
    "\n",
    "#vectorize \n",
    "titles_vec = vect.transform(papers_df['everything'])\n",
    "#OR if you don't want to use just the title:\n",
    "# titles_vec = vect.transform(papers_df['title'])"
   ]
  },
  {
   "cell_type": "markdown",
   "metadata": {},
   "source": [
    "# Predict Topics For Each Paper"
   ]
  },
  {
   "cell_type": "code",
   "execution_count": 13,
   "metadata": {},
   "outputs": [
    {
     "data": {
      "text/html": [
       "<div>\n",
       "<style scoped>\n",
       "    .dataframe tbody tr th:only-of-type {\n",
       "        vertical-align: middle;\n",
       "    }\n",
       "\n",
       "    .dataframe tbody tr th {\n",
       "        vertical-align: top;\n",
       "    }\n",
       "\n",
       "    .dataframe thead th {\n",
       "        text-align: right;\n",
       "    }\n",
       "</style>\n",
       "<table border=\"1\" class=\"dataframe\">\n",
       "  <thead>\n",
       "    <tr style=\"text-align: right;\">\n",
       "      <th></th>\n",
       "      <th>title</th>\n",
       "      <th>topic</th>\n",
       "    </tr>\n",
       "  </thead>\n",
       "  <tbody>\n",
       "    <tr>\n",
       "      <th>0</th>\n",
       "      <td>mu opioid receptors in the medial habenula con...</td>\n",
       "      <td>NEURAL</td>\n",
       "    </tr>\n",
       "    <tr>\n",
       "      <th>1</th>\n",
       "      <td>a state-of-the-art review on badminton lunge a...</td>\n",
       "      <td>SPORT/EXERCISE</td>\n",
       "    </tr>\n",
       "    <tr>\n",
       "      <th>2</th>\n",
       "      <td>asymmetric biomechanical characteristics of th...</td>\n",
       "      <td>ORTHOPAEDICS/SPINE</td>\n",
       "    </tr>\n",
       "    <tr>\n",
       "      <th>3</th>\n",
       "      <td>effects of hypothyroidism on the mesenteric an...</td>\n",
       "      <td>TISSUE/BIOMATERIAL</td>\n",
       "    </tr>\n",
       "    <tr>\n",
       "      <th>4</th>\n",
       "      <td>the effects of short-term and long-term enviro...</td>\n",
       "      <td>NEURAL</td>\n",
       "    </tr>\n",
       "  </tbody>\n",
       "</table>\n",
       "</div>"
      ],
      "text/plain": [
       "                                               title               topic\n",
       "0  mu opioid receptors in the medial habenula con...              NEURAL\n",
       "1  a state-of-the-art review on badminton lunge a...      SPORT/EXERCISE\n",
       "2  asymmetric biomechanical characteristics of th...  ORTHOPAEDICS/SPINE\n",
       "3  effects of hypothyroidism on the mesenteric an...  TISSUE/BIOMATERIAL\n",
       "4  the effects of short-term and long-term enviro...              NEURAL"
      ]
     },
     "execution_count": 13,
     "metadata": {},
     "output_type": "execute_result"
    }
   ],
   "source": [
    "prediction_vec = model.predict(titles_vec)\n",
    "topics = [top_val for top_val in model.predict(titles_vec)]\n",
    "papers_df['topic'] = topics\n",
    "papers_df[['title','topic']].head()"
   ]
  },
  {
   "cell_type": "markdown",
   "metadata": {},
   "source": [
    "# Save Paper Titles and Topics"
   ]
  },
  {
   "cell_type": "markdown",
   "metadata": {},
   "source": [
    "### Store everything in DataFrame and sort by Topic"
   ]
  },
  {
   "cell_type": "code",
   "execution_count": 14,
   "metadata": {},
   "outputs": [
    {
     "name": "stdout",
     "output_type": "stream",
     "text": [
      "Filename:  Literature_Updates/2019-4-21-litupdate.csv\n"
     ]
    },
    {
     "data": {
      "text/html": [
       "<div>\n",
       "<style scoped>\n",
       "    .dataframe tbody tr th:only-of-type {\n",
       "        vertical-align: middle;\n",
       "    }\n",
       "\n",
       "    .dataframe tbody tr th {\n",
       "        vertical-align: top;\n",
       "    }\n",
       "\n",
       "    .dataframe thead th {\n",
       "        text-align: right;\n",
       "    }\n",
       "</style>\n",
       "<table border=\"1\" class=\"dataframe\">\n",
       "  <thead>\n",
       "    <tr style=\"text-align: right;\">\n",
       "      <th></th>\n",
       "      <th>title</th>\n",
       "      <th>keywords</th>\n",
       "      <th>everything</th>\n",
       "      <th>topic</th>\n",
       "      <th>authors</th>\n",
       "      <th>journal</th>\n",
       "      <th>links</th>\n",
       "    </tr>\n",
       "  </thead>\n",
       "  <tbody>\n",
       "    <tr>\n",
       "      <th>0</th>\n",
       "      <td>mu opioid receptors in the medial habenula con...</td>\n",
       "      <td></td>\n",
       "      <td>mu opioid receptors in the medial habenula con...</td>\n",
       "      <td>NEURAL</td>\n",
       "      <td>Boulos LJ, Ben Hamida S, Bailly J, Maitra M, E...</td>\n",
       "      <td>*Neuropsychopharmacology : official publicatio...</td>\n",
       "      <td>* [Mu opioid receptors in the medial habenula ...</td>\n",
       "    </tr>\n",
       "    <tr>\n",
       "      <th>1</th>\n",
       "      <td>a state-of-the-art review on badminton lunge a...</td>\n",
       "      <td>attributes badminton kinematics kinetics lunge...</td>\n",
       "      <td>a state-of-the-art review on badminton lunge a...</td>\n",
       "      <td>SPORT/EXERCISE</td>\n",
       "      <td>Lee JJJ, Loh WP,</td>\n",
       "      <td>*Computers in biology and medicine*</td>\n",
       "      <td>* [A state-of-the-art review on badminton lung...</td>\n",
       "    </tr>\n",
       "    <tr>\n",
       "      <th>2</th>\n",
       "      <td>asymmetric biomechanical characteristics of th...</td>\n",
       "      <td>adolescent idiopathic scoliosis biomechanics p...</td>\n",
       "      <td>asymmetric biomechanical characteristics of th...</td>\n",
       "      <td>ORTHOPAEDICS/SPINE</td>\n",
       "      <td>Liu Y, Pan A, Hai Y, Li W, Yin L, Guo R,</td>\n",
       "      <td>*Clinical biomechanics (Bristol, Avon)*</td>\n",
       "      <td>* [Asymmetric biomechanical characteristics of...</td>\n",
       "    </tr>\n",
       "    <tr>\n",
       "      <th>3</th>\n",
       "      <td>effects of hypothyroidism on the mesenteric an...</td>\n",
       "      <td>adipokines adipose tissue energy balance hormo...</td>\n",
       "      <td>effects of hypothyroidism on the mesenteric an...</td>\n",
       "      <td>TISSUE/BIOMATERIAL</td>\n",
       "      <td>López Fontana CM, Pennachio G, Zyla L, Toneatt...</td>\n",
       "      <td>*Molecular and cellular endocrinology*</td>\n",
       "      <td>* [Effects of hypothyroidism on the mesenteric...</td>\n",
       "    </tr>\n",
       "    <tr>\n",
       "      <th>4</th>\n",
       "      <td>the effects of short-term and long-term enviro...</td>\n",
       "      <td>anxiety cognition depression environmental enr...</td>\n",
       "      <td>the effects of short-term and long-term enviro...</td>\n",
       "      <td>NEURAL</td>\n",
       "      <td>Singhal G, Morgan J, Jawahar MC, Corrigan F, J...</td>\n",
       "      <td>*Behavioural brain research*</td>\n",
       "      <td>* [The effects of short-term and long-term env...</td>\n",
       "    </tr>\n",
       "  </tbody>\n",
       "</table>\n",
       "</div>"
      ],
      "text/plain": [
       "                                               title  \\\n",
       "0  mu opioid receptors in the medial habenula con...   \n",
       "1  a state-of-the-art review on badminton lunge a...   \n",
       "2  asymmetric biomechanical characteristics of th...   \n",
       "3  effects of hypothyroidism on the mesenteric an...   \n",
       "4  the effects of short-term and long-term enviro...   \n",
       "\n",
       "                                            keywords  \\\n",
       "0                                                      \n",
       "1  attributes badminton kinematics kinetics lunge...   \n",
       "2  adolescent idiopathic scoliosis biomechanics p...   \n",
       "3  adipokines adipose tissue energy balance hormo...   \n",
       "4  anxiety cognition depression environmental enr...   \n",
       "\n",
       "                                          everything               topic  \\\n",
       "0  mu opioid receptors in the medial habenula con...              NEURAL   \n",
       "1  a state-of-the-art review on badminton lunge a...      SPORT/EXERCISE   \n",
       "2  asymmetric biomechanical characteristics of th...  ORTHOPAEDICS/SPINE   \n",
       "3  effects of hypothyroidism on the mesenteric an...  TISSUE/BIOMATERIAL   \n",
       "4  the effects of short-term and long-term enviro...              NEURAL   \n",
       "\n",
       "                                             authors  \\\n",
       "0  Boulos LJ, Ben Hamida S, Bailly J, Maitra M, E...   \n",
       "1                                   Lee JJJ, Loh WP,   \n",
       "2           Liu Y, Pan A, Hai Y, Li W, Yin L, Guo R,   \n",
       "3  López Fontana CM, Pennachio G, Zyla L, Toneatt...   \n",
       "4  Singhal G, Morgan J, Jawahar MC, Corrigan F, J...   \n",
       "\n",
       "                                             journal  \\\n",
       "0  *Neuropsychopharmacology : official publicatio...   \n",
       "1                *Computers in biology and medicine*   \n",
       "2            *Clinical biomechanics (Bristol, Avon)*   \n",
       "3             *Molecular and cellular endocrinology*   \n",
       "4                       *Behavioural brain research*   \n",
       "\n",
       "                                               links  \n",
       "0  * [Mu opioid receptors in the medial habenula ...  \n",
       "1  * [A state-of-the-art review on badminton lung...  \n",
       "2  * [Asymmetric biomechanical characteristics of...  \n",
       "3  * [Effects of hypothyroidism on the mesenteric...  \n",
       "4  * [The effects of short-term and long-term env...  "
      ]
     },
     "execution_count": 14,
     "metadata": {},
     "output_type": "execute_result"
    }
   ],
   "source": [
    "#add info for github markdown format\n",
    "papers_df['authors'] = authors\n",
    "papers_df['journal'] = journals\n",
    "papers_df['links'] = links\n",
    "#generate filename\n",
    "import datetime\n",
    "now = datetime.datetime.now()\n",
    "strings = [str(now.year), str(now.month), str(now.day),'litupdate.csv']\n",
    "fname = 'Literature_Updates/'+'-'.join(strings)\n",
    "strings = [str(now.year), str(now.month), str(now.day),'litupdate.md']\n",
    "mdname = 'Literature_Updates/'+'-'.join(strings)\n",
    "strings = [str(now.year), str(now.month), str(now.day),'litupdate']\n",
    "urlname = '-'.join(strings)\n",
    "\n",
    "print('Filename: ',fname)\n",
    "\n",
    "# papers_df = papers_df.sort_values(by = ['topic'])\n",
    "# papers_df = papers_df.reset_index(drop = True)\n",
    "papers_df.head()"
   ]
  },
  {
   "cell_type": "markdown",
   "metadata": {},
   "source": [
    "### Save as .csv "
   ]
  },
  {
   "cell_type": "code",
   "execution_count": 15,
   "metadata": {},
   "outputs": [],
   "source": [
    "# header = ['title','topic']\n",
    "# papers_df.sort_values('topic').to_csv(fname, index = False, columns = header)\n",
    "# print('\\nLiterature Update Exported as .csv')\n"
   ]
  },
  {
   "cell_type": "markdown",
   "metadata": {},
   "source": [
    "# Compile papers grouped by topic"
   ]
  },
  {
   "cell_type": "code",
   "execution_count": 16,
   "metadata": {},
   "outputs": [
    {
     "name": "stdout",
     "output_type": "stream",
     "text": [
      "Literature Update Exported as Markdown\n"
     ]
    }
   ],
   "source": [
    "#header for alcantarar.github.io literature update site:\n",
    "print('---',file=open(mdname,\"w\"))\n",
    "print('title: Biomechanics Literature Update',file=open(mdname,\"a\"))\n",
    "print('collection: literature',file=open(mdname,\"a\"))\n",
    "print('permalink: /literature/'+urlname,file=open(mdname,\"a\"))\n",
    "print('excerpt: <br>',file=open(mdname,\"a\"))\n",
    "print('---',file=open(mdname,\"a\"))\n",
    "\n",
    "#tidy up topic strings\n",
    "topic_list = np.unique(papers_df.sort_values('topic')['topic'])\n",
    "ss = [s for s in topic_list if 'UNIQUE' in s]\n",
    "for i,t in enumerate(topic_list):\n",
    "    if 'UNIQUE' in t:  \n",
    "        topic_list[i] = 'UNIQUE TOPIC'\n",
    "    if 'IMPACT' in t:\n",
    "        topic_list[i] = 'TRAUMA/IMPACT'\n",
    "\n",
    "# print('# Literature Update: ',str(now.year)+'-'+str(now.month)+'-'+str(now.day),'  ', file = open(mdname,'w'))\n",
    "print('### Created by: [Ryan Alcantara](https://twitter.com/Ryan_Alcantara_) & [Gary Bruening](https://twitter.com/garebearbru) - University of Colorado Boulder', file=open(mdname, \"a\"))\n",
    "print('### Table Of Contents: ', file=open(mdname, \"a\"))\n",
    "for topic in topic_list:\n",
    "    print('['+topic+']'+'(#'+str.lower(topic).replace('/','').replace(' ','')+')  ', file=open(mdname, \"a\"))\n",
    "print('', file=open(mdname,\"a\"))\n",
    "for topic in topic_list:\n",
    "    print('----', file=open(mdname, \"a\"))\n",
    "    print('#',topic, file=open(mdname, \"a\"))\n",
    "    print('----', file=open(mdname, \"a\"))\n",
    "    print('', file=open(mdname, \"a\"))\n",
    "    print('[Back to top](#table-of-contents)', file=open(mdname, \"a\"))\n",
    "    print('', file=open(mdname, \"a\"))\n",
    "    papers_subset = pd.DataFrame(papers_df[papers_df.topic == topic].reset_index(drop = True))\n",
    "    for i,paper in enumerate(papers_subset['links']):\n",
    "        print(paper, file=open(mdname, \"a\"))\n",
    "        print(papers_subset['authors'][i], file=open(mdname, \"a\"))\n",
    "        print(papers_subset['journal'][i]+'.  ', file=open(mdname, \"a\"))\n",
    "#         print('<br>  ', file=open(\"output.md\", \"a\"))\n",
    "        print('', file=open(mdname, \"a\"))\n",
    "    \n",
    "print('Literature Update Exported as Markdown')"
   ]
  },
  {
   "cell_type": "code",
   "execution_count": null,
   "metadata": {},
   "outputs": [],
   "source": []
  }
 ],
 "metadata": {
  "kernelspec": {
   "display_name": "Python 3",
   "language": "python",
   "name": "python3"
  },
  "language_info": {
   "codemirror_mode": {
    "name": "ipython",
    "version": 3
   },
   "file_extension": ".py",
   "mimetype": "text/x-python",
   "name": "python",
   "nbconvert_exporter": "python",
   "pygments_lexer": "ipython3",
   "version": "3.6.8"
  },
  "varInspector": {
   "cols": {
    "lenName": 16,
    "lenType": 16,
    "lenVar": 40
   },
   "kernels_config": {
    "python": {
     "delete_cmd_postfix": "",
     "delete_cmd_prefix": "del ",
     "library": "var_list.py",
     "varRefreshCmd": "print(var_dic_list())"
    },
    "r": {
     "delete_cmd_postfix": ") ",
     "delete_cmd_prefix": "rm(",
     "library": "var_list.r",
     "varRefreshCmd": "cat(var_dic_list()) "
    }
   },
   "types_to_exclude": [
    "module",
    "function",
    "builtin_function_or_method",
    "instance",
    "_Feature"
   ],
   "window_display": false
  }
 },
 "nbformat": 4,
 "nbformat_minor": 2
}
