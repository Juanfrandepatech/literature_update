{
 "cells": [
  {
   "cell_type": "code",
   "execution_count": 6,
   "metadata": {},
   "outputs": [
    {
     "name": "stdout",
     "output_type": "stream",
     "text": [
      "\n",
      "* [Extrapolating Metabolic Savings in Running: Implications for Performance Predictions.](https://www.ncbi.nlm.nih.gov/pubmed/30804807)\n",
      "Kram R,\n",
      "Hoogkamer W,\n",
      "Frontiers in physiology\n",
      "<br>\n",
      "\n",
      "* [Does Metabolic Rate Increase Linearly with Running Speed in all Distance Runners?](https://www.ncbi.nlm.nih.gov/pubmed/30539111)\n",
      "Kipp S,\n",
      "Grabowski AM,\n",
      "Kram R,\n",
      "Byrnes WC,\n",
      "Sports medicine international open\n",
      "<br>\n",
      "\n",
      "* [The Biomechanics of Competitive Male Runners in Three Marathon Racing Shoes: A Randomized Crossover Study.](https://www.ncbi.nlm.nih.gov/pubmed/30460454)\n",
      "Kipp S,\n",
      "Kram R,\n",
      "Sports medicine (Auckland, N.Z.)\n",
      "<br>\n",
      "\n",
      "* [Level, uphill and downhill running economy values are strongly inter-correlated.](https://www.ncbi.nlm.nih.gov/pubmed/30357515)\n",
      "Ortiz ALR,\n",
      "Kram R,\n",
      "European journal of applied physiology\n",
      "<br>\n",
      "\n",
      "* [What determines the metabolic cost of human running across a wide range of velocities?](https://www.ncbi.nlm.nih.gov/pubmed/30065039)\n",
      "Grabowski AM,\n",
      "Kram R,\n",
      "The Journal of experimental biology\n",
      "<br>\n",
      "\n",
      "* [Contributions of metabolic and temporal costs to human gait selection.](https://www.ncbi.nlm.nih.gov/pubmed/29925582)\n",
      "Kram R,\n",
      "Ahmed AA,\n",
      "Journal of the Royal Society, Interface\n",
      "<br>\n",
      "\n",
      "* [Comparison of running and cycling economy in runners, cyclists, and triathletes.](https://www.ncbi.nlm.nih.gov/pubmed/29663075)\n",
      "Kipp S,\n",
      "Kram R,\n",
      "European journal of applied physiology\n",
      "<br>\n",
      "\n",
      "* [Calculating metabolic energy expenditure across a wide range of exercise intensities: the equation matters.](https://www.ncbi.nlm.nih.gov/pubmed/29401411)\n",
      "Byrnes WC,\n",
      "Kram R,\n",
      "Applied physiology, nutrition, and metabolism = Physiologie appliquee, nutrition et metabolisme\n",
      "<br>\n",
      "\n",
      "* [Correction to: A Comparison of the Energetic Cost of Running in Marathon Racing Shoes.](https://www.ncbi.nlm.nih.gov/pubmed/29249085)\n",
      "Kipp S,\n",
      "Frank JH,\n",
      "Farina EM,\n",
      "Luo G,\n",
      "Kram R,\n",
      "Sports medicine (Auckland, N.Z.)\n",
      "<br>\n",
      "\n",
      "* [A Comparison of the Energetic Cost of Running in Marathon Racing Shoes.](https://www.ncbi.nlm.nih.gov/pubmed/29143929)\n",
      "Kipp S,\n",
      "Frank JH,\n",
      "Farina EM,\n",
      "Luo G,\n",
      "Kram R,\n",
      "Sports medicine (Auckland, N.Z.)\n",
      "<br>\n",
      "\n",
      "* [Author's Reply to Candau et al.: Comment on: \"How Biomechanical Improvements in Running Economy Could Break the 2-Hour Marathon Barrier\".](https://www.ncbi.nlm.nih.gov/pubmed/28741184)\n",
      "Kram R,\n",
      "Arellano CJ,\n",
      "Sports medicine (Auckland, N.Z.)\n",
      "<br>\n",
      "\n",
      "* [The metabolic costs of walking and running up a 30-degree incline: implications for vertical kilometer foot races.](https://www.ncbi.nlm.nih.gov/pubmed/28695271)\n",
      "Giovanelli N,\n",
      "Kram R,\n",
      "European journal of applied physiology\n",
      "<br>\n",
      "\n"
     ]
    }
   ],
   "source": [
    "from Bio import Entrez\n",
    "import numpy as np\n",
    "\n",
    "def search(query):\n",
    "    Entrez.email = 'your.email@example.com'\n",
    "    handle = Entrez.esearch(db='pubmed', \n",
    "                            sort='most recent', \n",
    "                            retmax='30',\n",
    "                            retmode='xml', \n",
    "                            reldate = 7, #only within n days from now\n",
    "                            term=query)\n",
    "    results = Entrez.read(handle)\n",
    "    return results\n",
    "\n",
    "def fetch_details(id_list):\n",
    "    ids = ','.join(id_list)\n",
    "    Entrez.email = 'your.email@example.com'\n",
    "    handle = Entrez.efetch(db='pubmed',\n",
    "                           retmode='xml',\n",
    "                           id=ids)\n",
    "    results = Entrez.read(handle)\n",
    "    return results\n",
    "\n",
    "search_results = search('(biomech*[Title/Abstract] OR locomot*[Title/Abstract]) NOT mice NOT fish NOT bird NOT rat NOT zoo')\n",
    "id_list = search_results['IdList']\n",
    "papers = fetch_details(id_list)\n",
    "print(\"\")\n",
    "for i, paper in enumerate(papers['PubmedArticle']):\n",
    "    print(\"* [%s](https://www.ncbi.nlm.nih.gov/pubmed/%s)\" % (paper['MedlineCitation']['Article']['ArticleTitle'],paper['MedlineCitation']['PMID']))\n",
    "    for auth in np.arange(1,np.size(paper['MedlineCitation']['Article']['AuthorList'])):\n",
    "        print(\"%s %s,\" % (paper['MedlineCitation']['Article']['AuthorList'][auth]['LastName'],paper['MedlineCitation']['Article']['AuthorList'][auth]['Initials']))\n",
    "    print('%s' % (paper['MedlineCitation']['Article']['Journal']['Title']) )\n",
    "    # #store keywords \n",
    "    # print(\"----\")\n",
    "    # if paper['MedlineCitation']['KeywordList'] != []:\n",
    "    #     for kw in np.arange(1,np.size(paper['MedlineCitation']['KeywordList'][0])):\n",
    "    #         print(paper['MedlineCitation']['KeywordList'][0][kw-1][:])\n",
    "    # else:\n",
    "    #     print(\"NO_KEYWORDS\")\n",
    "    print(\"<br>  \") #linebreak for github md \n",
    "    #end keywords test\n",
    "    print(\"\")\n"
   ]
  },
  {
   "cell_type": "raw",
   "metadata": {},
   "source": []
  },
  {
   "cell_type": "code",
   "execution_count": null,
   "metadata": {
    "collapsed": true
   },
   "outputs": [],
   "source": []
  }
 ],
 "metadata": {
  "kernelspec": {
   "display_name": "Python 3",
   "language": "python",
   "name": "python3"
  },
  "language_info": {
   "codemirror_mode": {
    "name": "ipython",
    "version": 3
   },
   "file_extension": ".py",
   "mimetype": "text/x-python",
   "name": "python",
   "nbconvert_exporter": "python",
   "pygments_lexer": "ipython3",
   "version": "3.6.4"
  },
  "varInspector": {
   "cols": {
    "lenName": 16,
    "lenType": 16,
    "lenVar": 40
   },
   "kernels_config": {
    "python": {
     "delete_cmd_postfix": "",
     "delete_cmd_prefix": "del ",
     "library": "var_list.py",
     "varRefreshCmd": "print(var_dic_list())"
    },
    "r": {
     "delete_cmd_postfix": ") ",
     "delete_cmd_prefix": "rm(",
     "library": "var_list.r",
     "varRefreshCmd": "cat(var_dic_list()) "
    }
   },
   "types_to_exclude": [
    "module",
    "function",
    "builtin_function_or_method",
    "instance",
    "_Feature"
   ],
   "window_display": false
  }
 },
 "nbformat": 4,
 "nbformat_minor": 2
}
