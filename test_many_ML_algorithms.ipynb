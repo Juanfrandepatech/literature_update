{
 "cells": [
  {
   "cell_type": "code",
   "execution_count": 1,
   "metadata": {},
   "outputs": [],
   "source": [
    "import numpy as np\n",
    "import pandas as pd\n",
    "import re\n",
    "from sklearn.feature_extraction.text import TfidfVectorizer"
   ]
  },
  {
   "cell_type": "code",
   "execution_count": 2,
   "metadata": {},
   "outputs": [
    {
     "name": "stdout",
     "output_type": "stream",
     "text": [
      "Index(['id', 'topic', 'authors', 'title', 'journal', 'year', 'vol_issue',\n",
      "       'doi'],\n",
      "      dtype='object')\n"
     ]
    }
   ],
   "source": [
    "data = pd.read_csv('RYANDATA_consolidated.csv')\n",
    "\n",
    "columns = data.columns\n",
    "print(columns)"
   ]
  },
  {
   "cell_type": "code",
   "execution_count": 3,
   "metadata": {},
   "outputs": [],
   "source": [
    "papers = pd.DataFrame(data['title'])\n",
    "topic = pd.DataFrame(data['topic'])\n",
    "author = pd.DataFrame(data['authors'])"
   ]
  },
  {
   "cell_type": "code",
   "execution_count": 4,
   "metadata": {},
   "outputs": [
    {
     "name": "stdout",
     "output_type": "stream",
     "text": [
      "28179\n",
      "28179\n"
     ]
    },
    {
     "data": {
      "text/html": [
       "<div>\n",
       "<style scoped>\n",
       "    .dataframe tbody tr th:only-of-type {\n",
       "        vertical-align: middle;\n",
       "    }\n",
       "\n",
       "    .dataframe tbody tr th {\n",
       "        vertical-align: top;\n",
       "    }\n",
       "\n",
       "    .dataframe thead th {\n",
       "        text-align: right;\n",
       "    }\n",
       "</style>\n",
       "<table border=\"1\" class=\"dataframe\">\n",
       "  <thead>\n",
       "    <tr style=\"text-align: right;\">\n",
       "      <th></th>\n",
       "      <th>title</th>\n",
       "    </tr>\n",
       "  </thead>\n",
       "  <tbody>\n",
       "    <tr>\n",
       "      <th>0</th>\n",
       "      <td>Preparation of adenosine-loaded electrospun na...</td>\n",
       "    </tr>\n",
       "    <tr>\n",
       "      <th>1</th>\n",
       "      <td>The adaption of the bony microstructure of the...</td>\n",
       "    </tr>\n",
       "    <tr>\n",
       "      <th>2</th>\n",
       "      <td>Effect of caffeine on ovariectomy-induced oste...</td>\n",
       "    </tr>\n",
       "    <tr>\n",
       "      <th>3</th>\n",
       "      <td>The effect of formalin preservation time and t...</td>\n",
       "    </tr>\n",
       "    <tr>\n",
       "      <th>4</th>\n",
       "      <td>Accurate and efficient plate and rod microfini...</td>\n",
       "    </tr>\n",
       "    <tr>\n",
       "      <th>5</th>\n",
       "      <td>The effect of adipose-derived stem cells on en...</td>\n",
       "    </tr>\n",
       "    <tr>\n",
       "      <th>6</th>\n",
       "      <td>A biomechanical study of headless compression ...</td>\n",
       "    </tr>\n",
       "    <tr>\n",
       "      <th>7</th>\n",
       "      <td>Perforated h-beam implant can be used in femor...</td>\n",
       "    </tr>\n",
       "    <tr>\n",
       "      <th>8</th>\n",
       "      <td>In vitro effect of caveolin-1 as a slow-releas...</td>\n",
       "    </tr>\n",
       "    <tr>\n",
       "      <th>9</th>\n",
       "      <td>Accumulation of microdamage at complete and in...</td>\n",
       "    </tr>\n",
       "    <tr>\n",
       "      <th>10</th>\n",
       "      <td>Evaluation of ostarine as a selective androgen...</td>\n",
       "    </tr>\n",
       "    <tr>\n",
       "      <th>11</th>\n",
       "      <td>Optimal administration frequency and dose of t...</td>\n",
       "    </tr>\n",
       "    <tr>\n",
       "      <th>12</th>\n",
       "      <td>Effect of low-intensity pulsed ultrasound afte...</td>\n",
       "    </tr>\n",
       "    <tr>\n",
       "      <th>13</th>\n",
       "      <td>Osteoclast-responsive, injectable bone of bisp...</td>\n",
       "    </tr>\n",
       "    <tr>\n",
       "      <th>14</th>\n",
       "      <td>Effect of long-term green tea polyphenol suppl...</td>\n",
       "    </tr>\n",
       "    <tr>\n",
       "      <th>15</th>\n",
       "      <td>Adenoviral delivery of adiponectin ameliorates...</td>\n",
       "    </tr>\n",
       "    <tr>\n",
       "      <th>16</th>\n",
       "      <td>Novel adhesives for sternal fixation and stabi...</td>\n",
       "    </tr>\n",
       "    <tr>\n",
       "      <th>17</th>\n",
       "      <td>Chemical sympathectomy impairs peri-implant os...</td>\n",
       "    </tr>\n",
       "    <tr>\n",
       "      <th>18</th>\n",
       "      <td>Three-dimensional geometry of human tibial ant...</td>\n",
       "    </tr>\n",
       "    <tr>\n",
       "      <th>19</th>\n",
       "      <td>Integrated metallomic and metabolomic profilin...</td>\n",
       "    </tr>\n",
       "    <tr>\n",
       "      <th>20</th>\n",
       "      <td>Biomechanical comparison of screw-based zones ...</td>\n",
       "    </tr>\n",
       "    <tr>\n",
       "      <th>21</th>\n",
       "      <td>3d patient-specific finite element models of t...</td>\n",
       "    </tr>\n",
       "    <tr>\n",
       "      <th>22</th>\n",
       "      <td>A ph-triggered, self-assembled, and bioprintab...</td>\n",
       "    </tr>\n",
       "    <tr>\n",
       "      <th>23</th>\n",
       "      <td>Mechanical testing of scapular neck fracture f...</td>\n",
       "    </tr>\n",
       "    <tr>\n",
       "      <th>24</th>\n",
       "      <td>Single-dose local administration of parathyroi...</td>\n",
       "    </tr>\n",
       "    <tr>\n",
       "      <th>25</th>\n",
       "      <td>Prediction of fracture lines of the calcaneus ...</td>\n",
       "    </tr>\n",
       "    <tr>\n",
       "      <th>26</th>\n",
       "      <td>Nanocomposite materials in orthopedic applicat...</td>\n",
       "    </tr>\n",
       "    <tr>\n",
       "      <th>27</th>\n",
       "      <td>Neuromuscular dysfunction, independent of gait...</td>\n",
       "    </tr>\n",
       "    <tr>\n",
       "      <th>28</th>\n",
       "      <td>The selective trka agonist, gambogic amide, pr...</td>\n",
       "    </tr>\n",
       "    <tr>\n",
       "      <th>29</th>\n",
       "      <td>Challenging the current concept of critical gl...</td>\n",
       "    </tr>\n",
       "    <tr>\n",
       "      <th>...</th>\n",
       "      <td>...</td>\n",
       "    </tr>\n",
       "    <tr>\n",
       "      <th>70</th>\n",
       "      <td>Ionizing radiation and bone quality: time-depe...</td>\n",
       "    </tr>\n",
       "    <tr>\n",
       "      <th>71</th>\n",
       "      <td>Radioactive cement of pmma and hap-sm-153, ho-...</td>\n",
       "    </tr>\n",
       "    <tr>\n",
       "      <th>72</th>\n",
       "      <td>Does the instrument used for the implant site ...</td>\n",
       "    </tr>\n",
       "    <tr>\n",
       "      <th>73</th>\n",
       "      <td>1 alpha,25-dihydroxyvitamin d-3 promotes osseo...</td>\n",
       "    </tr>\n",
       "    <tr>\n",
       "      <th>74</th>\n",
       "      <td>Therapeutic effect of strontium ranelate on bo...</td>\n",
       "    </tr>\n",
       "    <tr>\n",
       "      <th>75</th>\n",
       "      <td>Exosomes secreted by endothelial progenitor ce...</td>\n",
       "    </tr>\n",
       "    <tr>\n",
       "      <th>76</th>\n",
       "      <td>Effect of the lipoxygenase inhibitor baicalein...</td>\n",
       "    </tr>\n",
       "    <tr>\n",
       "      <th>77</th>\n",
       "      <td>Effects of hole diameter on torsional mechanic...</td>\n",
       "    </tr>\n",
       "    <tr>\n",
       "      <th>78</th>\n",
       "      <td>Biomechanical comparison of two locking plate ...</td>\n",
       "    </tr>\n",
       "    <tr>\n",
       "      <th>79</th>\n",
       "      <td>Metformin alleviates the bone loss induced by ...</td>\n",
       "    </tr>\n",
       "    <tr>\n",
       "      <th>80</th>\n",
       "      <td>Longitudinal examination of bone loss in male ...</td>\n",
       "    </tr>\n",
       "    <tr>\n",
       "      <th>81</th>\n",
       "      <td>Zoledronic acid improves bone quality in the s...</td>\n",
       "    </tr>\n",
       "    <tr>\n",
       "      <th>82</th>\n",
       "      <td>Eicosapentaenoic acid-containing phosphatidylc...</td>\n",
       "    </tr>\n",
       "    <tr>\n",
       "      <th>83</th>\n",
       "      <td>Effect of hemiepiphysiodesis on the growth pla...</td>\n",
       "    </tr>\n",
       "    <tr>\n",
       "      <th>84</th>\n",
       "      <td>Assessment of the long bone inter-fragmentary ...</td>\n",
       "    </tr>\n",
       "    <tr>\n",
       "      <th>85</th>\n",
       "      <td>A comparative study of the effect of drilling ...</td>\n",
       "    </tr>\n",
       "    <tr>\n",
       "      <th>86</th>\n",
       "      <td>Inferomedial cortical bone contact and fixatio...</td>\n",
       "    </tr>\n",
       "    <tr>\n",
       "      <th>87</th>\n",
       "      <td>Bone marrow adipose amount influences vertebra...</td>\n",
       "    </tr>\n",
       "    <tr>\n",
       "      <th>88</th>\n",
       "      <td>Osteogenic extracellular matrix sheet for bone...</td>\n",
       "    </tr>\n",
       "    <tr>\n",
       "      <th>89</th>\n",
       "      <td>The osteo-inductive activity of bone-marrow-de...</td>\n",
       "    </tr>\n",
       "    <tr>\n",
       "      <th>90</th>\n",
       "      <td>Biomechanical analysis of a femur fracture in ...</td>\n",
       "    </tr>\n",
       "    <tr>\n",
       "      <th>91</th>\n",
       "      <td>Third harmonic generation imaging and analysis...</td>\n",
       "    </tr>\n",
       "    <tr>\n",
       "      <th>92</th>\n",
       "      <td>Short-term feeding with high fructose diet imp...</td>\n",
       "    </tr>\n",
       "    <tr>\n",
       "      <th>93</th>\n",
       "      <td>Application of mesenchymal stem cells to enhan...</td>\n",
       "    </tr>\n",
       "    <tr>\n",
       "      <th>94</th>\n",
       "      <td>Effect of human wnt10b transgene overexpressio...</td>\n",
       "    </tr>\n",
       "    <tr>\n",
       "      <th>95</th>\n",
       "      <td>Mechanical behavior of metastatic vertebrae ar...</td>\n",
       "    </tr>\n",
       "    <tr>\n",
       "      <th>96</th>\n",
       "      <td>Investigating gender and ethnicity differences...</td>\n",
       "    </tr>\n",
       "    <tr>\n",
       "      <th>97</th>\n",
       "      <td>How a pilot hole size affects osteosynthesis a...</td>\n",
       "    </tr>\n",
       "    <tr>\n",
       "      <th>98</th>\n",
       "      <td>Effects of chitosan scaffold along with royal ...</td>\n",
       "    </tr>\n",
       "    <tr>\n",
       "      <th>99</th>\n",
       "      <td>Pyrroloquinoline quinone prevents estrogen def...</td>\n",
       "    </tr>\n",
       "  </tbody>\n",
       "</table>\n",
       "<p>100 rows × 1 columns</p>\n",
       "</div>"
      ],
      "text/plain": [
       "                                                title\n",
       "0   Preparation of adenosine-loaded electrospun na...\n",
       "1   The adaption of the bony microstructure of the...\n",
       "2   Effect of caffeine on ovariectomy-induced oste...\n",
       "3   The effect of formalin preservation time and t...\n",
       "4   Accurate and efficient plate and rod microfini...\n",
       "5   The effect of adipose-derived stem cells on en...\n",
       "6   A biomechanical study of headless compression ...\n",
       "7   Perforated h-beam implant can be used in femor...\n",
       "8   In vitro effect of caveolin-1 as a slow-releas...\n",
       "9   Accumulation of microdamage at complete and in...\n",
       "10  Evaluation of ostarine as a selective androgen...\n",
       "11  Optimal administration frequency and dose of t...\n",
       "12  Effect of low-intensity pulsed ultrasound afte...\n",
       "13  Osteoclast-responsive, injectable bone of bisp...\n",
       "14  Effect of long-term green tea polyphenol suppl...\n",
       "15  Adenoviral delivery of adiponectin ameliorates...\n",
       "16  Novel adhesives for sternal fixation and stabi...\n",
       "17  Chemical sympathectomy impairs peri-implant os...\n",
       "18  Three-dimensional geometry of human tibial ant...\n",
       "19  Integrated metallomic and metabolomic profilin...\n",
       "20  Biomechanical comparison of screw-based zones ...\n",
       "21  3d patient-specific finite element models of t...\n",
       "22  A ph-triggered, self-assembled, and bioprintab...\n",
       "23  Mechanical testing of scapular neck fracture f...\n",
       "24  Single-dose local administration of parathyroi...\n",
       "25  Prediction of fracture lines of the calcaneus ...\n",
       "26  Nanocomposite materials in orthopedic applicat...\n",
       "27  Neuromuscular dysfunction, independent of gait...\n",
       "28  The selective trka agonist, gambogic amide, pr...\n",
       "29  Challenging the current concept of critical gl...\n",
       "..                                                ...\n",
       "70  Ionizing radiation and bone quality: time-depe...\n",
       "71  Radioactive cement of pmma and hap-sm-153, ho-...\n",
       "72  Does the instrument used for the implant site ...\n",
       "73  1 alpha,25-dihydroxyvitamin d-3 promotes osseo...\n",
       "74  Therapeutic effect of strontium ranelate on bo...\n",
       "75  Exosomes secreted by endothelial progenitor ce...\n",
       "76  Effect of the lipoxygenase inhibitor baicalein...\n",
       "77  Effects of hole diameter on torsional mechanic...\n",
       "78  Biomechanical comparison of two locking plate ...\n",
       "79  Metformin alleviates the bone loss induced by ...\n",
       "80  Longitudinal examination of bone loss in male ...\n",
       "81  Zoledronic acid improves bone quality in the s...\n",
       "82  Eicosapentaenoic acid-containing phosphatidylc...\n",
       "83  Effect of hemiepiphysiodesis on the growth pla...\n",
       "84  Assessment of the long bone inter-fragmentary ...\n",
       "85  A comparative study of the effect of drilling ...\n",
       "86  Inferomedial cortical bone contact and fixatio...\n",
       "87  Bone marrow adipose amount influences vertebra...\n",
       "88  Osteogenic extracellular matrix sheet for bone...\n",
       "89  The osteo-inductive activity of bone-marrow-de...\n",
       "90  Biomechanical analysis of a femur fracture in ...\n",
       "91  Third harmonic generation imaging and analysis...\n",
       "92  Short-term feeding with high fructose diet imp...\n",
       "93  Application of mesenchymal stem cells to enhan...\n",
       "94  Effect of human wnt10b transgene overexpressio...\n",
       "95  Mechanical behavior of metastatic vertebrae ar...\n",
       "96  Investigating gender and ethnicity differences...\n",
       "97  How a pilot hole size affects osteosynthesis a...\n",
       "98  Effects of chitosan scaffold along with royal ...\n",
       "99  Pyrroloquinoline quinone prevents estrogen def...\n",
       "\n",
       "[100 rows x 1 columns]"
      ]
     },
     "execution_count": 4,
     "metadata": {},
     "output_type": "execute_result"
    }
   ],
   "source": [
    "print(len(papers))\n",
    "print(len(topic))\n",
    "topic.head(2)\n",
    "papers[0:100]"
   ]
  },
  {
   "cell_type": "code",
   "execution_count": 5,
   "metadata": {},
   "outputs": [
    {
     "data": {
      "text/plain": [
       "array(['BONE', 'CARDIO', 'CELLULAR', 'EVO/COMP', 'HEAD', 'ERGONOMICS',\n",
       "       'JOINT/CARTILAGE', 'MODELING', 'MUSCLE', 'NEURAL', 'ORTHOPAEDICS',\n",
       "       'REHABILITATION', 'SPORT/EXERCISE', 'TENDON/LIGAMENT', 'ROBOTICS'],\n",
       "      dtype=object)"
      ]
     },
     "execution_count": 5,
     "metadata": {},
     "output_type": "execute_result"
    }
   ],
   "source": [
    "topic['topic'].unique()"
   ]
  },
  {
   "cell_type": "code",
   "execution_count": 6,
   "metadata": {},
   "outputs": [],
   "source": [
    "from sklearn.preprocessing import LabelEncoder\n",
    "\n",
    "feat = ['topic']\n",
    "for x in feat:\n",
    "    le = LabelEncoder()\n",
    "    le.fit(list(topic[x].values))\n",
    "    topic[x] = le.transform(list(topic[x]))"
   ]
  },
  {
   "cell_type": "code",
   "execution_count": 7,
   "metadata": {
    "scrolled": true
   },
   "outputs": [
    {
     "data": {
      "text/plain": [
       "array([ 0,  1,  2,  4,  5,  3,  6,  7,  8,  9, 10, 11, 13, 14, 12])"
      ]
     },
     "execution_count": 7,
     "metadata": {},
     "output_type": "execute_result"
    }
   ],
   "source": [
    "topic['topic'].unique()"
   ]
  },
  {
   "cell_type": "code",
   "execution_count": 8,
   "metadata": {},
   "outputs": [
    {
     "data": {
      "text/plain": [
       "'BONE'"
      ]
     },
     "execution_count": 8,
     "metadata": {},
     "output_type": "execute_result"
    }
   ],
   "source": [
    "le.inverse_transform([0])[0]"
   ]
  },
  {
   "cell_type": "code",
   "execution_count": 9,
   "metadata": {},
   "outputs": [
    {
     "name": "stdout",
     "output_type": "stream",
     "text": [
      "0    Preparation of adenosine-loaded electrospun na...\n",
      "1    The adaption of the bony microstructure of the...\n",
      "2    Effect of caffeine on ovariectomy-induced oste...\n",
      "3    The effect of formalin preservation time and t...\n",
      "4    Accurate and efficient plate and rod microfini...\n",
      "Name: everything, dtype: object\n"
     ]
    }
   ],
   "source": [
    "data['everything'] = pd.DataFrame(data['title'] + ' ' + data['authors'])\n",
    "print(data['everything'].head(5))"
   ]
  },
  {
   "cell_type": "code",
   "execution_count": 10,
   "metadata": {},
   "outputs": [],
   "source": [
    "def change(t):\n",
    "    t = t.split()\n",
    "    return ' '.join([(i) for (i) in t if i not in stop])"
   ]
  },
  {
   "cell_type": "code",
   "execution_count": 11,
   "metadata": {},
   "outputs": [
    {
     "data": {
      "text/plain": [
       "['i', 'me', 'my', 'myself', 'we', 'our', 'ours', 'ourselves', 'you', \"you're\"]"
      ]
     },
     "execution_count": 11,
     "metadata": {},
     "output_type": "execute_result"
    }
   ],
   "source": [
    "# import nltk\n",
    "# nltk.download('stopwords')\n",
    "from nltk.corpus import stopwords\n",
    "stop = list(stopwords.words('english'))\n",
    "stop.append('The')\n",
    "stop.append('An')\n",
    "stop.append('A')\n",
    "stop.append('Do')\n",
    "stop.append('Is')\n",
    "stop.append('In')\n",
    "stop[:10]"
   ]
  },
  {
   "cell_type": "code",
   "execution_count": 12,
   "metadata": {},
   "outputs": [
    {
     "data": {
      "text/plain": [
       "0        Preparation adenosine-loaded electrospun nanof...\n",
       "1        adaption bony microstructure human glenoid cav...\n",
       "2        Effect caffeine ovariectomy-induced osteoporos...\n",
       "3        effect formalin preservation time temperature ...\n",
       "4        Accurate efficient plate rod microfinite eleme...\n",
       "5        effect adipose-derived stem cells enthesis hea...\n",
       "6        biomechanical study headless compression screw...\n",
       "7        Perforated h-beam implant used femoral neck fr...\n",
       "8        vitro effect caveolin-1 slow-release material ...\n",
       "9        Accumulation microdamage complete incomplete f...\n",
       "10       Evaluation ostarine selective androgen recepto...\n",
       "11       Optimal administration frequency dose teripara...\n",
       "12       Effect low-intensity pulsed ultrasound autolog...\n",
       "13       Osteoclast-responsive, injectable bone bisphos...\n",
       "14       Effect long-term green tea polyphenol suppleme...\n",
       "15       Adenoviral delivery adiponectin ameliorates os...\n",
       "16       Novel adhesives sternal fixation stabilization...\n",
       "17       Chemical sympathectomy impairs peri-implant os...\n",
       "18       Three-dimensional geometry human tibial anteri...\n",
       "19       Integrated metallomic metabolomic profiling pl...\n",
       "20       Biomechanical comparison screw-based zones spa...\n",
       "21       3d patient-specific finite element models prox...\n",
       "22       ph-triggered, self-assembled, bioprintable hyb...\n",
       "23       Mechanical testing scapular neck fracture fixa...\n",
       "24       Single-dose local administration parathyroid h...\n",
       "25       Prediction fracture lines calcaneus using thre...\n",
       "26       Nanocomposite materials orthopedic application...\n",
       "27       Neuromuscular dysfunction, independent gait dy...\n",
       "28       selective trka agonist, gambogic amide, promot...\n",
       "29       Challenging current concept critical glenoid b...\n",
       "                               ...                        \n",
       "28149    review developments towards biologically inspi...\n",
       "28150    Design optimization strategies muscle-like dir...\n",
       "28151    Supporting locomotive functions six-legged wal...\n",
       "28152    Analysis synthesis kind mobility reconfigurabl...\n",
       "28153    Estimation optimal feet forces joint torques o...\n",
       "28154    novel fabrication ionic polymer-metal composit...\n",
       "28155    Controllability stability analysis planar snak...\n",
       "28156    Thrust analysis fish robot actuated piezoceram...\n",
       "28157    Running unknown rough terrain one-legged plana...\n",
       "28158    Mechanical properties bio-inspired robotic kni...\n",
       "28159    Bio-inspired design strategies central pattern...\n",
       "28160    Manufacturing inchworm robot using shape memor...\n",
       "28161    On applicability decentralized control mechani...\n",
       "28162    Performance improvement passive mechanics jell...\n",
       "28163    Walking crawling alof: robot autonomous locomo...\n",
       "28164    Cpg-inspired workspace trajectory generation a...\n",
       "28165    Kinematic discussion development multi-legged ...\n",
       "28166    Command state-based modifiable walking pattern...\n",
       "28167    model-free approach accurate joint motion cont...\n",
       "28168    Global navigation humanoid robots using sampli...\n",
       "28169    Analysis wormlike robotic locomotion compliant...\n",
       "28170    Multi-level cognitive machine-learning based c...\n",
       "28171    Development colon endoscope robot adjusts loco...\n",
       "28172    Planning foot placements humanoid robot: probl...\n",
       "28173    tunable, multisegmented robotic antenna identi...\n",
       "28174    Walking trajectory planning stairs using virtu...\n",
       "28175    Design performance optimal inertial power harv...\n",
       "28176    Enumeration non-isomorphic configurations reco...\n",
       "28177    Behavioral effects rats motion within high sta...\n",
       "28178    Deriving neural network controllers neuro-biol...\n",
       "Name: everything, Length: 28179, dtype: object"
      ]
     },
     "execution_count": 12,
     "metadata": {},
     "output_type": "execute_result"
    }
   ],
   "source": [
    "data['everything'].apply(change)"
   ]
  },
  {
   "cell_type": "code",
   "execution_count": 13,
   "metadata": {},
   "outputs": [
    {
     "data": {
      "text/plain": [
       "(28179, 31277)"
      ]
     },
     "execution_count": 13,
     "metadata": {},
     "output_type": "execute_result"
    }
   ],
   "source": [
    "from sklearn.feature_extraction.text import TfidfVectorizer\n",
    "vectorizer = TfidfVectorizer(min_df=2, max_features=70000, strip_accents='unicode',lowercase =True,\n",
    "                            analyzer='word', token_pattern=r'\\w+', use_idf=True, \n",
    "                            smooth_idf=True, sublinear_tf=True, stop_words = 'english')\n",
    "vectors = vectorizer.fit_transform(data['everything'])\n",
    "vectors.shape"
   ]
  },
  {
   "cell_type": "markdown",
   "metadata": {},
   "source": [
    "## Split Data"
   ]
  },
  {
   "cell_type": "code",
   "execution_count": 14,
   "metadata": {},
   "outputs": [
    {
     "name": "stdout",
     "output_type": "stream",
     "text": [
      "(22543, 31277)\n",
      "(22543,)\n",
      "(5636, 31277)\n",
      "(5636,)\n"
     ]
    },
    {
     "data": {
      "text/plain": [
       "pandas.core.frame.DataFrame"
      ]
     },
     "execution_count": 14,
     "metadata": {},
     "output_type": "execute_result"
    }
   ],
   "source": [
    "from sklearn.naive_bayes import MultinomialNB\n",
    "from sklearn import metrics\n",
    "from sklearn.model_selection import StratifiedKFold, cross_val_score, train_test_split\n",
    "# from sklearn.model_selection import train_test_split\n",
    "\n",
    "\n",
    "X_train, X_test, y_train, y_test = train_test_split(vectors,\n",
    "                                                    topic['topic'],\n",
    "                                                    test_size=0.2,\n",
    "                                                    random_state = 0)\n",
    "\n",
    "print (X_train.shape)\n",
    "print (y_train.shape)\n",
    "print (X_test.shape)\n",
    "print (y_test.shape)\n",
    "\n",
    "type(papers)"
   ]
  },
  {
   "cell_type": "markdown",
   "metadata": {},
   "source": [
    "## Multinomial Naive Bayes"
   ]
  },
  {
   "cell_type": "code",
   "execution_count": 84,
   "metadata": {},
   "outputs": [
    {
     "name": "stdout",
     "output_type": "stream",
     "text": [
      "0.5393441128668707\n",
      "0.6437189496096523\n"
     ]
    }
   ],
   "source": [
    "clf = MultinomialNB(alpha=.45)\n",
    "clf.fit(X_train, y_train)\n",
    "pred = clf.predict(X_test)\n",
    "print (metrics.f1_score(y_test, pred, average='macro'))\n",
    "print (metrics.accuracy_score(y_test, pred))"
   ]
  },
  {
   "cell_type": "markdown",
   "metadata": {},
   "source": [
    "## Logistic Regression"
   ]
  },
  {
   "cell_type": "code",
   "execution_count": 85,
   "metadata": {},
   "outputs": [
    {
     "name": "stdout",
     "output_type": "stream",
     "text": [
      "0.7242670039539808\n",
      "0.7643718949609652\n"
     ]
    }
   ],
   "source": [
    "from sklearn import linear_model\n",
    "clf = linear_model.LogisticRegression(solver= 'sag',max_iter=200,random_state=450, multi_class='multinomial')\n",
    "clf.fit(X_train, y_train)\n",
    "pred = clf.predict(X_test)\n",
    "print (metrics.f1_score(y_test, pred, average='macro'))\n",
    "print (metrics.accuracy_score(y_test, pred))"
   ]
  },
  {
   "cell_type": "markdown",
   "metadata": {},
   "source": [
    "### Test clf model on string"
   ]
  },
  {
   "cell_type": "code",
   "execution_count": 86,
   "metadata": {},
   "outputs": [
    {
     "name": "stdout",
     "output_type": "stream",
     "text": [
      "(1, 31277)\n"
     ]
    },
    {
     "data": {
      "text/plain": [
       "'MODELING'"
      ]
     },
     "execution_count": 86,
     "metadata": {},
     "output_type": "execute_result"
    }
   ],
   "source": [
    "text = ['neuromechanical effort proxies estimation computational']\n",
    "text[0] = text[0].lower()\n",
    "#text = list(text)\n",
    "s = (vectorizer.transform(text))\n",
    "#s = vectorizer.fit_transform(df)\n",
    "print (s.shape)\n",
    "d = (clf.predict(s))\n",
    "\n",
    "le.inverse_transform(d)[0]"
   ]
  },
  {
   "cell_type": "markdown",
   "metadata": {},
   "source": [
    "### Save a model for later"
   ]
  },
  {
   "cell_type": "code",
   "execution_count": 49,
   "metadata": {},
   "outputs": [
    {
     "name": "stdout",
     "output_type": "stream",
     "text": [
      "Model Saved\n"
     ]
    }
   ],
   "source": [
    "from sklearn.externals import joblib\n",
    "joblib.dump(clf, 'MultinomialNB.pkl')\n",
    "print (\"Model Saved\")"
   ]
  },
  {
   "cell_type": "code",
   "execution_count": 52,
   "metadata": {},
   "outputs": [
    {
     "data": {
      "text/plain": [
       "MLPClassifier(activation='logistic', alpha=3e-05, batch_size='auto',\n",
       "       beta_1=0.9, beta_2=0.999, early_stopping=False, epsilon=1e-08,\n",
       "       hidden_layer_sizes=(20,), learning_rate='constant',\n",
       "       learning_rate_init=0.003, max_iter=200, momentum=0.9,\n",
       "       n_iter_no_change=10, nesterovs_momentum=True, power_t=0.5,\n",
       "       random_state=1, shuffle=True, solver='adam', tol=0.0001,\n",
       "       validation_fraction=0.1, verbose=False, warm_start=False)"
      ]
     },
     "execution_count": 52,
     "metadata": {},
     "output_type": "execute_result"
    }
   ],
   "source": [
    "clf = joblib.load('NeuralNetwork.pkl')\n",
    "clf"
   ]
  },
  {
   "cell_type": "markdown",
   "metadata": {},
   "source": [
    "## Neural Network"
   ]
  },
  {
   "cell_type": "code",
   "execution_count": 36,
   "metadata": {},
   "outputs": [
    {
     "name": "stdout",
     "output_type": "stream",
     "text": [
      "0.7271838681305135\n",
      "0.7581618168914124\n"
     ]
    }
   ],
   "source": [
    "from sklearn.neural_network import MLPClassifier\n",
    "clf = MLPClassifier(activation='logistic', alpha=0.00003, batch_size='auto',\n",
    "                   beta_1=0.9, beta_2=0.999, early_stopping=False,\n",
    "                   epsilon=1e-08, hidden_layer_sizes=(20,), learning_rate='constant',\n",
    "                   learning_rate_init=0.003, max_iter=200, momentum=0.9,\n",
    "                   nesterovs_momentum=True, power_t=0.5, random_state=1, shuffle=True,\n",
    "                   solver='adam', tol=0.0001, validation_fraction=0.1, verbose=False,\n",
    "                   warm_start=False)\n",
    "clf.fit(X_train, y_train) \n",
    "pred = clf.predict(X_test)\n",
    "print (metrics.f1_score(y_test, pred, average='macro'))\n",
    "print (metrics.accuracy_score(y_test, pred))"
   ]
  },
  {
   "cell_type": "code",
   "execution_count": 59,
   "metadata": {},
   "outputs": [
    {
     "name": "stdout",
     "output_type": "stream",
     "text": [
      "(1, 31277)\n"
     ]
    },
    {
     "data": {
      "text/plain": [
       "'SPORT/EXERCISE'"
      ]
     },
     "execution_count": 59,
     "metadata": {},
     "output_type": "execute_result"
    }
   ],
   "source": [
    "text = ['Calcaneus range of motion underestimated by markers on running shoe heel']\n",
    "#text = list(text)\n",
    "s = (vectorizer.transform(text))\n",
    "#s = vectorizer.fit_transform(df)\n",
    "print (s.shape)\n",
    "d = (clf.predict(s))\n",
    "le.inverse_transform(d)[0]"
   ]
  },
  {
   "cell_type": "markdown",
   "metadata": {},
   "source": [
    "## Extreme Gradient Boosting CV\n",
    "### Takes a while and isn't great\n",
    "https://xgboost.readthedocs.io/en/latest/tutorials/model.html"
   ]
  },
  {
   "cell_type": "code",
   "execution_count": 65,
   "metadata": {},
   "outputs": [],
   "source": [
    "import xgboost as xgb\n",
    "\n",
    "dtrain = xgb.DMatrix(data=X_train, label = y_train)\n",
    "dtest = xgb.DMatrix(data=X_test)"
   ]
  },
  {
   "cell_type": "code",
   "execution_count": 67,
   "metadata": {},
   "outputs": [
    {
     "name": "stdout",
     "output_type": "stream",
     "text": [
      "[0]\ttrain-mlogloss:3.36523+0.00391516\ttest-mlogloss:3.36737+0.00485721\n",
      "[10]\ttrain-mlogloss:2.74487+0.0050922\ttest-mlogloss:2.7663+0.00668608\n",
      "[20]\ttrain-mlogloss:2.40075+0.00425035\ttest-mlogloss:2.4388+0.0104117\n",
      "[30]\ttrain-mlogloss:2.1581+0.00387748\ttest-mlogloss:2.21044+0.00999577\n",
      "[40]\ttrain-mlogloss:1.96765+0.00476091\ttest-mlogloss:2.03272+0.00940124\n",
      "[50]\ttrain-mlogloss:1.81689+0.00387246\ttest-mlogloss:1.89316+0.00780871\n",
      "[60]\ttrain-mlogloss:1.69377+0.0034988\ttest-mlogloss:1.78074+0.0067657\n",
      "[70]\ttrain-mlogloss:1.59146+0.00244749\ttest-mlogloss:1.68778+0.00570281\n",
      "[80]\ttrain-mlogloss:1.50526+0.00221001\ttest-mlogloss:1.61057+0.00515232\n",
      "[90]\ttrain-mlogloss:1.43172+0.00228521\ttest-mlogloss:1.54543+0.0042102\n"
     ]
    }
   ],
   "source": [
    "params = {\n",
    "    'objective':'multi:softmax',\n",
    "    'eval_metric':'mlogloss',\n",
    "    'eta':0.025,\n",
    "    'max_depth':10,\n",
    "    'subsample':0.7,\n",
    "    'colsample_bytree':0.7,\n",
    "    'min_child_weight':5,\n",
    "    'num_class': 32\n",
    "    \n",
    "}\n",
    "\n",
    "bst = xgb.cv(params, dtrain, num_boost_round=100,\n",
    "early_stopping_rounds=40, nfold=5, verbose_eval=10)\n",
    "\n",
    "bst_train = xgb.train(params, dtrain, num_boost_round=5)\n",
    "\n",
    "p_test = bst_train.predict(dtest)\n"
   ]
  },
  {
   "cell_type": "code",
   "execution_count": 68,
   "metadata": {},
   "outputs": [
    {
     "name": "stdout",
     "output_type": "stream",
     "text": [
      "0.5115119525151769\n",
      "0.5406316536550745\n"
     ]
    }
   ],
   "source": [
    "\n",
    "print (metrics.f1_score(y_test, p_test, average='macro'))\n",
    "print (metrics.accuracy_score(y_test, p_test))"
   ]
  },
  {
   "cell_type": "markdown",
   "metadata": {},
   "source": [
    "## Stochastic Gradient Descent (SGD) learning"
   ]
  },
  {
   "cell_type": "code",
   "execution_count": 30,
   "metadata": {},
   "outputs": [
    {
     "name": "stdout",
     "output_type": "stream",
     "text": [
      "0.7417950047417524\n",
      "0.7789212207239177\n"
     ]
    }
   ],
   "source": [
    "from sklearn.linear_model import SGDClassifier\n",
    "sgd = SGDClassifier(max_iter=500, random_state=0, tol = 1e-3)\n",
    "sgd.fit(X_train, y_train) \n",
    "pred = lsvc.predict(X_test)\n",
    "print (metrics.f1_score(y_test, pred, average='macro'))\n",
    "print (metrics.accuracy_score(y_test, pred))"
   ]
  },
  {
   "cell_type": "markdown",
   "metadata": {},
   "source": [
    "## Linear SVC"
   ]
  },
  {
   "cell_type": "code",
   "execution_count": 15,
   "metadata": {},
   "outputs": [
    {
     "name": "stdout",
     "output_type": "stream",
     "text": [
      "0.7417950047417524\n",
      "0.7789212207239177\n"
     ]
    }
   ],
   "source": [
    "from sklearn.svm import LinearSVC\n",
    "lsvc =LinearSVC()\n",
    "lsvc.fit(X_train, y_train) \n",
    "pred = lsvc.predict(X_test)\n",
    "print (metrics.f1_score(y_test, pred, average='macro'))\n",
    "print (metrics.accuracy_score(y_test, pred))"
   ]
  },
  {
   "cell_type": "code",
   "execution_count": 31,
   "metadata": {},
   "outputs": [
    {
     "name": "stdout",
     "output_type": "stream",
     "text": [
      "                 precision    recall  f1-score   support\n",
      "\n",
      "           BONE       0.77      0.77      0.77       386\n",
      "         CARDIO       0.77      0.84      0.81       224\n",
      "       CELLULAR       0.79      0.77      0.78       230\n",
      "       EVO/COMP       0.78      0.62      0.69        99\n",
      "           HEAD       0.83      0.87      0.85       689\n",
      "     ERGONOMICS       0.84      0.84      0.84       457\n",
      "JOINT/CARTILAGE       0.69      0.55      0.61       256\n",
      "       MODELING       0.64      0.39      0.49       251\n",
      "         MUSCLE       0.78      0.42      0.54       154\n",
      "         NEURAL       0.73      0.83      0.78       333\n",
      "   ORTHOPAEDICS       0.78      0.86      0.82      1225\n",
      " REHABILITATION       0.77      0.59      0.67       233\n",
      " SPORT/EXERCISE       0.85      0.89      0.87       216\n",
      "TENDON/LIGAMENT       0.79      0.88      0.84       572\n",
      "       ROBOTICS       0.69      0.71      0.70       311\n",
      "\n",
      "      micro avg       0.78      0.78      0.78      5636\n",
      "      macro avg       0.77      0.72      0.74      5636\n",
      "   weighted avg       0.78      0.78      0.77      5636\n",
      "\n"
     ]
    },
    {
     "data": {
      "image/png": "[encoded data removed]",
      "text/plain": [
       "<Figure size 720x720 with 2 Axes>"
      ]
     },
     "metadata": {},
     "output_type": "display_data"
    }
   ],
   "source": [
    "import matplotlib.pyplot as plt\n",
    "import seaborn as sns\n",
    "\n",
    "data['topic_id'] = data['topic'].factorize()[0]\n",
    "topic_id_df = data[['topic',\n",
    "                  'topic_id']].drop_duplicates().sort_values('topic_id')\n",
    "topic_to_id = dict(topic_id_df.values)\n",
    "id_to_topic = dict(topic_id_df[['topic_id','topic']].values)\n",
    "\n",
    "model = lsvc\n",
    "\n",
    "model.fit(X_train, y_train)\n",
    "y_pred = model.predict(X_test)\n",
    "from sklearn.metrics import confusion_matrix\n",
    "plt.rc('xtick',labelsize = 20)\n",
    "plt.rc('ytick',labelsize = 20)\n",
    "conf_mat = confusion_matrix(y_test, y_pred)\n",
    "conf_mat_rowsum = [sum(row) for row in conf_mat]\n",
    "conf_mat_perc = conf_mat / conf_mat_rowsum\n",
    "fig, ax = plt.subplots(figsize=(10,10))\n",
    "sns.set(font_scale=1.2) #font size multiplier\n",
    "sns.heatmap(conf_mat_perc, annot=True, fmt='.0%', cmap = 'viridis', annot_kws={\"size\": 12},\n",
    "            xticklabels=topic_id_df.topic.values, yticklabels=topic_id_df.topic.values)\n",
    "\n",
    "plt.ylabel('Actual',fontsize = 20)\n",
    "plt.xlabel('Predicted',fontsize = 20)\n",
    "plt.yticks(size = 12)\n",
    "plt.xticks(size = 12, rotation=30,ha='right')\n",
    "plt.title('Percent Predicted Correct', fontsize = 26)\n",
    "plt.yticks( rotation='horizontal')\n",
    "fig.tight_layout(pad = 2)\n",
    "\n",
    "\n",
    "from sklearn import metrics\n",
    "print(metrics.classification_report(y_test, y_pred, target_names=data['topic'].unique()))"
   ]
  },
  {
   "cell_type": "markdown",
   "metadata": {},
   "source": [
    "# Deep Learning\n",
    "## https://github.com/akshaybhatia10/Book-Genre-Classification/blob/master/README.md\n",
    "### RNN_LSTM_using_Glove_vectors"
   ]
  },
  {
   "cell_type": "code",
   "execution_count": 90,
   "metadata": {},
   "outputs": [],
   "source": [
    "import numpy as np\n",
    "import pandas as pd\n",
    "import re\n",
    "import tensorflow as tf"
   ]
  },
  {
   "cell_type": "markdown",
   "metadata": {},
   "source": [
    "## loading 400,000 words/vectors"
   ]
  },
  {
   "cell_type": "code",
   "execution_count": 93,
   "metadata": {},
   "outputs": [
    {
     "name": "stdout",
     "output_type": "stream",
     "text": [
      "Loaded the word list!\n",
      "Loaded the word vectors!\n"
     ]
    }
   ],
   "source": [
    "wordsList = np.load('wordsList.npy')\n",
    "print('Loaded the word list!')\n",
    "wordsList = wordsList.tolist() #Originally loaded as numpy array\n",
    "wordsList = [word.decode('UTF-8') for word in wordsList] #Encode words as UTF-8\n",
    "wordVectors = np.load('wordVectors.npy')\n",
    "print ('Loaded the word vectors!')"
   ]
  },
  {
   "cell_type": "code",
   "execution_count": 94,
   "metadata": {},
   "outputs": [
    {
     "name": "stdout",
     "output_type": "stream",
     "text": [
      "['0', ',', '.', 'of', 'to', 'and', 'in', 'a', '\"', \"'s\", 'for', '-', 'that', 'on', 'is', 'was', 'said', 'with', 'he', 'as', 'it', 'by', 'at', '(', ')', 'from', 'his', \"''\", '``', 'an', 'be', 'has', 'are', 'have', 'but', 'were', 'not', 'this', 'who', 'they', 'had', 'i', 'which', 'will', 'their', ':', 'or', 'its', 'one', 'after', 'new', 'been', 'also', 'we', 'would', 'two', 'more', \"'\", 'first', 'about', 'up', 'when', 'year', 'there', 'all', '--', 'out', 'she', 'other', 'people', \"n't\", 'her', 'percent', 'than', 'over', 'into', 'last', 'some', 'government', 'time', '$', 'you', 'years', 'if', 'no', 'world', 'can', 'three', 'do', ';', 'president', 'only', 'state', 'million', 'could', 'us', 'most', '_', 'against', 'u.s.']\n",
      "400000\n"
     ]
    }
   ],
   "source": [
    "print (wordsList[:100])\n",
    "print (len(wordsList))"
   ]
  },
  {
   "cell_type": "code",
   "execution_count": 98,
   "metadata": {},
   "outputs": [
    {
     "name": "stdout",
     "output_type": "stream",
     "text": [
      "                                               title\n",
      "0  Preparation of adenosine-loaded electrospun na...\n",
      "1  The adaption of the bony microstructure of the...\n",
      "2  Effect of caffeine on ovariectomy-induced oste...\n",
      "3  The effect of formalin preservation time and t...\n",
      "4  Accurate and efficient plate and rod microfini...\n",
      "  topic\n",
      "0  BONE\n",
      "1  BONE\n",
      "2  BONE\n",
      "3  BONE\n",
      "4  BONE\n"
     ]
    }
   ],
   "source": [
    "data = pd.read_csv('RYANDATA_consolidated.csv')\n",
    "columns = data.columns\n",
    "\n",
    "papers = pd.DataFrame(data['title'])\n",
    "topic = pd.DataFrame(data['topic'])\n",
    "author = pd.DataFrame(data['authors'])\n",
    "\n",
    "print(papers.head())\n",
    "print(topic.head())"
   ]
  },
  {
   "cell_type": "code",
   "execution_count": 100,
   "metadata": {},
   "outputs": [
    {
     "name": "stdout",
     "output_type": "stream",
     "text": [
      "15\n",
      "['BONE' 'CARDIO' 'CELLULAR' 'EVO/COMP' 'HEAD' 'ERGONOMICS'\n",
      " 'JOINT/CARTILAGE' 'MODELING' 'MUSCLE' 'NEURAL' 'ORTHOPAEDICS'\n",
      " 'REHABILITATION' 'SPORT/EXERCISE' 'TENDON/LIGAMENT' 'ROBOTICS']\n"
     ]
    }
   ],
   "source": [
    "print(len((topic['topic'].unique())))\n",
    "print((topic['topic'].unique()))"
   ]
  },
  {
   "cell_type": "code",
   "execution_count": 101,
   "metadata": {},
   "outputs": [
    {
     "name": "stdout",
     "output_type": "stream",
     "text": [
      "28179\n",
      "28179\n"
     ]
    }
   ],
   "source": [
    "numPapers = (len(papers))\n",
    "numTopics = (len(topic))\n",
    "print(numPapers)\n",
    "print(numTopics)"
   ]
  },
  {
   "cell_type": "code",
   "execution_count": 112,
   "metadata": {},
   "outputs": [
    {
     "name": "stdout",
     "output_type": "stream",
     "text": [
      "73346\n",
      "[-0.33056  -0.75191  -0.83187   0.040003 -0.32114   0.23684   0.53566\n",
      " -0.83674   1.0429   -0.43203   0.79284  -0.35558  -0.30834   0.68488\n",
      " -0.29077   0.22068  -0.06787   0.76226  -0.37807  -0.16478  -0.44117\n",
      "  0.59595  -0.15942  -0.18084   0.60231  -0.11042  -0.23739   0.040095\n",
      " -0.91006  -0.24772  -0.32276  -0.026031  0.20072  -0.8322   -0.26025\n",
      "  0.56193  -0.04521   0.75156   0.94171   0.86385  -0.28436  -0.2659\n",
      "  0.19212   1.5326    0.74176   0.20821   1.3153    0.90003  -0.37785\n",
      " -0.52805 ]\n",
      "(50,)\n"
     ]
    }
   ],
   "source": [
    "aWordIndex = wordsList.index('biomechanics') #see if a word exists!\n",
    "print (aWordIndex)\n",
    "print (wordVectors[aWordIndex])\n",
    "print (wordVectors[aWordIndex].shape)"
   ]
  },
  {
   "cell_type": "code",
   "execution_count": 113,
   "metadata": {},
   "outputs": [
    {
     "name": "stdout",
     "output_type": "stream",
     "text": [
      "(10,)\n",
      "[ 41 317  40   7 835 523   0   0   0   0]\n"
     ]
    }
   ],
   "source": [
    "import tensorflow as tf\n",
    "maxSeqLength = 10 #Maximum length of sentence\n",
    "numDimensions = 300 #Dimensions for each word vector\n",
    "firstSentence = np.zeros((maxSeqLength), dtype='int32')\n",
    "firstSentence[0] = wordsList.index(\"i\")\n",
    "firstSentence[1] = wordsList.index(\"too\")\n",
    "firstSentence[2] = wordsList.index(\"had\")\n",
    "firstSentence[3] = wordsList.index(\"a\")\n",
    "firstSentence[4] = wordsList.index(\"love\")\n",
    "firstSentence[5] = wordsList.index(\"story\")\n",
    "#firstSentence[6] = wordsList.index(\"k\")\n",
    "#firstSentence[7] = wordsList.index(\"ki\")\n",
    "print(firstSentence.shape)\n",
    "print(firstSentence) #Shows the row index for each word"
   ]
  },
  {
   "cell_type": "code",
   "execution_count": 114,
   "metadata": {},
   "outputs": [
    {
     "name": "stdout",
     "output_type": "stream",
     "text": [
      "WARNING:tensorflow:From /anaconda3/lib/python3.6/site-packages/tensorflow/python/ops/embedding_ops.py:132: colocate_with (from tensorflow.python.framework.ops) is deprecated and will be removed in a future version.\n",
      "Instructions for updating:\n",
      "Colocations handled automatically by placer.\n",
      "Word vector for a single word [ 1.1891e-01  1.5255e-01 -8.2073e-02 -7.4144e-01  7.5917e-01 -4.8328e-01\n",
      " -3.1009e-01  5.1476e-01 -9.8708e-01  6.1757e-04 -1.5043e-01  8.3770e-01\n",
      " -1.0797e+00 -5.1460e-01  1.3188e+00  6.2007e-01  1.3779e-01  4.7108e-01\n",
      " -7.2874e-02 -7.2675e-01 -7.4116e-01  7.5263e-01  8.8180e-01  2.9561e-01\n",
      "  1.3548e+00 -2.5701e+00 -1.3523e+00  4.5880e-01  1.0068e+00 -1.1856e+00\n",
      "  3.4737e+00  7.7898e-01 -7.2929e-01  2.5102e-01 -2.6156e-01 -3.4684e-01\n",
      "  5.5841e-01  7.5098e-01  4.9830e-01 -2.6823e-01 -2.7443e-03 -1.8298e-02\n",
      " -2.8096e-01  5.5318e-01  3.7706e-02  1.8555e-01 -1.5025e-01 -5.7512e-01\n",
      " -2.6671e-01  9.2121e-01]\n",
      "\n",
      "\n",
      "Dimension for a single word (50,)\n",
      "\n",
      "\n",
      "Shape of the vector for this sentence (10, 50)\n",
      "\n",
      "\n",
      "Vector for this sentence [[ 1.1891e-01  1.5255e-01 -8.2073e-02 -7.4144e-01  7.5917e-01 -4.8328e-01\n",
      "  -3.1009e-01  5.1476e-01 -9.8708e-01  6.1757e-04 -1.5043e-01  8.3770e-01\n",
      "  -1.0797e+00 -5.1460e-01  1.3188e+00  6.2007e-01  1.3779e-01  4.7108e-01\n",
      "  -7.2874e-02 -7.2675e-01 -7.4116e-01  7.5263e-01  8.8180e-01  2.9561e-01\n",
      "   1.3548e+00 -2.5701e+00 -1.3523e+00  4.5880e-01  1.0068e+00 -1.1856e+00\n",
      "   3.4737e+00  7.7898e-01 -7.2929e-01  2.5102e-01 -2.6156e-01 -3.4684e-01\n",
      "   5.5841e-01  7.5098e-01  4.9830e-01 -2.6823e-01 -2.7443e-03 -1.8298e-02\n",
      "  -2.8096e-01  5.5318e-01  3.7706e-02  1.8555e-01 -1.5025e-01 -5.7512e-01\n",
      "  -2.6671e-01  9.2121e-01]\n",
      " [ 2.8667e-01 -3.8020e-01 -4.1817e-02 -8.5846e-01  6.2480e-02  2.5986e-02\n",
      "  -3.2459e-01  1.8082e-01 -6.5606e-01  5.7880e-01 -4.6697e-01  4.7908e-01\n",
      "  -3.9725e-01  2.3640e-01  5.2934e-01  5.4077e-01  5.6033e-01 -9.9687e-02\n",
      "   1.8613e-01 -1.0673e+00 -5.5724e-01  5.0778e-01  5.6096e-01  2.2290e-01\n",
      "   6.4160e-01 -2.1331e+00 -7.0944e-01  8.6730e-01  9.8519e-01 -2.6189e-01\n",
      "   3.4340e+00  4.3325e-01  2.8927e-01 -2.3043e-01  1.4924e-02 -8.1760e-02\n",
      "  -2.5710e-01  6.5917e-01 -1.1367e-01 -5.9716e-01 -4.5952e-01  5.8421e-01\n",
      "   4.0710e-01  8.6048e-01  2.1110e-01 -4.4352e-02 -2.7231e-01 -1.3064e-01\n",
      "   1.8349e-01  5.8699e-01]\n",
      " [ 6.0348e-01 -5.2096e-01  4.0851e-01 -3.7217e-01  3.6978e-01  6.1082e-01\n",
      "  -1.3228e+00  2.4375e-01 -5.9420e-01 -3.5708e-01  3.9942e-01  3.1911e-02\n",
      "  -1.0643e+00 -5.2327e-01  7.1453e-01  6.3384e-02 -4.6383e-01 -3.4641e-01\n",
      "  -7.2445e-01 -1.3714e-01 -1.9179e-01  7.2225e-01  6.2950e-01 -8.0860e-01\n",
      "  -3.7694e-02 -2.0355e+00  1.0566e-01 -3.8591e-02 -2.3201e-01 -2.9627e-01\n",
      "   3.3215e+00  3.2443e-02  8.5368e-02 -4.0771e-01  4.5341e-01 -9.9674e-02\n",
      "   4.4704e-01  5.4220e-01  1.8185e-01  1.7504e-01 -3.3833e-01  3.1697e-01\n",
      "  -2.5268e-02  9.5795e-02 -2.5071e-01 -4.7564e-01 -1.0407e+00 -1.5138e-01\n",
      "  -2.2057e-01 -5.9633e-01]\n",
      " [ 2.1705e-01  4.6515e-01 -4.6757e-01  1.0082e-01  1.0135e+00  7.4845e-01\n",
      "  -5.3104e-01 -2.6256e-01  1.6812e-01  1.3182e-01 -2.4909e-01 -4.4185e-01\n",
      "  -2.1739e-01  5.1004e-01  1.3448e-01 -4.3141e-01 -3.1230e-02  2.0674e-01\n",
      "  -7.8138e-01 -2.0148e-01 -9.7401e-02  1.6088e-01 -6.1836e-01 -1.8504e-01\n",
      "  -1.2461e-01 -2.2526e+00 -2.2321e-01  5.0430e-01  3.2257e-01  1.5313e-01\n",
      "   3.9636e+00 -7.1365e-01 -6.7012e-01  2.8388e-01  2.1738e-01  1.4433e-01\n",
      "   2.5926e-01  2.3434e-01  4.2740e-01 -4.4451e-01  1.3813e-01  3.6973e-01\n",
      "  -6.4289e-01  2.4142e-02 -3.9315e-02 -2.6037e-01  1.2017e-01 -4.3782e-02\n",
      "   4.1013e-01  1.7960e-01]\n",
      " [-1.3886e-01  1.1401e+00 -8.5212e-01 -2.9212e-01  7.5534e-01  8.2762e-01\n",
      "  -3.1810e-01  7.2204e-03 -3.4762e-01  1.0731e+00 -2.4665e-01  9.7765e-01\n",
      "  -5.5835e-01 -9.0318e-02  8.3182e-01 -3.3317e-01  2.2648e-01  3.0913e-01\n",
      "   2.6929e-02 -8.6739e-02 -1.4703e-01  1.3543e+00  5.3695e-01  4.3735e-01\n",
      "   1.2749e+00 -1.4382e+00 -1.2815e+00 -1.5196e-01  1.0506e+00 -9.3644e-01\n",
      "   2.7561e+00  5.8967e-01 -2.9473e-01  2.7574e-01 -3.2928e-01 -2.0100e-01\n",
      "  -2.8547e-01 -4.5987e-01 -1.4603e-01 -6.9372e-01  7.0761e-02 -1.9326e-01\n",
      "  -1.8550e-01 -1.6095e-01  2.4268e-01  2.0784e-01  3.0924e-02 -1.3711e+00\n",
      "  -2.8606e-01  2.8980e-01]\n",
      " [ 4.8251e-01  8.7746e-01 -2.3455e-01  2.6200e-02  7.9691e-01  4.3102e-01\n",
      "  -6.0902e-01 -6.0764e-01 -4.2812e-01 -1.2523e-02 -1.2894e+00  5.2656e-01\n",
      "  -8.2763e-01  3.0689e-01  1.1972e+00 -4.7674e-01 -4.6885e-01 -1.9524e-01\n",
      "  -2.8403e-01  3.5237e-01  4.5536e-01  7.6853e-01  6.2157e-03  5.5421e-01\n",
      "   1.0006e+00 -1.3973e+00 -1.6894e+00  3.0003e-01  6.0678e-01 -4.6044e-01\n",
      "   2.5961e+00 -1.2178e+00  2.8747e-01 -4.6175e-01 -2.5943e-01  3.8209e-01\n",
      "  -2.8312e-01 -4.7642e-01 -5.9444e-02 -5.9202e-01  2.5613e-01  2.1306e-01\n",
      "  -1.6129e-02 -2.9873e-01 -1.9468e-01  5.3611e-01  7.5459e-01 -4.1120e-01\n",
      "   2.3625e-01  2.6451e-01]\n",
      " [ 0.0000e+00  0.0000e+00  0.0000e+00  0.0000e+00  0.0000e+00  0.0000e+00\n",
      "   0.0000e+00  0.0000e+00  0.0000e+00  0.0000e+00  0.0000e+00  0.0000e+00\n",
      "   0.0000e+00  0.0000e+00  0.0000e+00  0.0000e+00  0.0000e+00  0.0000e+00\n",
      "   0.0000e+00  0.0000e+00  0.0000e+00  0.0000e+00  0.0000e+00  0.0000e+00\n",
      "   0.0000e+00  0.0000e+00  0.0000e+00  0.0000e+00  0.0000e+00  0.0000e+00\n",
      "   0.0000e+00  0.0000e+00  0.0000e+00  0.0000e+00  0.0000e+00  0.0000e+00\n",
      "   0.0000e+00  0.0000e+00  0.0000e+00  0.0000e+00  0.0000e+00  0.0000e+00\n",
      "   0.0000e+00  0.0000e+00  0.0000e+00  0.0000e+00  0.0000e+00  0.0000e+00\n",
      "   0.0000e+00  0.0000e+00]\n",
      " [ 0.0000e+00  0.0000e+00  0.0000e+00  0.0000e+00  0.0000e+00  0.0000e+00\n",
      "   0.0000e+00  0.0000e+00  0.0000e+00  0.0000e+00  0.0000e+00  0.0000e+00\n",
      "   0.0000e+00  0.0000e+00  0.0000e+00  0.0000e+00  0.0000e+00  0.0000e+00\n",
      "   0.0000e+00  0.0000e+00  0.0000e+00  0.0000e+00  0.0000e+00  0.0000e+00\n",
      "   0.0000e+00  0.0000e+00  0.0000e+00  0.0000e+00  0.0000e+00  0.0000e+00\n",
      "   0.0000e+00  0.0000e+00  0.0000e+00  0.0000e+00  0.0000e+00  0.0000e+00\n",
      "   0.0000e+00  0.0000e+00  0.0000e+00  0.0000e+00  0.0000e+00  0.0000e+00\n",
      "   0.0000e+00  0.0000e+00  0.0000e+00  0.0000e+00  0.0000e+00  0.0000e+00\n",
      "   0.0000e+00  0.0000e+00]\n",
      " [ 0.0000e+00  0.0000e+00  0.0000e+00  0.0000e+00  0.0000e+00  0.0000e+00\n",
      "   0.0000e+00  0.0000e+00  0.0000e+00  0.0000e+00  0.0000e+00  0.0000e+00\n",
      "   0.0000e+00  0.0000e+00  0.0000e+00  0.0000e+00  0.0000e+00  0.0000e+00\n",
      "   0.0000e+00  0.0000e+00  0.0000e+00  0.0000e+00  0.0000e+00  0.0000e+00\n",
      "   0.0000e+00  0.0000e+00  0.0000e+00  0.0000e+00  0.0000e+00  0.0000e+00\n",
      "   0.0000e+00  0.0000e+00  0.0000e+00  0.0000e+00  0.0000e+00  0.0000e+00\n",
      "   0.0000e+00  0.0000e+00  0.0000e+00  0.0000e+00  0.0000e+00  0.0000e+00\n",
      "   0.0000e+00  0.0000e+00  0.0000e+00  0.0000e+00  0.0000e+00  0.0000e+00\n",
      "   0.0000e+00  0.0000e+00]\n",
      " [ 0.0000e+00  0.0000e+00  0.0000e+00  0.0000e+00  0.0000e+00  0.0000e+00\n",
      "   0.0000e+00  0.0000e+00  0.0000e+00  0.0000e+00  0.0000e+00  0.0000e+00\n",
      "   0.0000e+00  0.0000e+00  0.0000e+00  0.0000e+00  0.0000e+00  0.0000e+00\n",
      "   0.0000e+00  0.0000e+00  0.0000e+00  0.0000e+00  0.0000e+00  0.0000e+00\n",
      "   0.0000e+00  0.0000e+00  0.0000e+00  0.0000e+00  0.0000e+00  0.0000e+00\n",
      "   0.0000e+00  0.0000e+00  0.0000e+00  0.0000e+00  0.0000e+00  0.0000e+00\n",
      "   0.0000e+00  0.0000e+00  0.0000e+00  0.0000e+00  0.0000e+00  0.0000e+00\n",
      "   0.0000e+00  0.0000e+00  0.0000e+00  0.0000e+00  0.0000e+00  0.0000e+00\n",
      "   0.0000e+00  0.0000e+00]]\n"
     ]
    }
   ],
   "source": [
    "with tf.Session() as sess:\n",
    "    print(\"Word vector for a single word\", tf.nn.embedding_lookup(wordVectors, firstSentence).eval()[0])\n",
    "    print(\"\\n\")\n",
    "    print(\"Dimension for a single word\", tf.nn.embedding_lookup(wordVectors, firstSentence).eval()[0].shape)\n",
    "    print ('\\n')\n",
    "    print(\"Shape of the vector for this sentence\", tf.nn.embedding_lookup(wordVectors, firstSentence).eval().shape)\n",
    "    print (\"\\n\")\n",
    "    print(\"Vector for this sentence\", tf.nn.embedding_lookup(wordVectors, firstSentence).eval())"
   ]
  },
  {
   "cell_type": "code",
   "execution_count": 116,
   "metadata": {},
   "outputs": [
    {
     "name": "stdout",
     "output_type": "stream",
     "text": [
      "The total number of words in all papers is 415665\n",
      "The average number of words in the each paper title is 14.750878313637815\n"
     ]
    }
   ],
   "source": [
    "numWords = []\n",
    "for i,j in enumerate(papers['title']):\n",
    "    counter = len(j.split())\n",
    "    numWords.append(counter)  \n",
    "    \n",
    "print('The total number of words in all papers titles is', sum(numWords))\n",
    "print('The average number of words in the each paper title is', sum(numWords)/len(numWords))"
   ]
  },
  {
   "cell_type": "code",
   "execution_count": 125,
   "metadata": {},
   "outputs": [
    {
     "data": {
      "image/png": "[encoded data removed]",
      "text/plain": [
       "<Figure size 432x288 with 1 Axes>"
      ]
     },
     "metadata": {
      "needs_background": "light"
     },
     "output_type": "display_data"
    }
   ],
   "source": [
    "import matplotlib.pyplot as plt\n",
    "%matplotlib inline\n",
    "plt.hist(numWords, 40)\n",
    "plt.xlabel('Sequence Length')\n",
    "plt.ylabel('Frequency')\n",
    "# plt.axis([0, 40, 0, 3000])\n",
    "plt.title('number of words per title')\n",
    "plt.show()\n",
    "\n",
    "#so we set a max length larger than average \n",
    "maxSeqLength = 25"
   ]
  },
  {
   "cell_type": "code",
   "execution_count": 124,
   "metadata": {},
   "outputs": [
    {
     "name": "stdout",
     "output_type": "stream",
     "text": [
      "Preparation of adenosine-loaded electrospun nanofibers and their application in bone regeneration\n",
      "preparation of adenosineloaded electrospun nanofibers and their application in bone regeneration\n",
      "\n",
      "\n",
      "Femoral head necrosis: a finite element analysis of common and novel surgical techniques\n",
      "femoral head necrosis a finite element analysis of common and novel surgical techniques\n",
      "\n",
      "\n",
      "Adynamic bone decreases bone toughness during aging by affecting mineral and matrix\n",
      "adynamic bone decreases bone toughness during aging by affecting mineral and matrix\n",
      "\n",
      "\n",
      "Trabecular bone structure correlates with hand posture and use in hominoids\n",
      "trabecular bone structure correlates with hand posture and use in hominoids\n",
      "\n",
      "\n",
      "Finite element analysis for fatigue behaviour of a self-expanding nitinol peripheral stent under physiological biomechanical conditions\n",
      "finite element analysis for fatigue behaviour of a selfexpanding nitinol peripheral stent under physiological biomechanical conditions\n"
     ]
    }
   ],
   "source": [
    "# Removes punctuation, parentheses, question marks, etc., and \n",
    "# leaves only alphanumeric characters\n",
    "import re\n",
    "strip_special_chars = re.compile(\"[^A-Za-z0-9 ]+\")\n",
    "\n",
    "def cleanSentences(string):\n",
    "    string = string.lower().replace(\"<br />\", \" \")\n",
    "    return re.sub(strip_special_chars, \"\", string.lower())\n",
    "\n",
    "print (papers['title'][0])\n",
    "print (cleanSentences(papers['title'][0]))\n",
    "print ('\\n')\n",
    "print (papers['title'][500])\n",
    "print (cleanSentences(papers['title'][500]))\n",
    "print ('\\n')\n",
    "print (papers['title'][1000])\n",
    "print (cleanSentences(papers['title'][1000]))\n",
    "print ('\\n')\n",
    "print (papers['title'][1500])\n",
    "print (cleanSentences(papers['title'][1500]))\n",
    "print ('\\n')\n",
    "print (papers['title'][2000])\n",
    "print (cleanSentences(papers['title'][2000]))\n"
   ]
  },
  {
   "cell_type": "code",
   "execution_count": 135,
   "metadata": {},
   "outputs": [
    {
     "name": "stdout",
     "output_type": "stream",
     "text": [
      "CPU times: user 5min 1s, sys: 406 ms, total: 5min 1s\n",
      "Wall time: 5min 1s\n"
     ]
    }
   ],
   "source": [
    "%%time\n",
    "features = np.zeros((numPapers, maxSeqLength), dtype='int32')\n",
    "\n",
    "fileCounter = 0\n",
    "\n",
    "for i,j in enumerate(papers['title']): \n",
    "    indexCounter = 0\n",
    "    cleanedLine = cleanSentences(j)\n",
    "    split = cleanedLine.split()\n",
    "    for word in split:\n",
    "        try:\n",
    "            features[fileCounter][indexCounter] = wordsList.index(word)\n",
    "        except ValueError:\n",
    "            features[fileCounter][indexCounter] = 399999 #Vector for unkown words\n",
    "        indexCounter = indexCounter + 1\n",
    "        if indexCounter >= maxSeqLength:\n",
    "            break\n",
    "    fileCounter = fileCounter + 1 \n",
    "\n",
    "np.save('idsMatrix25', features)"
   ]
  },
  {
   "cell_type": "code",
   "execution_count": 137,
   "metadata": {},
   "outputs": [],
   "source": [
    "#to load features\n",
    "features = np.load('idsMatrix25.npy')"
   ]
  },
  {
   "cell_type": "code",
   "execution_count": 138,
   "metadata": {},
   "outputs": [
    {
     "data": {
      "text/plain": [
       "(28179, 25)"
      ]
     },
     "execution_count": 138,
     "metadata": {},
     "output_type": "execute_result"
    }
   ],
   "source": [
    "features.shape\n"
   ]
  },
  {
   "cell_type": "code",
   "execution_count": 142,
   "metadata": {},
   "outputs": [
    {
     "name": "stdout",
     "output_type": "stream",
     "text": [
      "Marble-derived microcalcite improves bone healing in mice osteotomy\n"
     ]
    },
    {
     "data": {
      "text/plain": [
       "array([399999, 399999,  14191,   5226,   9062,      6,  10085, 211295,\n",
       "            0,      0,      0,      0,      0,      0,      0,      0,\n",
       "            0,      0,      0,      0,      0,      0,      0,      0,\n",
       "            0], dtype=int32)"
      ]
     },
     "execution_count": 142,
     "metadata": {},
     "output_type": "execute_result"
    }
   ],
   "source": [
    "print (papers['title'][100]) #first paper title\n",
    "features[100]"
   ]
  },
  {
   "cell_type": "code",
   "execution_count": 145,
   "metadata": {},
   "outputs": [
    {
     "name": "stderr",
     "output_type": "stream",
     "text": [
      "Using TensorFlow backend.\n"
     ]
    },
    {
     "data": {
      "text/plain": [
       "(28179, 32)"
      ]
     },
     "execution_count": 145,
     "metadata": {},
     "output_type": "execute_result"
    }
   ],
   "source": [
    "#convert topic (labels) usign LabelEncoder \n",
    "from sklearn.preprocessing import LabelEncoder\n",
    "\n",
    "feat = ['topic']\n",
    "for x in feat:\n",
    "    le = LabelEncoder()\n",
    "    le.fit(list(topic[x].values))\n",
    "    topic[x] = le.transform(list(topic[x]))\n",
    "    \n",
    "from keras.utils.np_utils import to_categorical #categorical variables (labels)\n",
    "target = to_categorical(topic['topic'], 32)\n",
    "target.shape"
   ]
  },
  {
   "cell_type": "code",
   "execution_count": 188,
   "metadata": {},
   "outputs": [],
   "source": [
    "import scipy as sp\n",
    "# define hyperparameters\n",
    "batchSize = 64\n",
    "lstmUnits = 2\n",
    "numClasses = 32\n",
    "iterations = 10\n",
    "numDimensions = 25\n",
    "\n",
    "#helper function to get batches\n",
    "def get_batches(x, y, batch_size=100):\n",
    "    \n",
    "    n_batches = x.shape[0]//batch_size\n",
    "    x, y = x[:n_batches*batch_size], y[:n_batches*batch_size]\n",
    "    for ii in range(0, x.shape[0], batch_size):\n",
    "        yield x[ii:ii+batch_size], y[ii:ii+batch_size]"
   ]
  },
  {
   "cell_type": "markdown",
   "metadata": {},
   "source": [
    "### Model"
   ]
  },
  {
   "cell_type": "code",
   "execution_count": 151,
   "metadata": {},
   "outputs": [],
   "source": [
    "tf.reset_default_graph()\n",
    "\n",
    "labels = tf.placeholder(tf.float32, [batchSize, numClasses])\n",
    "input_data = tf.placeholder(tf.int32, [batchSize, maxSeqLength])\n",
    "\n",
    "#embed layer\n",
    "data = tf.Variable(tf.zeros([batchSize, maxSeqLength, numDimensions]),dtype=tf.float32)\n",
    "data = tf.nn.embedding_lookup(wordVectors, input_data)\n",
    "\n",
    "#tensorflow magic\n",
    "lstmCell = tf.contrib.rnn.BasicLSTMCell(lstmUnits)\n",
    "lstmCell = tf.contrib.rnn.DropoutWrapper(cell=lstmCell, output_keep_prob=0.50)\n",
    "value, _ = tf.nn.dynamic_rnn(lstmCell, data, dtype=tf.float32)\n",
    "\n",
    "weight = tf.Variable(tf.truncated_normal([lstmUnits, numClasses]))\n",
    "bias = tf.Variable(tf.constant(0.1, shape=[numClasses]))\n",
    "value = tf.transpose(value, [1, 0, 2])\n",
    "last = tf.gather(value, int(value.get_shape()[0]) - 1)\n",
    "prediction = (tf.matmul(last, weight) + bias)\n",
    "\n",
    "correctPred = tf.equal(tf.argmax(prediction,1), tf.argmax(labels,1))\n",
    "accuracy = tf.reduce_mean(tf.cast(correctPred, tf.float32))\n",
    "\n",
    "loss = tf.reduce_mean(tf.nn.softmax_cross_entropy_with_logits(logits=prediction, labels=labels))\n",
    "optimizer = tf.train.AdamOptimizer(0.001).minimize(loss)"
   ]
  },
  {
   "cell_type": "markdown",
   "metadata": {},
   "source": [
    "### Training"
   ]
  },
  {
   "cell_type": "code",
   "execution_count": 194,
   "metadata": {},
   "outputs": [
    {
     "ename": "ValueError",
     "evalue": "setting an array element with a sequence.",
     "output_type": "error",
     "traceback": [
      "\u001b[0;31m---------------------------------------------------------------------------\u001b[0m",
      "\u001b[0;31mValueError\u001b[0m                                Traceback (most recent call last)",
      "\u001b[0;32m<timed exec>\u001b[0m in \u001b[0;36m<module>\u001b[0;34m\u001b[0m\n",
      "\u001b[0;32m/anaconda3/lib/python3.6/site-packages/tensorflow/python/client/session.py\u001b[0m in \u001b[0;36mrun\u001b[0;34m(self, fetches, feed_dict, options, run_metadata)\u001b[0m\n\u001b[1;32m    927\u001b[0m     \u001b[0;32mtry\u001b[0m\u001b[0;34m:\u001b[0m\u001b[0;34m\u001b[0m\u001b[0;34m\u001b[0m\u001b[0m\n\u001b[1;32m    928\u001b[0m       result = self._run(None, fetches, feed_dict, options_ptr,\n\u001b[0;32m--> 929\u001b[0;31m                          run_metadata_ptr)\n\u001b[0m\u001b[1;32m    930\u001b[0m       \u001b[0;32mif\u001b[0m \u001b[0mrun_metadata\u001b[0m\u001b[0;34m:\u001b[0m\u001b[0;34m\u001b[0m\u001b[0;34m\u001b[0m\u001b[0m\n\u001b[1;32m    931\u001b[0m         \u001b[0mproto_data\u001b[0m \u001b[0;34m=\u001b[0m \u001b[0mtf_session\u001b[0m\u001b[0;34m.\u001b[0m\u001b[0mTF_GetBuffer\u001b[0m\u001b[0;34m(\u001b[0m\u001b[0mrun_metadata_ptr\u001b[0m\u001b[0;34m)\u001b[0m\u001b[0;34m\u001b[0m\u001b[0;34m\u001b[0m\u001b[0m\n",
      "\u001b[0;32m/anaconda3/lib/python3.6/site-packages/tensorflow/python/client/session.py\u001b[0m in \u001b[0;36m_run\u001b[0;34m(self, handle, fetches, feed_dict, options, run_metadata)\u001b[0m\n\u001b[1;32m   1119\u001b[0m             \u001b[0mfeed_handles\u001b[0m\u001b[0;34m[\u001b[0m\u001b[0msubfeed_t\u001b[0m\u001b[0;34m]\u001b[0m \u001b[0;34m=\u001b[0m \u001b[0msubfeed_val\u001b[0m\u001b[0;34m\u001b[0m\u001b[0;34m\u001b[0m\u001b[0m\n\u001b[1;32m   1120\u001b[0m           \u001b[0;32melse\u001b[0m\u001b[0;34m:\u001b[0m\u001b[0;34m\u001b[0m\u001b[0;34m\u001b[0m\u001b[0m\n\u001b[0;32m-> 1121\u001b[0;31m             \u001b[0mnp_val\u001b[0m \u001b[0;34m=\u001b[0m \u001b[0mnp\u001b[0m\u001b[0;34m.\u001b[0m\u001b[0masarray\u001b[0m\u001b[0;34m(\u001b[0m\u001b[0msubfeed_val\u001b[0m\u001b[0;34m,\u001b[0m \u001b[0mdtype\u001b[0m\u001b[0;34m=\u001b[0m\u001b[0msubfeed_dtype\u001b[0m\u001b[0;34m)\u001b[0m\u001b[0;34m\u001b[0m\u001b[0;34m\u001b[0m\u001b[0m\n\u001b[0m\u001b[1;32m   1122\u001b[0m \u001b[0;34m\u001b[0m\u001b[0m\n\u001b[1;32m   1123\u001b[0m           if (not is_tensor_handle_feed and\n",
      "\u001b[0;32m/anaconda3/lib/python3.6/site-packages/numpy/core/numeric.py\u001b[0m in \u001b[0;36masarray\u001b[0;34m(a, dtype, order)\u001b[0m\n\u001b[1;32m    536\u001b[0m \u001b[0;34m\u001b[0m\u001b[0m\n\u001b[1;32m    537\u001b[0m     \"\"\"\n\u001b[0;32m--> 538\u001b[0;31m     \u001b[0;32mreturn\u001b[0m \u001b[0marray\u001b[0m\u001b[0;34m(\u001b[0m\u001b[0ma\u001b[0m\u001b[0;34m,\u001b[0m \u001b[0mdtype\u001b[0m\u001b[0;34m,\u001b[0m \u001b[0mcopy\u001b[0m\u001b[0;34m=\u001b[0m\u001b[0;32mFalse\u001b[0m\u001b[0;34m,\u001b[0m \u001b[0morder\u001b[0m\u001b[0;34m=\u001b[0m\u001b[0morder\u001b[0m\u001b[0;34m)\u001b[0m\u001b[0;34m\u001b[0m\u001b[0;34m\u001b[0m\u001b[0m\n\u001b[0m\u001b[1;32m    539\u001b[0m \u001b[0;34m\u001b[0m\u001b[0m\n\u001b[1;32m    540\u001b[0m \u001b[0;34m\u001b[0m\u001b[0m\n",
      "\u001b[0;31mValueError\u001b[0m: setting an array element with a sequence."
     ]
    }
   ],
   "source": [
    "%%time\n",
    "sess = tf.InteractiveSession()\n",
    "saver = tf.train.Saver()\n",
    "sess.run(tf.global_variables_initializer())\n",
    "\n",
    "for i in range(iterations):\n",
    "    #Next Batch of reviews\n",
    "    for ii, (x, y) in enumerate(get_batches(X_train, y_train, batch_size = batchSize)):\n",
    "        sess.run(optimizer, {input_data: x, labels: y})\n",
    "        #acc,loss = sess.run([accuracy,loss], {input_data: x, labels: y})\n",
    "    print(\"Loss for {} epoch: {}\".format(i, (sess.run(loss, {input_data: x, labels: y}))))    \n",
    "    print(\"Accuracy for {} epoch: {}\".format(i, (sess.run(accuracy, {input_data: x, labels: y})) * 100))\n",
    "    \n",
    "save_path = saver.save(sess, \"models/test.ckpt\", global_step=i)    "
   ]
  },
  {
   "cell_type": "markdown",
   "metadata": {},
   "source": [
    "# broke.\n",
    "\n",
    "### go to https://github.com/akshaybhatia10/Book-Genre-Classification/blob/master/README.md for help"
   ]
  }
 ],
 "metadata": {
  "kernelspec": {
   "display_name": "Python 3",
   "language": "python",
   "name": "python3"
  },
  "language_info": {
   "codemirror_mode": {
    "name": "ipython",
    "version": 3
   },
   "file_extension": ".py",
   "mimetype": "text/x-python",
   "name": "python",
   "nbconvert_exporter": "python",
   "pygments_lexer": "ipython3",
   "version": "3.6.8"
  },
  "varInspector": {
   "cols": {
    "lenName": 16,
    "lenType": 16,
    "lenVar": 40
   },
   "kernels_config": {
    "python": {
     "delete_cmd_postfix": "",
     "delete_cmd_prefix": "del ",
     "library": "var_list.py",
     "varRefreshCmd": "print(var_dic_list())"
    },
    "r": {
     "delete_cmd_postfix": ") ",
     "delete_cmd_prefix": "rm(",
     "library": "var_list.r",
     "varRefreshCmd": "cat(var_dic_list()) "
    }
   },
   "types_to_exclude": [
    "module",
    "function",
    "builtin_function_or_method",
    "instance",
    "_Feature"
   ],
   "window_display": false
  }
 },
 "nbformat": 4,
 "nbformat_minor": 2
}
