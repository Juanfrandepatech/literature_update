{
 "cells": [
  {
   "cell_type": "code",
   "execution_count": null,
   "metadata": {
    "collapsed": true
   },
   "outputs": [],
   "source": []
  },
  {
   "cell_type": "code",
   "execution_count": 31,
   "metadata": {},
   "outputs": [
    {
     "name": "stdout",
     "output_type": "stream",
     "text": [
      "\n",
      "* [The ActiGraph counts processing and the assessment of vigorous activity.](https://www.ncbi.nlm.nih.gov/pubmed/30980611)\n",
      "Aadland E,\n",
      "Andersen LB,\n",
      "Resaland GK,\n",
      "Andersen SA,\n",
      "Arvidsson D,\n",
      "Clinical physiology and functional imaging\n",
      "<br>\n",
      "\n",
      "* [Effects of running biomechanics on the occurrence of iliotibial band syndrome in male runners during an eight-week running programme-a prospective study.](https://www.ncbi.nlm.nih.gov/pubmed/30973056)\n",
      "Mao D,\n",
      "Zhang C,\n",
      "Sun W,\n",
      "Song Q,\n",
      "Sports biomechanics\n",
      "<br>\n",
      "\n"
     ]
    }
   ],
   "source": [
    "from Bio import Entrez\n",
    "import numpy as np\n",
    "\n",
    "def search(query):\n",
    "    Entrez.email = 'your.email@example.com'\n",
    "    handle = Entrez.esearch(db='pubmed', \n",
    "                            sort='most recent', \n",
    "                            retmax='30',\n",
    "                            retmode='xml', \n",
    "                            reldate = 7, #only within n days from now\n",
    "                            term=query)\n",
    "    results = Entrez.read(handle)\n",
    "    return results\n",
    "\n",
    "def fetch_details(id_list):\n",
    "    ids = ','.join(id_list)\n",
    "    Entrez.email = 'your.email@example.com'\n",
    "    handle = Entrez.efetch(db='pubmed',\n",
    "                           retmode='xml',\n",
    "                           id=ids)\n",
    "    results = Entrez.read(handle)\n",
    "    return results\n",
    "\n",
    "search_results = search('(biomech*[Title/Abstract] OR locomot*[Title/Abstract]) AND bone*[Title/Abstract] NOT mice NOT fish NOT bird NOT rat NOT zoo')\n",
    "id_list = search_results['IdList']\n",
    "papers = fetch_details(id_list)\n",
    "print(\"\")\n",
    "for i, paper in enumerate(papers['PubmedArticle']):\n",
    "    print(\"* [%s](https://www.ncbi.nlm.nih.gov/pubmed/%s)\" % (paper['MedlineCitation']['Article']['ArticleTitle'],paper['MedlineCitation']['PMID']))\n",
    "    for auth in np.arange(1,np.size(paper['MedlineCitation']['Article']['AuthorList'])):\n",
    "        print(\"%s %s,\" % (paper['MedlineCitation']['Article']['AuthorList'][auth]['LastName'],paper['MedlineCitation']['Article']['AuthorList'][auth]['Initials']))\n",
    "    print('%s' % (paper['MedlineCitation']['Article']['Journal']['Title']) )\n",
    "    # #store keywords \n",
    "    # print(\"----\")\n",
    "    # if paper['MedlineCitation']['KeywordList'] != []:\n",
    "    #     for kw in np.arange(1,np.size(paper['MedlineCitation']['KeywordList'][0])):\n",
    "    #         print(paper['MedlineCitation']['KeywordList'][0][kw-1][:])\n",
    "    # else:\n",
    "    #     print(\"NO_KEYWORDS\")\n",
    "    print(\"<br>\") #linebreak for github md \n",
    "    #end keywords test\n",
    "    print(\"\")\n"
   ]
  },
  {
   "cell_type": "raw",
   "metadata": {},
   "source": []
  },
  {
   "cell_type": "code",
   "execution_count": null,
   "metadata": {
    "collapsed": true
   },
   "outputs": [],
   "source": []
  }
 ],
 "metadata": {
  "kernelspec": {
   "display_name": "Python 3",
   "language": "python",
   "name": "python3"
  },
  "language_info": {
   "codemirror_mode": {
    "name": "ipython",
    "version": 3
   },
   "file_extension": ".py",
   "mimetype": "text/x-python",
   "name": "python",
   "nbconvert_exporter": "python",
   "pygments_lexer": "ipython3",
   "version": "3.7.0"
  }
 },
 "nbformat": 4,
 "nbformat_minor": 2
}
