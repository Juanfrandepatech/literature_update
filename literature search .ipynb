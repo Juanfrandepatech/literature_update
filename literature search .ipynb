{
 "cells": [
  {
   "cell_type": "code",
   "execution_count": 9,
   "metadata": {},
   "outputs": [
    {
     "name": "stdout",
     "output_type": "stream",
     "text": [
      "\n",
      "* [Metabolic Power in Team Sports - Part 1: An Update.](https://www.ncbi.nlm.nih.gov/pubmed/29902808)\n",
      "Osgnach C,\n",
      "International journal of sports medicine\n",
      "\n",
      "* [Experimental data-set for prediction of tool wear during turning of Al-1061 alloy by high speed steel cutting tools.](https://www.ncbi.nlm.nih.gov/pubmed/29900294)\n",
      "Ohunakin OS,\n",
      "Bolu CA,\n",
      "Okokpujie KO,\n",
      "Data in brief\n",
      "\n",
      "* [Influence of Maximal Running Shoes on Biomechanics Before and After a 5K Run.](https://www.ncbi.nlm.nih.gov/pubmed/29900183)\n",
      "Ter Har JA,\n",
      "Hannigan JJ,\n",
      "Norcross MF,\n",
      "Orthopaedic journal of sports medicine\n",
      "\n",
      "* [Short- and long-term effects of altered point of ground reaction force application on human running energetics.](https://www.ncbi.nlm.nih.gov/pubmed/29895679)\n",
      "Santuz A,\n",
      "Arampatzis A,\n",
      "The Journal of experimental biology\n",
      "\n",
      "* [Update and extension of the 'Equivalent Slope' of speed changing level locomotion in humans: a computational model for shuttle running.](https://www.ncbi.nlm.nih.gov/pubmed/29895678)\n",
      "Pavei G,\n",
      "The Journal of experimental biology\n",
      "\n",
      "* [Paraphalangeal elements of gekkonid lizards: A comparative survey.](https://www.ncbi.nlm.nih.gov/pubmed/29890794)\n",
      "Bauer AM,\n",
      "Journal of morphology\n",
      "\n",
      "* [An examination of treadmill running familiarisation in barefoot and shod conditions in healthy men.](https://www.ncbi.nlm.nih.gov/pubmed/29889653)\n",
      "Weeks BK,\n",
      "Horan SA,\n",
      "Journal of sports sciences\n",
      "\n",
      "* [The effects & mechanisms of increasing running step rate: A feasibility study in a mixed-sex group of runners with patellofemoral pain.](https://www.ncbi.nlm.nih.gov/pubmed/29879639)\n",
      "Barton CJ,\n",
      "Birn-Jeffrey A,\n",
      "Daley M,\n",
      "Morrissey D,\n",
      "Physical therapy in sport : official journal of the Association of Chartered Physiotherapists in Sports Medicine\n",
      "\n",
      "* [Linking locomotor performance to morphological shifts in urban lizards.](https://www.ncbi.nlm.nih.gov/pubmed/29875296)\n",
      "Maayan I,\n",
      "Fredette JR,\n",
      "Revell LJ,\n",
      "Proceedings. Biological sciences\n",
      "\n"
     ]
    }
   ],
   "source": [
    "from Bio import Entrez\n",
    "import pylab as py\n",
    "\n",
    "def search(query):\n",
    "    Entrez.email = 'your.email@example.com'\n",
    "    handle = Entrez.esearch(db='pubmed', \n",
    "                            sort='most recent', \n",
    "                            retmax='30',\n",
    "                            retmode='xml', \n",
    "                            reldate = 7, #only within n days from now\n",
    "                            term=query)\n",
    "    results = Entrez.read(handle)\n",
    "    return results\n",
    "\n",
    "def fetch_details(id_list):\n",
    "    ids = ','.join(id_list)\n",
    "    Entrez.email = 'your.email@example.com'\n",
    "    handle = Entrez.efetch(db='pubmed',\n",
    "                           retmode='xml',\n",
    "                           id=ids)\n",
    "    results = Entrez.read(handle)\n",
    "    return results\n",
    "\n",
    "#SEARCH TERMS BELOW\n",
    "if __name__ == '__main__':\n",
    "    results = search('(biomech*[Title/Abstract] OR locomot*[Title/Abstract]) AND run*[Title/Abstract] NOT mice NOT fish NOT bird NOT rat NOT zoo')\n",
    "    id_list = results['IdList']\n",
    "    papers = fetch_details(id_list)\n",
    "    print(\"\")\n",
    "    for i, paper in enumerate(papers['PubmedArticle']):\n",
    "        print(\"* [%s](https://www.ncbi.nlm.nih.gov/pubmed/%s)\" % (paper['MedlineCitation']['Article']['ArticleTitle'],paper['MedlineCitation']['PMID']))\n",
    "        for auth in py.arange(1,py.size(paper['MedlineCitation']['Article']['AuthorList'])):\n",
    "            print(\"%s %s,\" % (paper['MedlineCitation']['Article']['AuthorList'][auth]['LastName'],paper['MedlineCitation']['Article']['AuthorList'][auth]['Initials']))\n",
    "        print('%s' % (paper['MedlineCitation']['Article']['Journal']['Title']) )\n",
    "        print(\"\")"
   ]
  },
  {
   "cell_type": "code",
   "execution_count": null,
   "metadata": {
    "collapsed": true
   },
   "outputs": [],
   "source": []
  }
 ],
 "metadata": {
  "kernelspec": {
   "display_name": "Python 3",
   "language": "python",
   "name": "python3"
  },
  "language_info": {
   "codemirror_mode": {
    "name": "ipython",
    "version": 3
   },
   "file_extension": ".py",
   "mimetype": "text/x-python",
   "name": "python",
   "nbconvert_exporter": "python",
   "pygments_lexer": "ipython3",
   "version": "3.6.2"
  }
 },
 "nbformat": 4,
 "nbformat_minor": 2
}
