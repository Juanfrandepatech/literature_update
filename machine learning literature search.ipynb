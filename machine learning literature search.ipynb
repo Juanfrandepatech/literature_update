{
 "cells": [
  {
   "cell_type": "code",
   "execution_count": 2,
   "metadata": {},
   "outputs": [],
   "source": [
    "%matplotlib inline\n",
    "documents = [\"Application of combined porous tantalum scaffolds loaded with bone morphogenetic protein 7 to repair of osteochondral defect in rabbits. \",\n",
    "            \"Establishing the relationship between loading parameters and bone adaptation. \",\n",
    "            \"Importance of a moderate plate-to-bone distance for the functioning of the far cortical locking system. \",\n",
    "            \"Biological and osseointegration capabilities of hierarchically (meso-/micro-/nano-scale) roughened zirconia. \",\n",
    "            \"Femoral neck stress in older adults during stair ascent and descent.\",\n",
    "            \"The mathematical simulation and study of the electrical resistance of the friction zone of the hip joint endoprosthesis with a metal-metal friction pair.\",\n",
    "            \"Joint center estimation using single-frame optimization: part 1: numerical simulation.  \",\n",
    "            \"The peripheral soft tissues should not be ignored in the finite element models of the human knee joint. \",\n",
    "             \"bone\",\n",
    "            \"Multidic: an open-source toolbox for multi-view 3d digital image correlation.\"]"
   ]
  },
  {
   "cell_type": "code",
   "execution_count": 3,
   "metadata": {},
   "outputs": [],
   "source": [
    "from sklearn.feature_extraction.text import TfidfVectorizer\n",
    "from sklearn.cluster import KMeans\n",
    "from sklearn.metrics import adjusted_rand_score\n",
    "import matplotlib.pyplot as plt\n",
    "import seaborn as sns; sns.set()\n",
    "import numpy as np"
   ]
  },
  {
   "cell_type": "code",
   "execution_count": 4,
   "metadata": {},
   "outputs": [
    {
     "name": "stdout",
     "output_type": "stream",
     "text": [
      "Top terms per cluster:\n",
      "Cluster 0:\n",
      " bone\n",
      " adaptation\n",
      "Cluster 1:\n",
      " joint\n",
      " simulation\n",
      "\n",
      "\n",
      "Prediction\n",
      "[0]\n",
      "[1]\n"
     ]
    }
   ],
   "source": [
    "#https://pythonprogramminglanguage.com/kmeans-text-clustering/\n",
    "vectorizer = TfidfVectorizer(stop_words='english')\n",
    "X = vectorizer.fit_transform(documents)\n",
    "\n",
    "true_k = 2\n",
    "model = KMeans(n_clusters=true_k, init='k-means++', max_iter=10, n_init=1)\n",
    "model.fit(X)\n",
    "\n",
    "print(\"Top terms per cluster:\")\n",
    "order_centroids = model.cluster_centers_.argsort()[:, ::-1]\n",
    "terms = vectorizer.get_feature_names()\n",
    "for i in range(true_k):\n",
    "    print(\"Cluster %d:\" % i),\n",
    "    for ind in order_centroids[i, :2]:\n",
    "        print(' %s' % terms[ind]),\n",
    "    print\n",
    "\n",
    "    \n",
    "print(\"\\n\")\n",
    "print(\"Prediction\")\n",
    "\n",
    "Y = vectorizer.transform([\"bone \"])\n",
    "prediction = model.predict(Y)\n",
    "print(prediction)\n",
    "\n",
    "\n",
    "Y = vectorizer.transform([\"simulation\"])\n",
    "prediction = model.predict(Y)\n",
    "print(prediction)"
   ]
  },
  {
   "cell_type": "code",
   "execution_count": 5,
   "metadata": {},
   "outputs": [
    {
     "ename": "ModuleNotFoundError",
     "evalue": "No module named 'textblob'",
     "output_type": "error",
     "traceback": [
      "\u001b[0;31m---------------------------------------------------------------------------\u001b[0m",
      "\u001b[0;31mModuleNotFoundError\u001b[0m                       Traceback (most recent call last)",
      "\u001b[0;32m<ipython-input-5-7318160459f8>\u001b[0m in \u001b[0;36m<module>\u001b[0;34m()\u001b[0m\n\u001b[1;32m      1\u001b[0m \u001b[0;31m#http://jonathansoma.com/lede/algorithms-2017/classes/clustering/k-means-clustering-with-scikit-learn/\u001b[0m\u001b[0;34m\u001b[0m\u001b[0;34m\u001b[0m\u001b[0m\n\u001b[1;32m      2\u001b[0m \u001b[0;32mimport\u001b[0m \u001b[0mpandas\u001b[0m \u001b[0;32mas\u001b[0m \u001b[0mpd\u001b[0m\u001b[0;34m\u001b[0m\u001b[0m\n\u001b[0;32m----> 3\u001b[0;31m \u001b[0;32mfrom\u001b[0m \u001b[0mtextblob\u001b[0m \u001b[0;32mimport\u001b[0m \u001b[0mTextBlob\u001b[0m\u001b[0;34m\u001b[0m\u001b[0m\n\u001b[0m\u001b[1;32m      4\u001b[0m \u001b[0;32mfrom\u001b[0m \u001b[0mmpl_toolkits\u001b[0m\u001b[0;34m.\u001b[0m\u001b[0mmplot3d\u001b[0m \u001b[0;32mimport\u001b[0m \u001b[0mAxes3D\u001b[0m\u001b[0;34m\u001b[0m\u001b[0m\n\u001b[1;32m      5\u001b[0m \u001b[0;32mdef\u001b[0m \u001b[0mtextblob_tokenizer\u001b[0m\u001b[0;34m(\u001b[0m\u001b[0mstr_input\u001b[0m\u001b[0;34m)\u001b[0m\u001b[0;34m:\u001b[0m\u001b[0;34m\u001b[0m\u001b[0m\n",
      "\u001b[0;31mModuleNotFoundError\u001b[0m: No module named 'textblob'"
     ]
    }
   ],
   "source": [
    "#http://jonathansoma.com/lede/algorithms-2017/classes/clustering/k-means-clustering-with-scikit-learn/\n",
    "import pandas as pd\n",
    "from textblob import TextBlob\n",
    "from mpl_toolkits.mplot3d import Axes3D\n",
    "def textblob_tokenizer(str_input):\n",
    "    blob = TextBlob(str_input.lower())\n",
    "    tokens = blob.words\n",
    "    words = [token.stem() for token in tokens]\n",
    "    return words\n",
    "\n",
    "vec = TfidfVectorizer(tokenizer=textblob_tokenizer,\n",
    "                    stop_words = 'english',\n",
    "                    use_idf = True,\n",
    "                    max_features=3)\n",
    "matrix = vec.fit_transform(documents)\n",
    "df = pd.DataFrame(matrix.toarray(), columns = vec.get_feature_names())\n",
    "print(df.head(2))\n",
    "\n",
    "#cluster\n",
    "km = KMeans(n_clusters = 4)\n",
    "km.fit(df)\n",
    "\n",
    "#assign the category to df\n",
    "df['category'] = km.labels_\n",
    "\n",
    "#build cmap\n",
    "colormap = {0: 'red', 1: 'green', 2: 'blue', 3: 'orange'}\n",
    "colors = df.apply(lambda row: colormap[row.category],axis = 1)\n",
    "\n",
    "\n",
    "def draw(ax, df):\n",
    "    colormap = { 0: 'red', 1: 'green', 2: 'blue', 3: 'orange' }\n",
    "    colors = df.apply(lambda row: colormap[row.category], axis=1)\n",
    "\n",
    "    ax.scatter(df['friction'], df['joint'], df['load'], c=colors, s=100, alpha=0.5)\n",
    "    ax.set_xlabel('friction')\n",
    "    ax.set_ylabel('joint')\n",
    "    ax.set_zlabel('load')\n",
    "\n",
    "chart_count_vert = 5\n",
    "chart_count_horiz = 5\n",
    "number_of_graphs = chart_count_vert * chart_count_horiz\n",
    "\n",
    "fig = plt.figure(figsize=(3 * chart_count_horiz, 3 * chart_count_vert))\n",
    "\n",
    "for i in range(number_of_graphs):\n",
    "    ax = fig.add_subplot(chart_count_horiz, chart_count_vert, i + 1, projection='3d', azim=(-360 / number_of_graphs) * i)\n",
    "    draw(ax, df)"
   ]
  },
  {
   "cell_type": "code",
   "execution_count": 6,
   "metadata": {},
   "outputs": [
    {
     "name": "stdout",
     "output_type": "stream",
     "text": [
      "    bone  factors\n",
      "0    1.0      0.0\n",
      "1    0.0      1.0\n",
      "2    0.0      0.0\n",
      "3    0.0      0.0\n",
      "4    0.0      1.0\n",
      "5    0.0      0.0\n",
      "6    0.0      0.0\n",
      "7    0.0      0.0\n",
      "8    0.0      0.0\n",
      "9    0.0      0.0\n",
      "10   0.0      0.0\n",
      "11   1.0      0.0\n",
      "12   0.0      0.0\n",
      "13   0.0      0.0\n",
      "14   0.0      0.0\n"
     ]
    },
    {
     "data": {
      "text/plain": [
       "array([0], dtype=int32)"
      ]
     },
     "execution_count": 6,
     "metadata": {},
     "output_type": "execute_result"
    }
   ],
   "source": [
    "#training list of titles and keywords (bone* AND muscle* )\n",
    "list1 = [\"Bone fracture healing\",\n",
    "         \"Chondrogenic growth factors\",\n",
    "         \"Dynamic loading\",\n",
    "         \"Mesenchymal stem cells\",\n",
    "         \"Osteogenic growth factors\",\n",
    "         \"Biomechanics\",\n",
    "        \" Cruciate\",\n",
    "        \"Knee\",\n",
    "        \"Laxity\",\n",
    "        \"Measurement\",\n",
    "        \"Rotatometer\",\n",
    "        \"graft-to-bone healing\",\n",
    "        \"ligament reconstruction\",\n",
    "        \"rabbit model\",\n",
    "        \"Trabecular microstructure\",\n",
    "        ]\n",
    "#test list\n",
    "list2 = [\"\"]\n",
    "         \n",
    "vectorizer = TfidfVectorizer(stop_words = 'english',                    \n",
    "                             use_idf = True,\n",
    "                            max_features =2)\n",
    "\n",
    "vec = vectorizer.fit(list1) #train vec using list1\n",
    "vectorized = vec.transform(list1) #transform list1 using vec\n",
    "km = KMeans(n_clusters = 2,\n",
    "           init = 'k-means++',\n",
    "           n_init = 1,\n",
    "           max_iter= 100,\n",
    "           precompute_distances = True,\n",
    "           random_state = None,\n",
    "           n_jobs =1)\n",
    "matrix = vec.fit_transform(list1)\n",
    "df = pd.DataFrame(matrix.toarray(), columns = vec.get_feature_names())\n",
    "print(df)\n",
    "\n",
    "km.fit(vectorized)\n",
    "list2Vec = vec.transform(list2) #transform list2 using vec\n",
    "km.predict(list2Vec)\n"
   ]
  },
  {
   "cell_type": "code",
   "execution_count": 6,
   "metadata": {},
   "outputs": [
    {
     "ename": "FileNotFoundError",
     "evalue": "File b'/Users/ryanalcantara/Google Drive/Subreddit/biomch_l_list.csv' does not exist",
     "output_type": "error",
     "traceback": [
      "\u001b[1;31m---------------------------------------------------------------------------\u001b[0m",
      "\u001b[1;31mFileNotFoundError\u001b[0m                         Traceback (most recent call last)",
      "\u001b[1;32m<ipython-input-6-fbfc67d8682c>\u001b[0m in \u001b[0;36m<module>\u001b[1;34m()\u001b[0m\n\u001b[0;32m      4\u001b[0m \u001b[1;32mimport\u001b[0m \u001b[0mnumpy\u001b[0m \u001b[1;32mas\u001b[0m \u001b[0mnp\u001b[0m\u001b[1;33m\u001b[0m\u001b[0m\n\u001b[0;32m      5\u001b[0m \u001b[1;31m#load data\u001b[0m\u001b[1;33m\u001b[0m\u001b[1;33m\u001b[0m\u001b[0m\n\u001b[1;32m----> 6\u001b[1;33m \u001b[0mdf\u001b[0m \u001b[1;33m=\u001b[0m \u001b[0mpd\u001b[0m\u001b[1;33m.\u001b[0m\u001b[0mread_csv\u001b[0m\u001b[1;33m(\u001b[0m\u001b[1;34m\"/Users/ryanalcantara/Google Drive/Subreddit/biomch_l_list.csv\"\u001b[0m\u001b[1;33m)\u001b[0m\u001b[1;33m\u001b[0m\u001b[0m\n\u001b[0m\u001b[0;32m      7\u001b[0m \u001b[1;33m\u001b[0m\u001b[0m\n\u001b[0;32m      8\u001b[0m \u001b[0mdf\u001b[0m\u001b[1;33m.\u001b[0m\u001b[0msample\u001b[0m\u001b[1;33m(\u001b[0m\u001b[1;36m5\u001b[0m\u001b[1;33m)\u001b[0m\u001b[1;33m\u001b[0m\u001b[0m\n",
      "\u001b[1;32m~\\Anaconda3\\lib\\site-packages\\pandas\\io\\parsers.py\u001b[0m in \u001b[0;36mparser_f\u001b[1;34m(filepath_or_buffer, sep, delimiter, header, names, index_col, usecols, squeeze, prefix, mangle_dupe_cols, dtype, engine, converters, true_values, false_values, skipinitialspace, skiprows, nrows, na_values, keep_default_na, na_filter, verbose, skip_blank_lines, parse_dates, infer_datetime_format, keep_date_col, date_parser, dayfirst, iterator, chunksize, compression, thousands, decimal, lineterminator, quotechar, quoting, escapechar, comment, encoding, dialect, tupleize_cols, error_bad_lines, warn_bad_lines, skipfooter, skip_footer, doublequote, delim_whitespace, as_recarray, compact_ints, use_unsigned, low_memory, buffer_lines, memory_map, float_precision)\u001b[0m\n\u001b[0;32m    707\u001b[0m                     skip_blank_lines=skip_blank_lines)\n\u001b[0;32m    708\u001b[0m \u001b[1;33m\u001b[0m\u001b[0m\n\u001b[1;32m--> 709\u001b[1;33m         \u001b[1;32mreturn\u001b[0m \u001b[0m_read\u001b[0m\u001b[1;33m(\u001b[0m\u001b[0mfilepath_or_buffer\u001b[0m\u001b[1;33m,\u001b[0m \u001b[0mkwds\u001b[0m\u001b[1;33m)\u001b[0m\u001b[1;33m\u001b[0m\u001b[0m\n\u001b[0m\u001b[0;32m    710\u001b[0m \u001b[1;33m\u001b[0m\u001b[0m\n\u001b[0;32m    711\u001b[0m     \u001b[0mparser_f\u001b[0m\u001b[1;33m.\u001b[0m\u001b[0m__name__\u001b[0m \u001b[1;33m=\u001b[0m \u001b[0mname\u001b[0m\u001b[1;33m\u001b[0m\u001b[0m\n",
      "\u001b[1;32m~\\Anaconda3\\lib\\site-packages\\pandas\\io\\parsers.py\u001b[0m in \u001b[0;36m_read\u001b[1;34m(filepath_or_buffer, kwds)\u001b[0m\n\u001b[0;32m    447\u001b[0m \u001b[1;33m\u001b[0m\u001b[0m\n\u001b[0;32m    448\u001b[0m     \u001b[1;31m# Create the parser.\u001b[0m\u001b[1;33m\u001b[0m\u001b[1;33m\u001b[0m\u001b[0m\n\u001b[1;32m--> 449\u001b[1;33m     \u001b[0mparser\u001b[0m \u001b[1;33m=\u001b[0m \u001b[0mTextFileReader\u001b[0m\u001b[1;33m(\u001b[0m\u001b[0mfilepath_or_buffer\u001b[0m\u001b[1;33m,\u001b[0m \u001b[1;33m**\u001b[0m\u001b[0mkwds\u001b[0m\u001b[1;33m)\u001b[0m\u001b[1;33m\u001b[0m\u001b[0m\n\u001b[0m\u001b[0;32m    450\u001b[0m \u001b[1;33m\u001b[0m\u001b[0m\n\u001b[0;32m    451\u001b[0m     \u001b[1;32mif\u001b[0m \u001b[0mchunksize\u001b[0m \u001b[1;32mor\u001b[0m \u001b[0miterator\u001b[0m\u001b[1;33m:\u001b[0m\u001b[1;33m\u001b[0m\u001b[0m\n",
      "\u001b[1;32m~\\Anaconda3\\lib\\site-packages\\pandas\\io\\parsers.py\u001b[0m in \u001b[0;36m__init__\u001b[1;34m(self, f, engine, **kwds)\u001b[0m\n\u001b[0;32m    816\u001b[0m             \u001b[0mself\u001b[0m\u001b[1;33m.\u001b[0m\u001b[0moptions\u001b[0m\u001b[1;33m[\u001b[0m\u001b[1;34m'has_index_names'\u001b[0m\u001b[1;33m]\u001b[0m \u001b[1;33m=\u001b[0m \u001b[0mkwds\u001b[0m\u001b[1;33m[\u001b[0m\u001b[1;34m'has_index_names'\u001b[0m\u001b[1;33m]\u001b[0m\u001b[1;33m\u001b[0m\u001b[0m\n\u001b[0;32m    817\u001b[0m \u001b[1;33m\u001b[0m\u001b[0m\n\u001b[1;32m--> 818\u001b[1;33m         \u001b[0mself\u001b[0m\u001b[1;33m.\u001b[0m\u001b[0m_make_engine\u001b[0m\u001b[1;33m(\u001b[0m\u001b[0mself\u001b[0m\u001b[1;33m.\u001b[0m\u001b[0mengine\u001b[0m\u001b[1;33m)\u001b[0m\u001b[1;33m\u001b[0m\u001b[0m\n\u001b[0m\u001b[0;32m    819\u001b[0m \u001b[1;33m\u001b[0m\u001b[0m\n\u001b[0;32m    820\u001b[0m     \u001b[1;32mdef\u001b[0m \u001b[0mclose\u001b[0m\u001b[1;33m(\u001b[0m\u001b[0mself\u001b[0m\u001b[1;33m)\u001b[0m\u001b[1;33m:\u001b[0m\u001b[1;33m\u001b[0m\u001b[0m\n",
      "\u001b[1;32m~\\Anaconda3\\lib\\site-packages\\pandas\\io\\parsers.py\u001b[0m in \u001b[0;36m_make_engine\u001b[1;34m(self, engine)\u001b[0m\n\u001b[0;32m   1047\u001b[0m     \u001b[1;32mdef\u001b[0m \u001b[0m_make_engine\u001b[0m\u001b[1;33m(\u001b[0m\u001b[0mself\u001b[0m\u001b[1;33m,\u001b[0m \u001b[0mengine\u001b[0m\u001b[1;33m=\u001b[0m\u001b[1;34m'c'\u001b[0m\u001b[1;33m)\u001b[0m\u001b[1;33m:\u001b[0m\u001b[1;33m\u001b[0m\u001b[0m\n\u001b[0;32m   1048\u001b[0m         \u001b[1;32mif\u001b[0m \u001b[0mengine\u001b[0m \u001b[1;33m==\u001b[0m \u001b[1;34m'c'\u001b[0m\u001b[1;33m:\u001b[0m\u001b[1;33m\u001b[0m\u001b[0m\n\u001b[1;32m-> 1049\u001b[1;33m             \u001b[0mself\u001b[0m\u001b[1;33m.\u001b[0m\u001b[0m_engine\u001b[0m \u001b[1;33m=\u001b[0m \u001b[0mCParserWrapper\u001b[0m\u001b[1;33m(\u001b[0m\u001b[0mself\u001b[0m\u001b[1;33m.\u001b[0m\u001b[0mf\u001b[0m\u001b[1;33m,\u001b[0m \u001b[1;33m**\u001b[0m\u001b[0mself\u001b[0m\u001b[1;33m.\u001b[0m\u001b[0moptions\u001b[0m\u001b[1;33m)\u001b[0m\u001b[1;33m\u001b[0m\u001b[0m\n\u001b[0m\u001b[0;32m   1050\u001b[0m         \u001b[1;32melse\u001b[0m\u001b[1;33m:\u001b[0m\u001b[1;33m\u001b[0m\u001b[0m\n\u001b[0;32m   1051\u001b[0m             \u001b[1;32mif\u001b[0m \u001b[0mengine\u001b[0m \u001b[1;33m==\u001b[0m \u001b[1;34m'python'\u001b[0m\u001b[1;33m:\u001b[0m\u001b[1;33m\u001b[0m\u001b[0m\n",
      "\u001b[1;32m~\\Anaconda3\\lib\\site-packages\\pandas\\io\\parsers.py\u001b[0m in \u001b[0;36m__init__\u001b[1;34m(self, src, **kwds)\u001b[0m\n\u001b[0;32m   1693\u001b[0m         \u001b[0mkwds\u001b[0m\u001b[1;33m[\u001b[0m\u001b[1;34m'allow_leading_cols'\u001b[0m\u001b[1;33m]\u001b[0m \u001b[1;33m=\u001b[0m \u001b[0mself\u001b[0m\u001b[1;33m.\u001b[0m\u001b[0mindex_col\u001b[0m \u001b[1;32mis\u001b[0m \u001b[1;32mnot\u001b[0m \u001b[1;32mFalse\u001b[0m\u001b[1;33m\u001b[0m\u001b[0m\n\u001b[0;32m   1694\u001b[0m \u001b[1;33m\u001b[0m\u001b[0m\n\u001b[1;32m-> 1695\u001b[1;33m         \u001b[0mself\u001b[0m\u001b[1;33m.\u001b[0m\u001b[0m_reader\u001b[0m \u001b[1;33m=\u001b[0m \u001b[0mparsers\u001b[0m\u001b[1;33m.\u001b[0m\u001b[0mTextReader\u001b[0m\u001b[1;33m(\u001b[0m\u001b[0msrc\u001b[0m\u001b[1;33m,\u001b[0m \u001b[1;33m**\u001b[0m\u001b[0mkwds\u001b[0m\u001b[1;33m)\u001b[0m\u001b[1;33m\u001b[0m\u001b[0m\n\u001b[0m\u001b[0;32m   1696\u001b[0m \u001b[1;33m\u001b[0m\u001b[0m\n\u001b[0;32m   1697\u001b[0m         \u001b[1;31m# XXX\u001b[0m\u001b[1;33m\u001b[0m\u001b[1;33m\u001b[0m\u001b[0m\n",
      "\u001b[1;32mpandas/_libs/parsers.pyx\u001b[0m in \u001b[0;36mpandas._libs.parsers.TextReader.__cinit__\u001b[1;34m()\u001b[0m\n",
      "\u001b[1;32mpandas/_libs/parsers.pyx\u001b[0m in \u001b[0;36mpandas._libs.parsers.TextReader._setup_parser_source\u001b[1;34m()\u001b[0m\n",
      "\u001b[1;31mFileNotFoundError\u001b[0m: File b'/Users/ryanalcantara/Google Drive/Subreddit/biomch_l_list.csv' does not exist"
     ]
    }
   ],
   "source": [
    "#https://towardsdatascience.com/a-production-ready-multi-class-text-classifier-96490408757\n",
    "\n",
    "import pandas as pd\n",
    "import numpy as np\n",
    "#load data\n",
    "df = pd.read_csv(\"/Users/ryanalcantara/Google Drive/Subreddit/biomch_l_list.csv\")\n",
    "\n",
    "df.sample(5)\n",
    "\n",
    "from collections import Counter\n",
    "Counter(df[\"topic\"])\n",
    "\n",
    "#preprocessing\n",
    "import re\n",
    "def clean_str(string):\n",
    "    \"\"\"\n",
    "    Tokenization/string cleaning for dataset\n",
    "    Every dataset is lower cased except\n",
    "    \"\"\"\n",
    "    string = re.sub(r\"\\n\", \"\", string)    \n",
    "    string = re.sub(r\"\\r\", \"\", string) \n",
    "    string = re.sub(r\"[0-9]\", \"digit\", string)\n",
    "    string = re.sub(r\"\\'\", \"\", string)    \n",
    "    string = re.sub(r\"\\\"\", \"\", string)    \n",
    "    return string.strip().lower()\n",
    "X = []\n",
    "for i in range(df.shape[0]):\n",
    "    X.append(clean_str(df.iloc[i][1]))\n",
    "y = np.array(df[\"topic\"])\n",
    "\n",
    "#train on 70% of data, test on 30%\n",
    "#train test split\n",
    "from sklearn.model_selection import train_test_split\n",
    "X_train, X_test, y_train, y_test = train_test_split(X,y,test_size=0.4,random_state=5)\n",
    "\n",
    "#pipeline\n",
    "from sklearn.pipeline import Pipeline\n",
    "from sklearn.feature_extraction.text import CountVectorizer, TfidfTransformer\n",
    "from sklearn.multiclass import OneVsRestClassifier\n",
    "from sklearn.svm import LinearSVC\n",
    "\n",
    "model = Pipeline([(\"vectorizer\", CountVectorizer()),\n",
    " (\"tfidf\", TfidfTransformer()),\n",
    " (\"clf\", OneVsRestClassifier(LinearSVC(class_weight= \"balanced\")))])\n",
    "#the class_weight=\"balanced\" option tries to remove the biasedness of model towards majority sample\n",
    "\n",
    "#paramater selection\n",
    "from sklearn.grid_search import GridSearchCV\n",
    "parameters = {'vectorizer__ngram_range': [(1, 1), (1, 2),(2,2)],\n",
    "               'tfidf__use_idf': (True, False)}\n",
    "gs_clf_svm = GridSearchCV(model, parameters, n_jobs=-1)\n",
    "gs_clf_svm = gs_clf_svm.fit(X, y)\n",
    "print(gs_clf_svm.best_score_)\n",
    "print(gs_clf_svm.best_params_)\n",
    "\n",
    "#preparing the final pipeline using the selected parameters\n",
    "model = Pipeline([('vectorizer', CountVectorizer(ngram_range=(1,2))),\n",
    "    ('tfidf', TfidfTransformer(use_idf=True)),\n",
    "    ('clf', OneVsRestClassifier(LinearSVC(class_weight=\"balanced\")))])\n",
    "\n",
    "#fit model with training data\n",
    "model.fit(X_train, y_train)\n",
    "#evaluation on test data\n",
    "pred = model.predict(X_test)\n",
    "from sklearn.metrics import confusion_matrix, accuracy_score\n",
    "confusion_matrix(pred, y_test)"
   ]
  },
  {
   "cell_type": "code",
   "execution_count": 10,
   "metadata": {},
   "outputs": [
    {
     "data": {
      "image/png": "[encoded data removed]",
      "text/plain": [
       "<matplotlib.figure.Figure at 0x1f6a1728588>"
      ]
     },
     "metadata": {},
     "output_type": "display_data"
    }
   ],
   "source": [
    "#https://towardsdatascience.com/multi-class-text-classification-with-scikit-learn-12f1e60e0a9f\n",
    "%matplotlib inline\n",
    "import pandas as pd\n",
    "from io import StringIO\n",
    "#mac\n",
    "#df = pd.read_csv(\"/Users/ryanalcantara/Google Drive/Subreddit/biomch_l_list.csv\")\n",
    "#pc\n",
    "df = pd.read_csv(r\"C:\\Users\\ryans\\Google Drive\\Subreddit\\biomch_l_list.csv\")\n",
    "df.sample(5)\n",
    "\n",
    "col = ['topic','title']\n",
    "df = df[col]\n",
    "df = df[pd.notnull(df['title'])]\n",
    "\n",
    "df.columns = ['topic','title']\n",
    "\n",
    "df['topic_id'] = df['topic'].factorize()[0]\n",
    "topic_id_df = df[['topic',\n",
    "                  'topic_id']].drop_duplicates().sort_values('topic_id')\n",
    "topic_to_id = dict(topic_id_df.values)\n",
    "id_to_topic = dict(topic_id_df[['topic_id','topic']].values)\n",
    "df.sample(5)\n",
    "\n",
    "#histo of topics (ideally have >600 each)\n",
    "import matplotlib.pyplot as plt\n",
    "plt.rc('xtick',labelsize = 20)\n",
    "plt.rc('ytick',labelsize = 20)\n",
    "fig = plt.figure(figsize= (20,10))\n",
    "df.groupby('topic').title.count().plot.bar(ylim=0)\n",
    "plt.xlabel(\"paper topic\",fontsize = 24)\n",
    "plt.show()\n"
   ]
  },
  {
   "cell_type": "code",
   "execution_count": 11,
   "metadata": {
    "scrolled": true
   },
   "outputs": [
    {
     "name": "stdout",
     "output_type": "stream",
     "text": [
      "(365, 4943)\n",
      "# 'Bone':\n",
      ". Most correlated unigrams:\n",
      " . fracture\n",
      " . bone\n",
      ". Most correlated bigrams:\n",
      " . healing rats\n",
      " . fracture healing\n",
      "\n",
      "# 'Gait_Loco':\n",
      ". Most correlated unigrams:\n",
      " . patients\n",
      " . gait\n",
      ". Most correlated bigrams:\n",
      " . knee osteoarthritis\n",
      " . parkinson disease\n",
      "\n",
      "# 'Modeling':\n",
      ". Most correlated unigrams:\n",
      " . finite\n",
      " . modeling\n",
      ". Most correlated bigrams:\n",
      " . patient specific\n",
      " . finite element\n",
      "\n",
      "# 'Muscle':\n",
      ". Most correlated unigrams:\n",
      " . muscles\n",
      " . muscle\n",
      ". Most correlated bigrams:\n",
      " . muscle force\n",
      " . skeletal muscle\n",
      "\n",
      "# 'Robotics':\n",
      ". Most correlated unigrams:\n",
      " . robots\n",
      " . robot\n",
      ". Most correlated bigrams:\n",
      " . hexapod robot\n",
      " . biped robot\n",
      "\n",
      "# 'Sport_Exer':\n",
      ". Most correlated unigrams:\n",
      " . soccer\n",
      " . jump\n",
      ". Most correlated bigrams:\n",
      " . female athletes\n",
      " . vertical jump\n",
      "\n"
     ]
    }
   ],
   "source": [
    "\n",
    "from sklearn.feature_extraction.text import TfidfVectorizer\n",
    "\n",
    "tfidf = TfidfVectorizer(sublinear_tf = True,\n",
    "                       min_df = 1,\n",
    "                       norm = 'l2',\n",
    "                       encoding = 'latin-1',\n",
    "                       ngram_range = (1,2),\n",
    "                       stop_words = 'english')\n",
    "\n",
    "features = tfidf.fit_transform(df.title).toarray()\n",
    "labels = df.topic_id\n",
    "print(features.shape) #(a,b) a num of titles is represented by b num of features\n",
    "\n",
    "from sklearn.feature_selection import chi2\n",
    "import numpy as np\n",
    "\n",
    "N = 2\n",
    "for topic, topic_id in sorted(topic_to_id.items()):\n",
    "    features_chi2 = chi2(features, labels == topic_id)\n",
    "    indices = np.argsort(features_chi2[0])\n",
    "    feature_names = np.array(tfidf.get_feature_names())[indices]\n",
    "    unigrams = [v for v in feature_names if len(v.split(' ')) == 1]\n",
    "    bigrams = [v for v in feature_names if len(v.split(' ')) == 2]\n",
    "    print(\"# '{}':\".format(topic))\n",
    "    print(\". Most correlated unigrams:\\n . {}\".format('\\n . '.join(unigrams[-N:])))\n",
    "    print(\". Most correlated bigrams:\\n . {}\".format('\\n . '.join(bigrams[-N:])))\n",
    "    print(\"\")"
   ]
  },
  {
   "cell_type": "code",
   "execution_count": 17,
   "metadata": {},
   "outputs": [
    {
     "name": "stdout",
     "output_type": "stream",
     "text": [
      "['Gait_Loco']\n"
     ]
    }
   ],
   "source": [
    "#naive bayes classifier\n",
    "from sklearn.model_selection import train_test_split\n",
    "from sklearn.feature_extraction.text import CountVectorizer\n",
    "from sklearn.feature_extraction.text import TfidfTransformer\n",
    "from sklearn.naive_bayes import MultinomialNB\n",
    "\n",
    "X_train, X_test, y_train, y_test = train_test_split(df['title'],\n",
    "                                                    df['topic'],\n",
    "                                                    random_state = 0)\n",
    "count_vect = CountVectorizer()\n",
    "X_train_counts = count_vect.fit_transform(X_train)\n",
    "tfidf_transformer = TfidfTransformer()\n",
    "X_train_tfidf = tfidf_transformer.fit_transform(X_train_counts)\n",
    "\n",
    "clf = MultinomialNB().fit(X_train_tfidf,y_train)\n",
    "\n",
    "print(clf.predict(count_vect.transform([\n",
    "    \"The simple chaotic model of passive dynamic walking. \",\n",
    "]))) #\n",
    "#needs some help still...\n",
    "\n",
    "#df[df['title'] == \"Journey into bone models: a review.\"]\n",
    "#not broken!\n",
    "\n"
   ]
  },
  {
   "cell_type": "code",
   "execution_count": 13,
   "metadata": {},
   "outputs": [
    {
     "data": {
      "image/png": "[encoded data removed]",
      "text/plain": [
       "<matplotlib.figure.Figure at 0x1f6a1dde7b8>"
      ]
     },
     "metadata": {},
     "output_type": "display_data"
    },
    {
     "data": {
      "text/plain": [
       "model_name\n",
       "LinearSVC                 0.756257\n",
       "LogisticRegression        0.479513\n",
       "MultinomialNB             0.463360\n",
       "RandomForestClassifier    0.303861\n",
       "Name: accuracy, dtype: float64"
      ]
     },
     "execution_count": 13,
     "metadata": {},
     "output_type": "execute_result"
    }
   ],
   "source": [
    "#model selection!\n",
    "\n",
    "from sklearn.linear_model import LogisticRegression\n",
    "from sklearn.ensemble import RandomForestClassifier\n",
    "from sklearn.svm import LinearSVC\n",
    "from sklearn.model_selection import cross_val_score\n",
    "models = [\n",
    "    RandomForestClassifier(n_estimators=200, max_depth=3, random_state=0),\n",
    "    LinearSVC(),\n",
    "    MultinomialNB(),\n",
    "    LogisticRegression(random_state=0),\n",
    "]\n",
    "CV = 5\n",
    "cv_df = pd.DataFrame(index=range(CV * len(models)))\n",
    "entries = []\n",
    "for model in models:\n",
    "    model_name = model.__class__.__name__\n",
    "    accuracies = cross_val_score(model, features, labels, scoring='accuracy', cv=CV)\n",
    "    for fold_idx, accuracy in enumerate(accuracies):\n",
    "        entries.append((model_name, fold_idx, accuracy))\n",
    "cv_df = pd.DataFrame(entries, columns=['model_name', 'fold_idx', 'accuracy'])\n",
    "import seaborn as sns\n",
    "plt.rc('xtick',labelsize = 12)\n",
    "plt.rc('ytick',labelsize = 12)\n",
    "sns.boxplot(x='model_name', y='accuracy', data=cv_df)\n",
    "sns.stripplot(x='model_name', y='accuracy', data=cv_df, \n",
    "              size=8, jitter=True, edgecolor=\"gray\", linewidth=2)\n",
    "\n",
    "plt.xticks( rotation='25')\n",
    "\n",
    "plt.show()\n",
    "\n",
    "cv_df.groupby('model_name').accuracy.mean()"
   ]
  },
  {
   "cell_type": "code",
   "execution_count": 14,
   "metadata": {},
   "outputs": [
    {
     "data": {
      "image/png": "[encoded data removed]",
      "text/plain": [
       "<matplotlib.figure.Figure at 0x1f6a1669dd8>"
      ]
     },
     "metadata": {},
     "output_type": "display_data"
    }
   ],
   "source": [
    "model = LinearSVC()\n",
    "\n",
    "X_train, X_test, y_train, y_test, indices_train, indices_test = train_test_split(features, labels, df.index, test_size=0.33, random_state=0)\n",
    "model.fit(X_train, y_train)\n",
    "y_pred = model.predict(X_test)\n",
    "from sklearn.metrics import confusion_matrix\n",
    "plt.rc('xtick',labelsize = 20)\n",
    "plt.rc('ytick',labelsize = 20)\n",
    "conf_mat = confusion_matrix(y_test, y_pred)\n",
    "fig, ax = plt.subplots(figsize=(10,10))\n",
    "fig.tight_layout(pad = 8)\n",
    "sns.set(font_scale=1.2) #font size multiplier\n",
    "sns.heatmap(conf_mat, annot=True, fmt='d', cmap = 'magma',\n",
    "            xticklabels=topic_id_df.topic.values, yticklabels=topic_id_df.topic.values)\n",
    "\n",
    "plt.ylabel('Actual',fontsize = 20)\n",
    "plt.xlabel('Predicted',fontsize = 20)\n",
    "plt.title('Number of Predicted vs. Actual Paper Topics', fontsize = 26)\n",
    "plt.yticks( rotation='horizontal')\n",
    "\n",
    "plt.savefig('biomchL_predict_plot.png')\n",
    "plt.show()\n",
    "#but what is confusing it?"
   ]
  },
  {
   "cell_type": "code",
   "execution_count": 143,
   "metadata": {},
   "outputs": [
    {
     "name": "stdout",
     "output_type": "stream",
     "text": [
      "'Robotics' predicted as 'Gait_Loco' : 2 examples.\n"
     ]
    },
    {
     "data": {
      "text/html": [
       "<div>\n",
       "<style>\n",
       "    .dataframe thead tr:only-child th {\n",
       "        text-align: right;\n",
       "    }\n",
       "\n",
       "    .dataframe thead th {\n",
       "        text-align: left;\n",
       "    }\n",
       "\n",
       "    .dataframe tbody tr th {\n",
       "        vertical-align: top;\n",
       "    }\n",
       "</style>\n",
       "<table border=\"1\" class=\"dataframe\">\n",
       "  <thead>\n",
       "    <tr style=\"text-align: right;\">\n",
       "      <th></th>\n",
       "      <th>topic</th>\n",
       "      <th>title</th>\n",
       "    </tr>\n",
       "  </thead>\n",
       "  <tbody>\n",
       "    <tr>\n",
       "      <th>22</th>\n",
       "      <td>Robotics</td>\n",
       "      <td>Bipedal robotic walking control derived from a...</td>\n",
       "    </tr>\n",
       "    <tr>\n",
       "      <th>218</th>\n",
       "      <td>Robotics</td>\n",
       "      <td>Dynamic humanoid locomotion: a scalable formul...</td>\n",
       "    </tr>\n",
       "  </tbody>\n",
       "</table>\n",
       "</div>"
      ],
      "text/plain": [
       "        topic                                              title\n",
       "22   Robotics  Bipedal robotic walking control derived from a...\n",
       "218  Robotics  Dynamic humanoid locomotion: a scalable formul..."
      ]
     },
     "metadata": {},
     "output_type": "display_data"
    },
    {
     "name": "stdout",
     "output_type": "stream",
     "text": [
      "\n",
      "'Sport_Exer' predicted as 'Gait_Loco' : 2 examples.\n"
     ]
    },
    {
     "data": {
      "text/html": [
       "<div>\n",
       "<style>\n",
       "    .dataframe thead tr:only-child th {\n",
       "        text-align: right;\n",
       "    }\n",
       "\n",
       "    .dataframe thead th {\n",
       "        text-align: left;\n",
       "    }\n",
       "\n",
       "    .dataframe tbody tr th {\n",
       "        vertical-align: top;\n",
       "    }\n",
       "</style>\n",
       "<table border=\"1\" class=\"dataframe\">\n",
       "  <thead>\n",
       "    <tr style=\"text-align: right;\">\n",
       "      <th></th>\n",
       "      <th>topic</th>\n",
       "      <th>title</th>\n",
       "    </tr>\n",
       "  </thead>\n",
       "  <tbody>\n",
       "    <tr>\n",
       "      <th>78</th>\n",
       "      <td>Sport_Exer</td>\n",
       "      <td>Who skips? using temperament to explain differ...</td>\n",
       "    </tr>\n",
       "    <tr>\n",
       "      <th>179</th>\n",
       "      <td>Sport_Exer</td>\n",
       "      <td>Comparison of daily physical activity paramete...</td>\n",
       "    </tr>\n",
       "  </tbody>\n",
       "</table>\n",
       "</div>"
      ],
      "text/plain": [
       "          topic                                              title\n",
       "78   Sport_Exer  Who skips? using temperament to explain differ...\n",
       "179  Sport_Exer  Comparison of daily physical activity paramete..."
      ]
     },
     "metadata": {},
     "output_type": "display_data"
    },
    {
     "name": "stdout",
     "output_type": "stream",
     "text": [
      "\n",
      "'Gait_Loco' predicted as 'Sport_Exer' : 2 examples.\n"
     ]
    },
    {
     "data": {
      "text/html": [
       "<div>\n",
       "<style>\n",
       "    .dataframe thead tr:only-child th {\n",
       "        text-align: right;\n",
       "    }\n",
       "\n",
       "    .dataframe thead th {\n",
       "        text-align: left;\n",
       "    }\n",
       "\n",
       "    .dataframe tbody tr th {\n",
       "        vertical-align: top;\n",
       "    }\n",
       "</style>\n",
       "<table border=\"1\" class=\"dataframe\">\n",
       "  <thead>\n",
       "    <tr style=\"text-align: right;\">\n",
       "      <th></th>\n",
       "      <th>topic</th>\n",
       "      <th>title</th>\n",
       "    </tr>\n",
       "  </thead>\n",
       "  <tbody>\n",
       "    <tr>\n",
       "      <th>200</th>\n",
       "      <td>Gait_Loco</td>\n",
       "      <td>Critical and sub-critical load-induced knee in...</td>\n",
       "    </tr>\n",
       "    <tr>\n",
       "      <th>150</th>\n",
       "      <td>Gait_Loco</td>\n",
       "      <td>Lower extremity power training improves healt...</td>\n",
       "    </tr>\n",
       "  </tbody>\n",
       "</table>\n",
       "</div>"
      ],
      "text/plain": [
       "         topic                                              title\n",
       "200  Gait_Loco  Critical and sub-critical load-induced knee in...\n",
       "150  Gait_Loco   Lower extremity power training improves healt..."
      ]
     },
     "metadata": {},
     "output_type": "display_data"
    },
    {
     "name": "stdout",
     "output_type": "stream",
     "text": [
      "\n",
      "'Robotics' predicted as 'Sport_Exer' : 2 examples.\n"
     ]
    },
    {
     "data": {
      "text/html": [
       "<div>\n",
       "<style>\n",
       "    .dataframe thead tr:only-child th {\n",
       "        text-align: right;\n",
       "    }\n",
       "\n",
       "    .dataframe thead th {\n",
       "        text-align: left;\n",
       "    }\n",
       "\n",
       "    .dataframe tbody tr th {\n",
       "        vertical-align: top;\n",
       "    }\n",
       "</style>\n",
       "<table border=\"1\" class=\"dataframe\">\n",
       "  <thead>\n",
       "    <tr style=\"text-align: right;\">\n",
       "      <th></th>\n",
       "      <th>topic</th>\n",
       "      <th>title</th>\n",
       "    </tr>\n",
       "  </thead>\n",
       "  <tbody>\n",
       "    <tr>\n",
       "      <th>206</th>\n",
       "      <td>Robotics</td>\n",
       "      <td>Predicting and optimizing microswimmer perform...</td>\n",
       "    </tr>\n",
       "    <tr>\n",
       "      <th>213</th>\n",
       "      <td>Robotics</td>\n",
       "      <td>Local force cues for strength and stability in...</td>\n",
       "    </tr>\n",
       "  </tbody>\n",
       "</table>\n",
       "</div>"
      ],
      "text/plain": [
       "        topic                                              title\n",
       "206  Robotics  Predicting and optimizing microswimmer perform...\n",
       "213  Robotics  Local force cues for strength and stability in..."
      ]
     },
     "metadata": {},
     "output_type": "display_data"
    },
    {
     "name": "stdout",
     "output_type": "stream",
     "text": [
      "\n",
      "'Robotics' predicted as 'Modeling' : 8 examples.\n"
     ]
    },
    {
     "data": {
      "text/html": [
       "<div>\n",
       "<style>\n",
       "    .dataframe thead tr:only-child th {\n",
       "        text-align: right;\n",
       "    }\n",
       "\n",
       "    .dataframe thead th {\n",
       "        text-align: left;\n",
       "    }\n",
       "\n",
       "    .dataframe tbody tr th {\n",
       "        vertical-align: top;\n",
       "    }\n",
       "</style>\n",
       "<table border=\"1\" class=\"dataframe\">\n",
       "  <thead>\n",
       "    <tr style=\"text-align: right;\">\n",
       "      <th></th>\n",
       "      <th>topic</th>\n",
       "      <th>title</th>\n",
       "    </tr>\n",
       "  </thead>\n",
       "  <tbody>\n",
       "    <tr>\n",
       "      <th>90</th>\n",
       "      <td>Robotics</td>\n",
       "      <td>Micro-ufo (untethered floating object): a high...</td>\n",
       "    </tr>\n",
       "    <tr>\n",
       "      <th>221</th>\n",
       "      <td>Robotics</td>\n",
       "      <td>Derivation of motion equation for mobile mani...</td>\n",
       "    </tr>\n",
       "    <tr>\n",
       "      <th>59</th>\n",
       "      <td>Robotics</td>\n",
       "      <td>Biomedical applications of soft robotics.</td>\n",
       "    </tr>\n",
       "    <tr>\n",
       "      <th>113</th>\n",
       "      <td>Robotics</td>\n",
       "      <td>Flow interactions of two- and three-dimensiona...</td>\n",
       "    </tr>\n",
       "    <tr>\n",
       "      <th>54</th>\n",
       "      <td>Robotics</td>\n",
       "      <td>A novel hardware-efficient cpg model based on ...</td>\n",
       "    </tr>\n",
       "    <tr>\n",
       "      <th>52</th>\n",
       "      <td>Robotics</td>\n",
       "      <td>A bio-hybrid dna rotor-stator nanoengine that ...</td>\n",
       "    </tr>\n",
       "    <tr>\n",
       "      <th>204</th>\n",
       "      <td>Robotics</td>\n",
       "      <td>Reconfigurable paramagnetic microswimmers: bro...</td>\n",
       "    </tr>\n",
       "    <tr>\n",
       "      <th>208</th>\n",
       "      <td>Robotics</td>\n",
       "      <td>Use the force: deformation correction in robot...</td>\n",
       "    </tr>\n",
       "  </tbody>\n",
       "</table>\n",
       "</div>"
      ],
      "text/plain": [
       "        topic                                              title\n",
       "90   Robotics  Micro-ufo (untethered floating object): a high...\n",
       "221  Robotics   Derivation of motion equation for mobile mani...\n",
       "59   Robotics          Biomedical applications of soft robotics.\n",
       "113  Robotics  Flow interactions of two- and three-dimensiona...\n",
       "54   Robotics  A novel hardware-efficient cpg model based on ...\n",
       "52   Robotics  A bio-hybrid dna rotor-stator nanoengine that ...\n",
       "204  Robotics  Reconfigurable paramagnetic microswimmers: bro...\n",
       "208  Robotics  Use the force: deformation correction in robot..."
      ]
     },
     "metadata": {},
     "output_type": "display_data"
    },
    {
     "name": "stdout",
     "output_type": "stream",
     "text": [
      "\n",
      "'Sport_Exer' predicted as 'Modeling' : 3 examples.\n"
     ]
    },
    {
     "data": {
      "text/html": [
       "<div>\n",
       "<style>\n",
       "    .dataframe thead tr:only-child th {\n",
       "        text-align: right;\n",
       "    }\n",
       "\n",
       "    .dataframe thead th {\n",
       "        text-align: left;\n",
       "    }\n",
       "\n",
       "    .dataframe tbody tr th {\n",
       "        vertical-align: top;\n",
       "    }\n",
       "</style>\n",
       "<table border=\"1\" class=\"dataframe\">\n",
       "  <thead>\n",
       "    <tr style=\"text-align: right;\">\n",
       "      <th></th>\n",
       "      <th>topic</th>\n",
       "      <th>title</th>\n",
       "    </tr>\n",
       "  </thead>\n",
       "  <tbody>\n",
       "    <tr>\n",
       "      <th>37</th>\n",
       "      <td>Sport_Exer</td>\n",
       "      <td>Kinetic demands of sprinting shift across the ...</td>\n",
       "    </tr>\n",
       "    <tr>\n",
       "      <th>65</th>\n",
       "      <td>Sport_Exer</td>\n",
       "      <td>Electromyographic and joint kinematic patterns...</td>\n",
       "    </tr>\n",
       "    <tr>\n",
       "      <th>74</th>\n",
       "      <td>Sport_Exer</td>\n",
       "      <td>A wearable sensor-based exercise biofeedback s...</td>\n",
       "    </tr>\n",
       "  </tbody>\n",
       "</table>\n",
       "</div>"
      ],
      "text/plain": [
       "         topic                                              title\n",
       "37  Sport_Exer  Kinetic demands of sprinting shift across the ...\n",
       "65  Sport_Exer  Electromyographic and joint kinematic patterns...\n",
       "74  Sport_Exer  A wearable sensor-based exercise biofeedback s..."
      ]
     },
     "metadata": {},
     "output_type": "display_data"
    },
    {
     "name": "stdout",
     "output_type": "stream",
     "text": [
      "\n",
      "'Muscle' predicted as 'Modeling' : 2 examples.\n"
     ]
    },
    {
     "data": {
      "text/html": [
       "<div>\n",
       "<style>\n",
       "    .dataframe thead tr:only-child th {\n",
       "        text-align: right;\n",
       "    }\n",
       "\n",
       "    .dataframe thead th {\n",
       "        text-align: left;\n",
       "    }\n",
       "\n",
       "    .dataframe tbody tr th {\n",
       "        vertical-align: top;\n",
       "    }\n",
       "</style>\n",
       "<table border=\"1\" class=\"dataframe\">\n",
       "  <thead>\n",
       "    <tr style=\"text-align: right;\">\n",
       "      <th></th>\n",
       "      <th>topic</th>\n",
       "      <th>title</th>\n",
       "    </tr>\n",
       "  </thead>\n",
       "  <tbody>\n",
       "    <tr>\n",
       "      <th>329</th>\n",
       "      <td>Muscle</td>\n",
       "      <td>Proximal biceps long head: anatomy, biomechani...</td>\n",
       "    </tr>\n",
       "    <tr>\n",
       "      <th>361</th>\n",
       "      <td>Muscle</td>\n",
       "      <td>Diaphragmatic dysfunction in sepsis due to sev...</td>\n",
       "    </tr>\n",
       "  </tbody>\n",
       "</table>\n",
       "</div>"
      ],
      "text/plain": [
       "      topic                                              title\n",
       "329  Muscle  Proximal biceps long head: anatomy, biomechani...\n",
       "361  Muscle  Diaphragmatic dysfunction in sepsis due to sev..."
      ]
     },
     "metadata": {},
     "output_type": "display_data"
    },
    {
     "name": "stdout",
     "output_type": "stream",
     "text": [
      "\n",
      "             precision    recall  f1-score   support\n",
      "\n",
      "       Bone       1.00      0.93      0.97        15\n",
      "  Gait_Loco       0.76      0.84      0.80        19\n",
      "   Robotics       1.00      0.57      0.73        28\n",
      " Sport_Exer       0.74      0.74      0.74        19\n",
      "   Modeling       0.67      1.00      0.80        30\n",
      "     Muscle       1.00      0.60      0.75        10\n",
      "\n",
      "avg / total       0.84      0.79      0.79       121\n",
      "\n"
     ]
    }
   ],
   "source": [
    "from IPython.display import display\n",
    "\n",
    "for predicted in topic_id_df.topic_id:\n",
    "    for actual in topic_id_df.topic_id:\n",
    "        if predicted != actual and conf_mat[actual, predicted] >= 2:\n",
    "            print(\"'{}' predicted as '{}' : {} examples.\".format(id_to_topic[actual], id_to_topic[predicted], conf_mat[actual, predicted]))\n",
    "            display(df.loc[indices_test[(y_test == actual) & (y_pred == predicted)]][['topic', 'title']])\n",
    "            print('')\n",
    "            \n",
    "\n",
    "from sklearn import metrics\n",
    "print(metrics.classification_report(y_test, y_pred, target_names=df['topic'].unique()))"
   ]
  },
  {
   "cell_type": "code",
   "execution_count": null,
   "metadata": {
    "collapsed": true
   },
   "outputs": [],
   "source": []
  }
 ],
 "metadata": {
  "kernelspec": {
   "display_name": "Python 3",
   "language": "python",
   "name": "python3"
  },
  "language_info": {
   "codemirror_mode": {
    "name": "ipython",
    "version": 3
   },
   "file_extension": ".py",
   "mimetype": "text/x-python",
   "name": "python",
   "nbconvert_exporter": "python",
   "pygments_lexer": "ipython3",
   "version": "3.7.0"
  }
 },
 "nbformat": 4,
 "nbformat_minor": 2
}
